{
 "cells": [
  {
   "cell_type": "markdown",
   "id": "33e83c9b",
   "metadata": {},
   "source": [
    "# Model Knn : Amélioration d'un model de données\n",
    "# sur les données Ddos"
   ]
  },
  {
   "cell_type": "markdown",
   "id": "1c18ea6f",
   "metadata": {},
   "source": [
    "## 1 Chargement des librairies"
   ]
  },
  {
   "cell_type": "code",
   "execution_count": 1,
   "id": "d0f2b7c1",
   "metadata": {},
   "outputs": [],
   "source": [
    "\n",
    "\n",
    "# Librairies\n",
    "import pandas as pd\n",
    "import numpy as np\n",
    "import re\n",
    "\n",
    "# Graphiques\n",
    "import seaborn as sns ; sns.set()\n",
    "import matplotlib.pyplot as plt\n",
    "import matplotlib.gridspec as gridspec\n",
    "from sklearn.model_selection import learning_curve\n",
    "\n",
    "\n",
    "# Machine learning - Preprocessing\n",
    "from sklearn.compose import ColumnTransformer\n",
    "from sklearn.impute import SimpleImputer\n",
    "from sklearn.feature_selection import SelectKBest, mutual_info_classif\n",
    "from sklearn.preprocessing import LabelEncoder, StandardScaler, MinMaxScaler, OneHotEncoder\n",
    "\n",
    "# Machine learning - Modèle d'apprentissage supervisé\n",
    "from sklearn.neighbors import KNeighborsClassifier\n",
    "\n",
    "# Machine learning - Modèle selection\n",
    "from sklearn.model_selection import train_test_split\n",
    "from sklearn.model_selection import cross_val_score\n",
    "from sklearn.pipeline import Pipeline\n",
    "from sklearn.model_selection import GridSearchCV, train_test_split\n",
    "import pickle\n",
    "from typing import Tuple\n",
    "\n",
    "# Machine learning - Métriques d'erreur\n",
    "from sklearn.metrics import mean_absolute_error\n",
    "from sklearn.metrics import accuracy_score\n",
    "from sklearn.metrics import confusion_matrix, ConfusionMatrixDisplay\n",
    "from sklearn import metrics \n",
    "from sklearn.metrics import precision_score\n",
    "from sklearn.metrics import recall_score\n",
    "from sklearn.metrics import f1_score\n",
    "from sklearn.metrics import classification_report\n",
    "import scikitplot.metrics as splt\n",
    "from sklearn.metrics import ConfusionMatrixDisplay\n",
    "import itertools\n",
    "\n"
   ]
  },
  {
   "cell_type": "markdown",
   "id": "a174eabf",
   "metadata": {},
   "source": [
    "## 2 Chargement des fichiers"
   ]
  },
  {
   "cell_type": "code",
   "execution_count": 2,
   "id": "d16bd4a7",
   "metadata": {},
   "outputs": [],
   "source": [
    "test = 'https://raw.githubusercontent.com/Marceline37/securit-/main/KDDTest%2B.txt'\n",
    "train ='https://raw.githubusercontent.com/Marceline37/securit-/main/KDDTrain%2B.txt'"
   ]
  },
  {
   "cell_type": "code",
   "execution_count": 3,
   "id": "eeacd118",
   "metadata": {},
   "outputs": [],
   "source": [
    "df = pd.read_csv(train)"
   ]
  },
  {
   "cell_type": "code",
   "execution_count": 4,
   "id": "8c9f4806",
   "metadata": {},
   "outputs": [],
   "source": [
    "df1 = pd.read_csv(test)"
   ]
  },
  {
   "cell_type": "code",
   "execution_count": 5,
   "id": "95426cd8",
   "metadata": {},
   "outputs": [],
   "source": [
    "# Mise en place des noms de colonnnes sur les deux dataframes\n",
    "columns = (['duration'\n",
    ",'protocol_type'\n",
    ",'service'\n",
    ",'flag'\n",
    ",'src_bytes'\n",
    ",'dst_bytes'\n",
    ",'land'\n",
    ",'wrong_fragment'\n",
    ",'urgent'\n",
    ",'hot'\n",
    ",'num_failed_logins'\n",
    ",'logged_in'\n",
    ",'num_compromised'\n",
    ",'root_shell'\n",
    ",'su_attempted'\n",
    ",'num_root'\n",
    ",'num_file_creations'\n",
    ",'num_shells'\n",
    ",'num_access_files'\n",
    ",'num_outbound_cmds'\n",
    ",'is_host_login'\n",
    ",'is_guest_login'\n",
    ",'count'\n",
    ",'srv_count'\n",
    ",'serror_rate'\n",
    ",'srv_serror_rate'\n",
    ",'rerror_rate'\n",
    ",'srv_rerror_rate'\n",
    ",'same_srv_rate'\n",
    ",'diff_srv_rate'\n",
    ",'srv_diff_host_rate'\n",
    ",'dst_host_count'\n",
    ",'dst_host_srv_count'\n",
    ",'dst_host_same_srv_rate'\n",
    ",'dst_host_diff_srv_rate'\n",
    ",'dst_host_same_src_port_rate'\n",
    ",'dst_host_srv_diff_host_rate'\n",
    ",'dst_host_serror_rate'\n",
    ",'dst_host_srv_serror_rate'\n",
    ",'dst_host_rerror_rate'\n",
    ",'dst_host_srv_rerror_rate'\n",
    ",'attack'\n",
    ",'level'])\n",
    "df.columns = columns\n",
    "df1.columns = columns"
   ]
  },
  {
   "cell_type": "code",
   "execution_count": 6,
   "id": "51c2d37e",
   "metadata": {},
   "outputs": [],
   "source": [
    "# Concaténation de df et df1\n",
    "df = pd.concat([df, df1], ignore_index=True)"
   ]
  },
  {
   "cell_type": "code",
   "execution_count": 7,
   "id": "6ec01a3f",
   "metadata": {},
   "outputs": [
    {
     "data": {
      "text/html": [
       "<div>\n",
       "<style scoped>\n",
       "    .dataframe tbody tr th:only-of-type {\n",
       "        vertical-align: middle;\n",
       "    }\n",
       "\n",
       "    .dataframe tbody tr th {\n",
       "        vertical-align: top;\n",
       "    }\n",
       "\n",
       "    .dataframe thead th {\n",
       "        text-align: right;\n",
       "    }\n",
       "</style>\n",
       "<table border=\"1\" class=\"dataframe\">\n",
       "  <thead>\n",
       "    <tr style=\"text-align: right;\">\n",
       "      <th></th>\n",
       "      <th>duration</th>\n",
       "      <th>protocol_type</th>\n",
       "      <th>service</th>\n",
       "      <th>flag</th>\n",
       "      <th>src_bytes</th>\n",
       "      <th>dst_bytes</th>\n",
       "      <th>land</th>\n",
       "      <th>wrong_fragment</th>\n",
       "      <th>urgent</th>\n",
       "      <th>hot</th>\n",
       "      <th>...</th>\n",
       "      <th>dst_host_same_srv_rate</th>\n",
       "      <th>dst_host_diff_srv_rate</th>\n",
       "      <th>dst_host_same_src_port_rate</th>\n",
       "      <th>dst_host_srv_diff_host_rate</th>\n",
       "      <th>dst_host_serror_rate</th>\n",
       "      <th>dst_host_srv_serror_rate</th>\n",
       "      <th>dst_host_rerror_rate</th>\n",
       "      <th>dst_host_srv_rerror_rate</th>\n",
       "      <th>attack</th>\n",
       "      <th>level</th>\n",
       "    </tr>\n",
       "  </thead>\n",
       "  <tbody>\n",
       "    <tr>\n",
       "      <th>0</th>\n",
       "      <td>0</td>\n",
       "      <td>udp</td>\n",
       "      <td>other</td>\n",
       "      <td>SF</td>\n",
       "      <td>146</td>\n",
       "      <td>0</td>\n",
       "      <td>0</td>\n",
       "      <td>0</td>\n",
       "      <td>0</td>\n",
       "      <td>0</td>\n",
       "      <td>...</td>\n",
       "      <td>0.00</td>\n",
       "      <td>0.60</td>\n",
       "      <td>0.88</td>\n",
       "      <td>0.00</td>\n",
       "      <td>0.00</td>\n",
       "      <td>0.00</td>\n",
       "      <td>0.00</td>\n",
       "      <td>0.00</td>\n",
       "      <td>normal</td>\n",
       "      <td>15</td>\n",
       "    </tr>\n",
       "    <tr>\n",
       "      <th>1</th>\n",
       "      <td>0</td>\n",
       "      <td>tcp</td>\n",
       "      <td>private</td>\n",
       "      <td>S0</td>\n",
       "      <td>0</td>\n",
       "      <td>0</td>\n",
       "      <td>0</td>\n",
       "      <td>0</td>\n",
       "      <td>0</td>\n",
       "      <td>0</td>\n",
       "      <td>...</td>\n",
       "      <td>0.10</td>\n",
       "      <td>0.05</td>\n",
       "      <td>0.00</td>\n",
       "      <td>0.00</td>\n",
       "      <td>1.00</td>\n",
       "      <td>1.00</td>\n",
       "      <td>0.00</td>\n",
       "      <td>0.00</td>\n",
       "      <td>neptune</td>\n",
       "      <td>19</td>\n",
       "    </tr>\n",
       "    <tr>\n",
       "      <th>2</th>\n",
       "      <td>0</td>\n",
       "      <td>tcp</td>\n",
       "      <td>http</td>\n",
       "      <td>SF</td>\n",
       "      <td>232</td>\n",
       "      <td>8153</td>\n",
       "      <td>0</td>\n",
       "      <td>0</td>\n",
       "      <td>0</td>\n",
       "      <td>0</td>\n",
       "      <td>...</td>\n",
       "      <td>1.00</td>\n",
       "      <td>0.00</td>\n",
       "      <td>0.03</td>\n",
       "      <td>0.04</td>\n",
       "      <td>0.03</td>\n",
       "      <td>0.01</td>\n",
       "      <td>0.00</td>\n",
       "      <td>0.01</td>\n",
       "      <td>normal</td>\n",
       "      <td>21</td>\n",
       "    </tr>\n",
       "    <tr>\n",
       "      <th>3</th>\n",
       "      <td>0</td>\n",
       "      <td>tcp</td>\n",
       "      <td>http</td>\n",
       "      <td>SF</td>\n",
       "      <td>199</td>\n",
       "      <td>420</td>\n",
       "      <td>0</td>\n",
       "      <td>0</td>\n",
       "      <td>0</td>\n",
       "      <td>0</td>\n",
       "      <td>...</td>\n",
       "      <td>1.00</td>\n",
       "      <td>0.00</td>\n",
       "      <td>0.00</td>\n",
       "      <td>0.00</td>\n",
       "      <td>0.00</td>\n",
       "      <td>0.00</td>\n",
       "      <td>0.00</td>\n",
       "      <td>0.00</td>\n",
       "      <td>normal</td>\n",
       "      <td>21</td>\n",
       "    </tr>\n",
       "    <tr>\n",
       "      <th>4</th>\n",
       "      <td>0</td>\n",
       "      <td>tcp</td>\n",
       "      <td>private</td>\n",
       "      <td>REJ</td>\n",
       "      <td>0</td>\n",
       "      <td>0</td>\n",
       "      <td>0</td>\n",
       "      <td>0</td>\n",
       "      <td>0</td>\n",
       "      <td>0</td>\n",
       "      <td>...</td>\n",
       "      <td>0.07</td>\n",
       "      <td>0.07</td>\n",
       "      <td>0.00</td>\n",
       "      <td>0.00</td>\n",
       "      <td>0.00</td>\n",
       "      <td>0.00</td>\n",
       "      <td>1.00</td>\n",
       "      <td>1.00</td>\n",
       "      <td>neptune</td>\n",
       "      <td>21</td>\n",
       "    </tr>\n",
       "    <tr>\n",
       "      <th>...</th>\n",
       "      <td>...</td>\n",
       "      <td>...</td>\n",
       "      <td>...</td>\n",
       "      <td>...</td>\n",
       "      <td>...</td>\n",
       "      <td>...</td>\n",
       "      <td>...</td>\n",
       "      <td>...</td>\n",
       "      <td>...</td>\n",
       "      <td>...</td>\n",
       "      <td>...</td>\n",
       "      <td>...</td>\n",
       "      <td>...</td>\n",
       "      <td>...</td>\n",
       "      <td>...</td>\n",
       "      <td>...</td>\n",
       "      <td>...</td>\n",
       "      <td>...</td>\n",
       "      <td>...</td>\n",
       "      <td>...</td>\n",
       "      <td>...</td>\n",
       "    </tr>\n",
       "    <tr>\n",
       "      <th>148510</th>\n",
       "      <td>0</td>\n",
       "      <td>tcp</td>\n",
       "      <td>smtp</td>\n",
       "      <td>SF</td>\n",
       "      <td>794</td>\n",
       "      <td>333</td>\n",
       "      <td>0</td>\n",
       "      <td>0</td>\n",
       "      <td>0</td>\n",
       "      <td>0</td>\n",
       "      <td>...</td>\n",
       "      <td>0.72</td>\n",
       "      <td>0.06</td>\n",
       "      <td>0.01</td>\n",
       "      <td>0.01</td>\n",
       "      <td>0.01</td>\n",
       "      <td>0.00</td>\n",
       "      <td>0.00</td>\n",
       "      <td>0.00</td>\n",
       "      <td>normal</td>\n",
       "      <td>21</td>\n",
       "    </tr>\n",
       "    <tr>\n",
       "      <th>148511</th>\n",
       "      <td>0</td>\n",
       "      <td>tcp</td>\n",
       "      <td>http</td>\n",
       "      <td>SF</td>\n",
       "      <td>317</td>\n",
       "      <td>938</td>\n",
       "      <td>0</td>\n",
       "      <td>0</td>\n",
       "      <td>0</td>\n",
       "      <td>0</td>\n",
       "      <td>...</td>\n",
       "      <td>1.00</td>\n",
       "      <td>0.00</td>\n",
       "      <td>0.01</td>\n",
       "      <td>0.01</td>\n",
       "      <td>0.01</td>\n",
       "      <td>0.00</td>\n",
       "      <td>0.00</td>\n",
       "      <td>0.00</td>\n",
       "      <td>normal</td>\n",
       "      <td>21</td>\n",
       "    </tr>\n",
       "    <tr>\n",
       "      <th>148512</th>\n",
       "      <td>0</td>\n",
       "      <td>tcp</td>\n",
       "      <td>http</td>\n",
       "      <td>SF</td>\n",
       "      <td>54540</td>\n",
       "      <td>8314</td>\n",
       "      <td>0</td>\n",
       "      <td>0</td>\n",
       "      <td>0</td>\n",
       "      <td>2</td>\n",
       "      <td>...</td>\n",
       "      <td>1.00</td>\n",
       "      <td>0.00</td>\n",
       "      <td>0.00</td>\n",
       "      <td>0.00</td>\n",
       "      <td>0.00</td>\n",
       "      <td>0.00</td>\n",
       "      <td>0.07</td>\n",
       "      <td>0.07</td>\n",
       "      <td>back</td>\n",
       "      <td>15</td>\n",
       "    </tr>\n",
       "    <tr>\n",
       "      <th>148513</th>\n",
       "      <td>0</td>\n",
       "      <td>udp</td>\n",
       "      <td>domain_u</td>\n",
       "      <td>SF</td>\n",
       "      <td>42</td>\n",
       "      <td>42</td>\n",
       "      <td>0</td>\n",
       "      <td>0</td>\n",
       "      <td>0</td>\n",
       "      <td>0</td>\n",
       "      <td>...</td>\n",
       "      <td>0.99</td>\n",
       "      <td>0.01</td>\n",
       "      <td>0.00</td>\n",
       "      <td>0.00</td>\n",
       "      <td>0.00</td>\n",
       "      <td>0.00</td>\n",
       "      <td>0.00</td>\n",
       "      <td>0.00</td>\n",
       "      <td>normal</td>\n",
       "      <td>21</td>\n",
       "    </tr>\n",
       "    <tr>\n",
       "      <th>148514</th>\n",
       "      <td>0</td>\n",
       "      <td>tcp</td>\n",
       "      <td>sunrpc</td>\n",
       "      <td>REJ</td>\n",
       "      <td>0</td>\n",
       "      <td>0</td>\n",
       "      <td>0</td>\n",
       "      <td>0</td>\n",
       "      <td>0</td>\n",
       "      <td>0</td>\n",
       "      <td>...</td>\n",
       "      <td>0.08</td>\n",
       "      <td>0.03</td>\n",
       "      <td>0.00</td>\n",
       "      <td>0.00</td>\n",
       "      <td>0.00</td>\n",
       "      <td>0.00</td>\n",
       "      <td>0.44</td>\n",
       "      <td>1.00</td>\n",
       "      <td>mscan</td>\n",
       "      <td>14</td>\n",
       "    </tr>\n",
       "  </tbody>\n",
       "</table>\n",
       "<p>148515 rows × 43 columns</p>\n",
       "</div>"
      ],
      "text/plain": [
       "        duration protocol_type   service flag  src_bytes  dst_bytes  land  \\\n",
       "0              0           udp     other   SF        146          0     0   \n",
       "1              0           tcp   private   S0          0          0     0   \n",
       "2              0           tcp      http   SF        232       8153     0   \n",
       "3              0           tcp      http   SF        199        420     0   \n",
       "4              0           tcp   private  REJ          0          0     0   \n",
       "...          ...           ...       ...  ...        ...        ...   ...   \n",
       "148510         0           tcp      smtp   SF        794        333     0   \n",
       "148511         0           tcp      http   SF        317        938     0   \n",
       "148512         0           tcp      http   SF      54540       8314     0   \n",
       "148513         0           udp  domain_u   SF         42         42     0   \n",
       "148514         0           tcp    sunrpc  REJ          0          0     0   \n",
       "\n",
       "        wrong_fragment  urgent  hot  ...  dst_host_same_srv_rate  \\\n",
       "0                    0       0    0  ...                    0.00   \n",
       "1                    0       0    0  ...                    0.10   \n",
       "2                    0       0    0  ...                    1.00   \n",
       "3                    0       0    0  ...                    1.00   \n",
       "4                    0       0    0  ...                    0.07   \n",
       "...                ...     ...  ...  ...                     ...   \n",
       "148510               0       0    0  ...                    0.72   \n",
       "148511               0       0    0  ...                    1.00   \n",
       "148512               0       0    2  ...                    1.00   \n",
       "148513               0       0    0  ...                    0.99   \n",
       "148514               0       0    0  ...                    0.08   \n",
       "\n",
       "        dst_host_diff_srv_rate  dst_host_same_src_port_rate  \\\n",
       "0                         0.60                         0.88   \n",
       "1                         0.05                         0.00   \n",
       "2                         0.00                         0.03   \n",
       "3                         0.00                         0.00   \n",
       "4                         0.07                         0.00   \n",
       "...                        ...                          ...   \n",
       "148510                    0.06                         0.01   \n",
       "148511                    0.00                         0.01   \n",
       "148512                    0.00                         0.00   \n",
       "148513                    0.01                         0.00   \n",
       "148514                    0.03                         0.00   \n",
       "\n",
       "        dst_host_srv_diff_host_rate  dst_host_serror_rate  \\\n",
       "0                              0.00                  0.00   \n",
       "1                              0.00                  1.00   \n",
       "2                              0.04                  0.03   \n",
       "3                              0.00                  0.00   \n",
       "4                              0.00                  0.00   \n",
       "...                             ...                   ...   \n",
       "148510                         0.01                  0.01   \n",
       "148511                         0.01                  0.01   \n",
       "148512                         0.00                  0.00   \n",
       "148513                         0.00                  0.00   \n",
       "148514                         0.00                  0.00   \n",
       "\n",
       "        dst_host_srv_serror_rate  dst_host_rerror_rate  \\\n",
       "0                           0.00                  0.00   \n",
       "1                           1.00                  0.00   \n",
       "2                           0.01                  0.00   \n",
       "3                           0.00                  0.00   \n",
       "4                           0.00                  1.00   \n",
       "...                          ...                   ...   \n",
       "148510                      0.00                  0.00   \n",
       "148511                      0.00                  0.00   \n",
       "148512                      0.00                  0.07   \n",
       "148513                      0.00                  0.00   \n",
       "148514                      0.00                  0.44   \n",
       "\n",
       "        dst_host_srv_rerror_rate   attack  level  \n",
       "0                           0.00   normal     15  \n",
       "1                           0.00  neptune     19  \n",
       "2                           0.01   normal     21  \n",
       "3                           0.00   normal     21  \n",
       "4                           1.00  neptune     21  \n",
       "...                          ...      ...    ...  \n",
       "148510                      0.00   normal     21  \n",
       "148511                      0.00   normal     21  \n",
       "148512                      0.07     back     15  \n",
       "148513                      0.00   normal     21  \n",
       "148514                      1.00    mscan     14  \n",
       "\n",
       "[148515 rows x 43 columns]"
      ]
     },
     "execution_count": 7,
     "metadata": {},
     "output_type": "execute_result"
    }
   ],
   "source": [
    "df"
   ]
  },
  {
   "cell_type": "markdown",
   "id": "b8f96589",
   "metadata": {},
   "source": [
    "## 3 Nettoyage des données"
   ]
  },
  {
   "cell_type": "code",
   "execution_count": 8,
   "id": "708c1140",
   "metadata": {},
   "outputs": [
    {
     "data": {
      "text/plain": [
       "Index(['duration', 'protocol_type', 'service', 'flag', 'src_bytes',\n",
       "       'dst_bytes', 'land', 'wrong_fragment', 'urgent', 'hot',\n",
       "       'num_failed_logins', 'logged_in', 'num_compromised', 'root_shell',\n",
       "       'su_attempted', 'num_root', 'num_file_creations', 'num_shells',\n",
       "       'num_access_files', 'num_outbound_cmds', 'is_host_login',\n",
       "       'is_guest_login', 'count', 'srv_count', 'serror_rate',\n",
       "       'srv_serror_rate', 'rerror_rate', 'srv_rerror_rate', 'same_srv_rate',\n",
       "       'diff_srv_rate', 'srv_diff_host_rate', 'dst_host_count',\n",
       "       'dst_host_srv_count', 'dst_host_same_srv_rate',\n",
       "       'dst_host_diff_srv_rate', 'dst_host_same_src_port_rate',\n",
       "       'dst_host_srv_diff_host_rate', 'dst_host_serror_rate',\n",
       "       'dst_host_srv_serror_rate', 'dst_host_rerror_rate',\n",
       "       'dst_host_srv_rerror_rate', 'attack', 'level'],\n",
       "      dtype='object')"
      ]
     },
     "execution_count": 8,
     "metadata": {},
     "output_type": "execute_result"
    }
   ],
   "source": [
    "df.columns"
   ]
  },
  {
   "cell_type": "code",
   "execution_count": 9,
   "id": "9d468b46",
   "metadata": {},
   "outputs": [
    {
     "data": {
      "text/plain": [
       "normal             77053\n",
       "neptune            45870\n",
       "satan               4368\n",
       "ipsweep             3740\n",
       "smurf               3311\n",
       "portsweep           3088\n",
       "nmap                1566\n",
       "back                1315\n",
       "guess_passwd        1284\n",
       "mscan                996\n",
       "warezmaster          964\n",
       "teardrop             904\n",
       "warezclient          890\n",
       "apache2              737\n",
       "processtable         685\n",
       "snmpguess            331\n",
       "saint                319\n",
       "mailbomb             293\n",
       "pod                  242\n",
       "snmpgetattack        178\n",
       "httptunnel           133\n",
       "buffer_overflow       50\n",
       "land                  25\n",
       "multihop              25\n",
       "rootkit               23\n",
       "named                 17\n",
       "ps                    15\n",
       "sendmail              14\n",
       "xterm                 13\n",
       "imap                  12\n",
       "loadmodule            11\n",
       "ftp_write             11\n",
       "xlock                  9\n",
       "phf                    6\n",
       "perl                   5\n",
       "xsnoop                 4\n",
       "spy                    2\n",
       "worm                   2\n",
       "sqlattack              2\n",
       "udpstorm               2\n",
       "Name: attack, dtype: int64"
      ]
     },
     "execution_count": 9,
     "metadata": {},
     "output_type": "execute_result"
    }
   ],
   "source": [
    "df['attack'].value_counts()"
   ]
  },
  {
   "cell_type": "code",
   "execution_count": 10,
   "id": "4e72c6e3",
   "metadata": {},
   "outputs": [],
   "source": [
    "ddos = ['Neptune', 'smurf', 'back', 'teardrop', 'apache2', 'processtable', 'mailbomb', 'pod', 'land', 'worm', 'udpstorm']\n",
    "norm = ['normal']"
   ]
  },
  {
   "cell_type": "code",
   "execution_count": 11,
   "id": "e84ee5f4",
   "metadata": {},
   "outputs": [],
   "source": [
    "def attack_type(row):\n",
    "    if row['attack'] in ddos:\n",
    "        return 'ddoS'\n",
    "    elif row['attack'] in norm:\n",
    "        return 'normal'\n",
    "    else:  \n",
    "        return 'other'"
   ]
  },
  {
   "cell_type": "code",
   "execution_count": 12,
   "id": "cef6d88a",
   "metadata": {},
   "outputs": [],
   "source": [
    "# Application de la fonction sur la colonne attack\n",
    "df['Label'] = df.apply(attack_type, axis=1)"
   ]
  },
  {
   "cell_type": "code",
   "execution_count": 13,
   "id": "14a86353",
   "metadata": {},
   "outputs": [],
   "source": [
    "# Suppression des lignes avec attack_type == 'other'\n",
    "df = df.drop(df[df['Label'] == 'other'].index)"
   ]
  },
  {
   "cell_type": "code",
   "execution_count": 14,
   "id": "3222c554",
   "metadata": {},
   "outputs": [
    {
     "data": {
      "text/plain": [
       "normal    77053\n",
       "ddoS       7516\n",
       "Name: Label, dtype: int64"
      ]
     },
     "execution_count": 14,
     "metadata": {},
     "output_type": "execute_result"
    }
   ],
   "source": [
    "df['Label'].value_counts()"
   ]
  },
  {
   "cell_type": "code",
   "execution_count": 15,
   "id": "adb0e462",
   "metadata": {},
   "outputs": [
    {
     "data": {
      "text/plain": [
       "normal          77053\n",
       "smurf            3311\n",
       "back             1315\n",
       "teardrop          904\n",
       "apache2           737\n",
       "processtable      685\n",
       "mailbomb          293\n",
       "pod               242\n",
       "land               25\n",
       "worm                2\n",
       "udpstorm            2\n",
       "Name: attack, dtype: int64"
      ]
     },
     "execution_count": 15,
     "metadata": {},
     "output_type": "execute_result"
    }
   ],
   "source": [
    "count_attack = df['attack'].value_counts()\n",
    "count_attack"
   ]
  },
  {
   "cell_type": "code",
   "execution_count": 46,
   "id": "22384949",
   "metadata": {},
   "outputs": [],
   "source": [
    "df_copy =df.copy()"
   ]
  },
  {
   "cell_type": "code",
   "execution_count": 47,
   "id": "4024f28e",
   "metadata": {},
   "outputs": [],
   "source": [
    "#il y a dans la df 4000l (Syn/BENIGN)\n",
    "df_copy.to_csv('C:/Users/marce/OneDrive/Bureau/streamlit0.ddos.csv', index=False)"
   ]
  },
  {
   "cell_type": "code",
   "execution_count": 16,
   "id": "53e1bed5",
   "metadata": {},
   "outputs": [],
   "source": [
    "# Renommer les valeurs dans la colonne Label\n",
    "df = df.fillna(-1).replace({'normal':0, 'ddoS':1})"
   ]
  },
  {
   "cell_type": "code",
   "execution_count": 17,
   "id": "a6d79614",
   "metadata": {},
   "outputs": [
    {
     "data": {
      "text/plain": [
       "0    77053\n",
       "1     7516\n",
       "Name: Label, dtype: int64"
      ]
     },
     "execution_count": 17,
     "metadata": {},
     "output_type": "execute_result"
    }
   ],
   "source": [
    "df['Label'].value_counts()"
   ]
  },
  {
   "cell_type": "code",
   "execution_count": 18,
   "id": "e4c0182b",
   "metadata": {},
   "outputs": [],
   "source": [
    "# Suppression des lignes contenant des valeurs manquantes\n",
    "df = df.dropna()"
   ]
  },
  {
   "cell_type": "code",
   "execution_count": 19,
   "id": "328afa0c",
   "metadata": {},
   "outputs": [],
   "source": [
    "# Modifier le type de la colonne 'level' en string\n",
    "df=  df.astype({'level':'str'})"
   ]
  },
  {
   "cell_type": "code",
   "execution_count": 20,
   "id": "3d31678b",
   "metadata": {},
   "outputs": [],
   "source": [
    "numerical_cols = ['src_bytes','dst_bytes', 'land', 'wrong_fragment', 'urgent', 'hot','num_failed_logins', 'logged_in',\n",
    "                  'num_compromised', 'root_shell','su_attempted', 'num_root', 'num_file_creations', 'num_shells',\n",
    "                  'num_access_files','is_host_login','is_guest_login', 'count', 'srv_count', 'serror_rate',\n",
    "                  'srv_serror_rate', 'rerror_rate', 'srv_rerror_rate', 'same_srv_rate','diff_srv_rate', 'srv_diff_host_rate',\n",
    "                  'dst_host_count','dst_host_srv_count', 'dst_host_same_srv_rate','dst_host_diff_srv_rate', \n",
    "                  'dst_host_same_src_port_rate', 'dst_host_srv_diff_host_rate', 'dst_host_serror_rate',\n",
    "                  'dst_host_srv_serror_rate', 'dst_host_rerror_rate','dst_host_srv_rerror_rate']"
   ]
  },
  {
   "cell_type": "code",
   "execution_count": 56,
   "id": "a37d5fdf",
   "metadata": {},
   "outputs": [],
   "source": [
    "# Transformation de la liste en dataframe Pandas\n",
    "df_numerical_cols = pd.DataFrame({'numerical_cols': numerical_cols})"
   ]
  },
  {
   "cell_type": "code",
   "execution_count": 22,
   "id": "46ec27ea",
   "metadata": {},
   "outputs": [
    {
     "data": {
      "text/plain": [
       "0    77053\n",
       "1     7516\n",
       "Name: Label, dtype: int64"
      ]
     },
     "execution_count": 22,
     "metadata": {},
     "output_type": "execute_result"
    }
   ],
   "source": [
    "df['Label'].value_counts()\n"
   ]
  },
  {
   "cell_type": "code",
   "execution_count": 23,
   "id": "d658e8c9",
   "metadata": {},
   "outputs": [],
   "source": [
    "data =df"
   ]
  },
  {
   "cell_type": "code",
   "execution_count": 26,
   "id": "5e2cd827",
   "metadata": {},
   "outputs": [],
   "source": [
    "def test_data(data): \n",
    "    # Sélectionner les lignes correspondant à la valeur \"Syn\" dans la colonne Label\n",
    "    ddos_index = data[data['Label'] == 1].index\n",
    "    # Tirer un échantillon de 2000 lignes de la classe \"Syn\"\n",
    "    ddos_sample = data.loc[ddos_index].sample(n=1500, random_state=42)\n",
    "    # Supprimer les lignes échantillonnées de la DataFrame d'origine\n",
    "    data = data.drop(ddos_index)\n",
    "\n",
    "    # Sélectionner les lignes correspondant à la valeur \"Benign\" dans la colonne Label\n",
    "    norm_index = data[data['Label'] == 0].index\n",
    "    # Tirer un échantillon de 2000 lignes de la classe \"Benign\"\n",
    "    norm_sample = data.loc[norm_index].sample(n=1500, random_state=42)\n",
    "    # Supprimer les lignes échantillonnées de la DataFrame d'origine\n",
    "    data = data.drop(norm_index)\n",
    "\n",
    "    # Concaténer les deux échantillons en un seul DataFrame\n",
    "    sampled = pd.concat([ddos_sample, norm_sample])\n",
    "\n",
    "    # Retourner la DataFrame échantillonnée et la DataFrame d'origine avec les lignes échantillonnées supprimées\n",
    "    return sampled, data"
   ]
  },
  {
   "cell_type": "code",
   "execution_count": 27,
   "id": "be3a863c",
   "metadata": {},
   "outputs": [],
   "source": [
    "df_sampled, df_remaining = test_data(data)"
   ]
  },
  {
   "cell_type": "code",
   "execution_count": 29,
   "id": "cd4fb8c8",
   "metadata": {},
   "outputs": [],
   "source": [
    "df1 = df_sampled"
   ]
  },
  {
   "cell_type": "markdown",
   "id": "53052f8f",
   "metadata": {},
   "source": [
    "## 5 Preprocessing"
   ]
  },
  {
   "cell_type": "code",
   "execution_count": 30,
   "id": "7e166d0f",
   "metadata": {},
   "outputs": [],
   "source": [
    "# Définir les colonnes de X,y\n",
    "X = df1.drop(columns=\"Label\")\n",
    "y = df1['Label']"
   ]
  },
  {
   "cell_type": "code",
   "execution_count": 31,
   "id": "06517fbd",
   "metadata": {},
   "outputs": [
    {
     "data": {
      "text/plain": [
       "Index(['duration', 'protocol_type', 'service', 'flag', 'src_bytes',\n",
       "       'dst_bytes', 'land', 'wrong_fragment', 'urgent', 'hot',\n",
       "       'num_failed_logins', 'logged_in', 'num_compromised', 'root_shell',\n",
       "       'su_attempted', 'num_root', 'num_file_creations', 'num_shells',\n",
       "       'num_access_files', 'num_outbound_cmds', 'is_host_login',\n",
       "       'is_guest_login', 'count', 'srv_count', 'serror_rate',\n",
       "       'srv_serror_rate', 'rerror_rate', 'srv_rerror_rate', 'same_srv_rate',\n",
       "       'diff_srv_rate', 'srv_diff_host_rate', 'dst_host_count',\n",
       "       'dst_host_srv_count', 'dst_host_same_srv_rate',\n",
       "       'dst_host_diff_srv_rate', 'dst_host_same_src_port_rate',\n",
       "       'dst_host_srv_diff_host_rate', 'dst_host_serror_rate',\n",
       "       'dst_host_srv_serror_rate', 'dst_host_rerror_rate',\n",
       "       'dst_host_srv_rerror_rate', 'attack', 'level'],\n",
       "      dtype='object')"
      ]
     },
     "execution_count": 31,
     "metadata": {},
     "output_type": "execute_result"
    }
   ],
   "source": [
    "X.columns"
   ]
  },
  {
   "cell_type": "code",
   "execution_count": 32,
   "id": "2d018500",
   "metadata": {},
   "outputs": [
    {
     "data": {
      "text/plain": [
       "142567    1\n",
       "132708    1\n",
       "125434    1\n",
       "28798     1\n",
       "126827    1\n",
       "         ..\n",
       "47346     0\n",
       "64486     0\n",
       "134548    0\n",
       "68675     0\n",
       "120170    0\n",
       "Name: Label, Length: 3000, dtype: int64"
      ]
     },
     "execution_count": 32,
     "metadata": {},
     "output_type": "execute_result"
    }
   ],
   "source": [
    "y"
   ]
  },
  {
   "cell_type": "markdown",
   "id": "93cd7f3f",
   "metadata": {},
   "source": [
    "## 6 Définir le pipeline"
   ]
  },
  {
   "cell_type": "code",
   "execution_count": 62,
   "id": "cc4fa51c",
   "metadata": {},
   "outputs": [],
   "source": [
    "# Diviser les données en ensembles d'entraînement et de test\n",
    "X_train, X_test, y_train, y_test = train_test_split(X, y, test_size=0.2, random_state=42)\n",
    "  "
   ]
  },
  {
   "cell_type": "markdown",
   "id": "fbd962e4",
   "metadata": {},
   "source": [
    "### 6.1 Encodage des données dans le pipeline"
   ]
  },
  {
   "cell_type": "code",
   "execution_count": 63,
   "id": "34801f1a",
   "metadata": {},
   "outputs": [],
   "source": [
    "# Definir les données numérics et catégorielles\n",
    "quantitative = [ 'src_bytes',\n",
    "       'dst_bytes', 'land', 'wrong_fragment', 'urgent', 'hot',\n",
    "       'num_failed_logins', 'logged_in', 'num_compromised', 'root_shell',\n",
    "       'su_attempted', 'num_root', 'num_file_creations', 'num_shells',\n",
    "       'num_access_files', 'is_host_login',\n",
    "       'is_guest_login', 'count', 'srv_count', 'serror_rate',\n",
    "       'srv_serror_rate', 'rerror_rate', 'srv_rerror_rate', 'same_srv_rate',\n",
    "       'diff_srv_rate', 'srv_diff_host_rate', 'dst_host_count',\n",
    "       'dst_host_srv_count', 'dst_host_same_srv_rate',\n",
    "       'dst_host_diff_srv_rate', 'dst_host_same_src_port_rate',\n",
    "       'dst_host_srv_diff_host_rate', 'dst_host_serror_rate',\n",
    "       'dst_host_srv_serror_rate', 'dst_host_rerror_rate',\n",
    "       'dst_host_srv_rerror_rate']\n",
    "qualitative = ['protocol_type', 'service', 'flag','level']# "
   ]
  },
  {
   "cell_type": "code",
   "execution_count": 64,
   "id": "d05a580b",
   "metadata": {},
   "outputs": [],
   "source": [
    "transfo_quanti = Pipeline(steps=[\n",
    "    ('imputation', SimpleImputer(strategy='median')),\n",
    "    ('standard', StandardScaler())])\n",
    "transfo_quali = Pipeline(steps=[\n",
    "    ('imputation', SimpleImputer(strategy='constant', fill_value='manquant')),\n",
    "    ('onehot', OneHotEncoder(handle_unknown='ignore'))])"
   ]
  },
  {
   "cell_type": "code",
   "execution_count": 116,
   "id": "a6f40b5d",
   "metadata": {},
   "outputs": [],
   "source": [
    "preprocessor = ColumnTransformer(transformers=[\n",
    "        ('quanti', transfo_quanti , quantitative),\n",
    "        ('quali', transfo_quali , qualitative)])\n"
   ]
  },
  {
   "cell_type": "code",
   "execution_count": 117,
   "id": "f579be24",
   "metadata": {},
   "outputs": [],
   "source": [
    "# Ajouter l'étape de sélection de caractéristiques\n",
    "k_best = SelectKBest(mutual_info_classif, k=10)"
   ]
  },
  {
   "cell_type": "markdown",
   "id": "fef24f6d",
   "metadata": {},
   "source": [
    "### 6.2 Activation du pipeline"
   ]
  },
  {
   "cell_type": "code",
   "execution_count": 125,
   "id": "f6b63fa7",
   "metadata": {},
   "outputs": [],
   "source": [
    "knn_pipeline = Pipeline(steps=[\n",
    "        ('preprocessor', preprocessor),\n",
    "        ('feature_selection', k_best),\n",
    "        ('knn', KNeighborsClassifier())\n",
    "    ])"
   ]
  },
  {
   "cell_type": "code",
   "execution_count": 126,
   "id": "62b91950",
   "metadata": {},
   "outputs": [
    {
     "data": {
      "text/html": [
       "<style>#sk-container-id-11 {color: black;background-color: white;}#sk-container-id-11 pre{padding: 0;}#sk-container-id-11 div.sk-toggleable {background-color: white;}#sk-container-id-11 label.sk-toggleable__label {cursor: pointer;display: block;width: 100%;margin-bottom: 0;padding: 0.3em;box-sizing: border-box;text-align: center;}#sk-container-id-11 label.sk-toggleable__label-arrow:before {content: \"▸\";float: left;margin-right: 0.25em;color: #696969;}#sk-container-id-11 label.sk-toggleable__label-arrow:hover:before {color: black;}#sk-container-id-11 div.sk-estimator:hover label.sk-toggleable__label-arrow:before {color: black;}#sk-container-id-11 div.sk-toggleable__content {max-height: 0;max-width: 0;overflow: hidden;text-align: left;background-color: #f0f8ff;}#sk-container-id-11 div.sk-toggleable__content pre {margin: 0.2em;color: black;border-radius: 0.25em;background-color: #f0f8ff;}#sk-container-id-11 input.sk-toggleable__control:checked~div.sk-toggleable__content {max-height: 200px;max-width: 100%;overflow: auto;}#sk-container-id-11 input.sk-toggleable__control:checked~label.sk-toggleable__label-arrow:before {content: \"▾\";}#sk-container-id-11 div.sk-estimator input.sk-toggleable__control:checked~label.sk-toggleable__label {background-color: #d4ebff;}#sk-container-id-11 div.sk-label input.sk-toggleable__control:checked~label.sk-toggleable__label {background-color: #d4ebff;}#sk-container-id-11 input.sk-hidden--visually {border: 0;clip: rect(1px 1px 1px 1px);clip: rect(1px, 1px, 1px, 1px);height: 1px;margin: -1px;overflow: hidden;padding: 0;position: absolute;width: 1px;}#sk-container-id-11 div.sk-estimator {font-family: monospace;background-color: #f0f8ff;border: 1px dotted black;border-radius: 0.25em;box-sizing: border-box;margin-bottom: 0.5em;}#sk-container-id-11 div.sk-estimator:hover {background-color: #d4ebff;}#sk-container-id-11 div.sk-parallel-item::after {content: \"\";width: 100%;border-bottom: 1px solid gray;flex-grow: 1;}#sk-container-id-11 div.sk-label:hover label.sk-toggleable__label {background-color: #d4ebff;}#sk-container-id-11 div.sk-serial::before {content: \"\";position: absolute;border-left: 1px solid gray;box-sizing: border-box;top: 0;bottom: 0;left: 50%;z-index: 0;}#sk-container-id-11 div.sk-serial {display: flex;flex-direction: column;align-items: center;background-color: white;padding-right: 0.2em;padding-left: 0.2em;position: relative;}#sk-container-id-11 div.sk-item {position: relative;z-index: 1;}#sk-container-id-11 div.sk-parallel {display: flex;align-items: stretch;justify-content: center;background-color: white;position: relative;}#sk-container-id-11 div.sk-item::before, #sk-container-id-11 div.sk-parallel-item::before {content: \"\";position: absolute;border-left: 1px solid gray;box-sizing: border-box;top: 0;bottom: 0;left: 50%;z-index: -1;}#sk-container-id-11 div.sk-parallel-item {display: flex;flex-direction: column;z-index: 1;position: relative;background-color: white;}#sk-container-id-11 div.sk-parallel-item:first-child::after {align-self: flex-end;width: 50%;}#sk-container-id-11 div.sk-parallel-item:last-child::after {align-self: flex-start;width: 50%;}#sk-container-id-11 div.sk-parallel-item:only-child::after {width: 0;}#sk-container-id-11 div.sk-dashed-wrapped {border: 1px dashed gray;margin: 0 0.4em 0.5em 0.4em;box-sizing: border-box;padding-bottom: 0.4em;background-color: white;}#sk-container-id-11 div.sk-label label {font-family: monospace;font-weight: bold;display: inline-block;line-height: 1.2em;}#sk-container-id-11 div.sk-label-container {text-align: center;}#sk-container-id-11 div.sk-container {/* jupyter's `normalize.less` sets `[hidden] { display: none; }` but bootstrap.min.css set `[hidden] { display: none !important; }` so we also need the `!important` here to be able to override the default hidden behavior on the sphinx rendered scikit-learn.org. See: https://github.com/scikit-learn/scikit-learn/issues/21755 */display: inline-block !important;position: relative;}#sk-container-id-11 div.sk-text-repr-fallback {display: none;}</style><div id=\"sk-container-id-11\" class=\"sk-top-container\"><div class=\"sk-text-repr-fallback\"><pre>Pipeline(steps=[(&#x27;preprocessor&#x27;,\n",
       "                 ColumnTransformer(transformers=[(&#x27;quanti&#x27;,\n",
       "                                                  Pipeline(steps=[(&#x27;imputation&#x27;,\n",
       "                                                                   SimpleImputer(strategy=&#x27;median&#x27;)),\n",
       "                                                                  (&#x27;standard&#x27;,\n",
       "                                                                   StandardScaler())]),\n",
       "                                                  [&#x27;src_bytes&#x27;, &#x27;dst_bytes&#x27;,\n",
       "                                                   &#x27;land&#x27;, &#x27;wrong_fragment&#x27;,\n",
       "                                                   &#x27;urgent&#x27;, &#x27;hot&#x27;,\n",
       "                                                   &#x27;num_failed_logins&#x27;,\n",
       "                                                   &#x27;logged_in&#x27;,\n",
       "                                                   &#x27;num_compromised&#x27;,\n",
       "                                                   &#x27;root_shell&#x27;, &#x27;su_attempted&#x27;,\n",
       "                                                   &#x27;num_root&#x27;,\n",
       "                                                   &#x27;num_file_creations&#x27;,\n",
       "                                                   &#x27;num_s...\n",
       "                                                   &#x27;dst_host_diff_srv_rate&#x27;, ...]),\n",
       "                                                 (&#x27;quali&#x27;,\n",
       "                                                  Pipeline(steps=[(&#x27;imputation&#x27;,\n",
       "                                                                   SimpleImputer(fill_value=&#x27;manquant&#x27;,\n",
       "                                                                                 strategy=&#x27;constant&#x27;)),\n",
       "                                                                  (&#x27;onehot&#x27;,\n",
       "                                                                   OneHotEncoder(handle_unknown=&#x27;ignore&#x27;))]),\n",
       "                                                  [&#x27;protocol_type&#x27;, &#x27;service&#x27;,\n",
       "                                                   &#x27;flag&#x27;, &#x27;level&#x27;])])),\n",
       "                (&#x27;feature_selection&#x27;,\n",
       "                 SelectKBest(score_func=&lt;function mutual_info_classif at 0x0000024692494700&gt;)),\n",
       "                (&#x27;knn&#x27;, KNeighborsClassifier())])</pre><b>In a Jupyter environment, please rerun this cell to show the HTML representation or trust the notebook. <br />On GitHub, the HTML representation is unable to render, please try loading this page with nbviewer.org.</b></div><div class=\"sk-container\" hidden><div class=\"sk-item sk-dashed-wrapped\"><div class=\"sk-label-container\"><div class=\"sk-label sk-toggleable\"><input class=\"sk-toggleable__control sk-hidden--visually\" id=\"sk-estimator-id-108\" type=\"checkbox\" ><label for=\"sk-estimator-id-108\" class=\"sk-toggleable__label sk-toggleable__label-arrow\">Pipeline</label><div class=\"sk-toggleable__content\"><pre>Pipeline(steps=[(&#x27;preprocessor&#x27;,\n",
       "                 ColumnTransformer(transformers=[(&#x27;quanti&#x27;,\n",
       "                                                  Pipeline(steps=[(&#x27;imputation&#x27;,\n",
       "                                                                   SimpleImputer(strategy=&#x27;median&#x27;)),\n",
       "                                                                  (&#x27;standard&#x27;,\n",
       "                                                                   StandardScaler())]),\n",
       "                                                  [&#x27;src_bytes&#x27;, &#x27;dst_bytes&#x27;,\n",
       "                                                   &#x27;land&#x27;, &#x27;wrong_fragment&#x27;,\n",
       "                                                   &#x27;urgent&#x27;, &#x27;hot&#x27;,\n",
       "                                                   &#x27;num_failed_logins&#x27;,\n",
       "                                                   &#x27;logged_in&#x27;,\n",
       "                                                   &#x27;num_compromised&#x27;,\n",
       "                                                   &#x27;root_shell&#x27;, &#x27;su_attempted&#x27;,\n",
       "                                                   &#x27;num_root&#x27;,\n",
       "                                                   &#x27;num_file_creations&#x27;,\n",
       "                                                   &#x27;num_s...\n",
       "                                                   &#x27;dst_host_diff_srv_rate&#x27;, ...]),\n",
       "                                                 (&#x27;quali&#x27;,\n",
       "                                                  Pipeline(steps=[(&#x27;imputation&#x27;,\n",
       "                                                                   SimpleImputer(fill_value=&#x27;manquant&#x27;,\n",
       "                                                                                 strategy=&#x27;constant&#x27;)),\n",
       "                                                                  (&#x27;onehot&#x27;,\n",
       "                                                                   OneHotEncoder(handle_unknown=&#x27;ignore&#x27;))]),\n",
       "                                                  [&#x27;protocol_type&#x27;, &#x27;service&#x27;,\n",
       "                                                   &#x27;flag&#x27;, &#x27;level&#x27;])])),\n",
       "                (&#x27;feature_selection&#x27;,\n",
       "                 SelectKBest(score_func=&lt;function mutual_info_classif at 0x0000024692494700&gt;)),\n",
       "                (&#x27;knn&#x27;, KNeighborsClassifier())])</pre></div></div></div><div class=\"sk-serial\"><div class=\"sk-item sk-dashed-wrapped\"><div class=\"sk-label-container\"><div class=\"sk-label sk-toggleable\"><input class=\"sk-toggleable__control sk-hidden--visually\" id=\"sk-estimator-id-109\" type=\"checkbox\" ><label for=\"sk-estimator-id-109\" class=\"sk-toggleable__label sk-toggleable__label-arrow\">preprocessor: ColumnTransformer</label><div class=\"sk-toggleable__content\"><pre>ColumnTransformer(transformers=[(&#x27;quanti&#x27;,\n",
       "                                 Pipeline(steps=[(&#x27;imputation&#x27;,\n",
       "                                                  SimpleImputer(strategy=&#x27;median&#x27;)),\n",
       "                                                 (&#x27;standard&#x27;,\n",
       "                                                  StandardScaler())]),\n",
       "                                 [&#x27;src_bytes&#x27;, &#x27;dst_bytes&#x27;, &#x27;land&#x27;,\n",
       "                                  &#x27;wrong_fragment&#x27;, &#x27;urgent&#x27;, &#x27;hot&#x27;,\n",
       "                                  &#x27;num_failed_logins&#x27;, &#x27;logged_in&#x27;,\n",
       "                                  &#x27;num_compromised&#x27;, &#x27;root_shell&#x27;,\n",
       "                                  &#x27;su_attempted&#x27;, &#x27;num_root&#x27;,\n",
       "                                  &#x27;num_file_creations&#x27;, &#x27;num_shells&#x27;,\n",
       "                                  &#x27;num_access_files&#x27;, &#x27;is_ho...\n",
       "                                  &#x27;rerror_rate&#x27;, &#x27;srv_rerror_rate&#x27;,\n",
       "                                  &#x27;same_srv_rate&#x27;, &#x27;diff_srv_rate&#x27;,\n",
       "                                  &#x27;srv_diff_host_rate&#x27;, &#x27;dst_host_count&#x27;,\n",
       "                                  &#x27;dst_host_srv_count&#x27;,\n",
       "                                  &#x27;dst_host_same_srv_rate&#x27;,\n",
       "                                  &#x27;dst_host_diff_srv_rate&#x27;, ...]),\n",
       "                                (&#x27;quali&#x27;,\n",
       "                                 Pipeline(steps=[(&#x27;imputation&#x27;,\n",
       "                                                  SimpleImputer(fill_value=&#x27;manquant&#x27;,\n",
       "                                                                strategy=&#x27;constant&#x27;)),\n",
       "                                                 (&#x27;onehot&#x27;,\n",
       "                                                  OneHotEncoder(handle_unknown=&#x27;ignore&#x27;))]),\n",
       "                                 [&#x27;protocol_type&#x27;, &#x27;service&#x27;, &#x27;flag&#x27;,\n",
       "                                  &#x27;level&#x27;])])</pre></div></div></div><div class=\"sk-parallel\"><div class=\"sk-parallel-item\"><div class=\"sk-item\"><div class=\"sk-label-container\"><div class=\"sk-label sk-toggleable\"><input class=\"sk-toggleable__control sk-hidden--visually\" id=\"sk-estimator-id-110\" type=\"checkbox\" ><label for=\"sk-estimator-id-110\" class=\"sk-toggleable__label sk-toggleable__label-arrow\">quanti</label><div class=\"sk-toggleable__content\"><pre>[&#x27;src_bytes&#x27;, &#x27;dst_bytes&#x27;, &#x27;land&#x27;, &#x27;wrong_fragment&#x27;, &#x27;urgent&#x27;, &#x27;hot&#x27;, &#x27;num_failed_logins&#x27;, &#x27;logged_in&#x27;, &#x27;num_compromised&#x27;, &#x27;root_shell&#x27;, &#x27;su_attempted&#x27;, &#x27;num_root&#x27;, &#x27;num_file_creations&#x27;, &#x27;num_shells&#x27;, &#x27;num_access_files&#x27;, &#x27;is_host_login&#x27;, &#x27;is_guest_login&#x27;, &#x27;count&#x27;, &#x27;srv_count&#x27;, &#x27;serror_rate&#x27;, &#x27;srv_serror_rate&#x27;, &#x27;rerror_rate&#x27;, &#x27;srv_rerror_rate&#x27;, &#x27;same_srv_rate&#x27;, &#x27;diff_srv_rate&#x27;, &#x27;srv_diff_host_rate&#x27;, &#x27;dst_host_count&#x27;, &#x27;dst_host_srv_count&#x27;, &#x27;dst_host_same_srv_rate&#x27;, &#x27;dst_host_diff_srv_rate&#x27;, &#x27;dst_host_same_src_port_rate&#x27;, &#x27;dst_host_srv_diff_host_rate&#x27;, &#x27;dst_host_serror_rate&#x27;, &#x27;dst_host_srv_serror_rate&#x27;, &#x27;dst_host_rerror_rate&#x27;, &#x27;dst_host_srv_rerror_rate&#x27;]</pre></div></div></div><div class=\"sk-serial\"><div class=\"sk-item\"><div class=\"sk-serial\"><div class=\"sk-item\"><div class=\"sk-estimator sk-toggleable\"><input class=\"sk-toggleable__control sk-hidden--visually\" id=\"sk-estimator-id-111\" type=\"checkbox\" ><label for=\"sk-estimator-id-111\" class=\"sk-toggleable__label sk-toggleable__label-arrow\">SimpleImputer</label><div class=\"sk-toggleable__content\"><pre>SimpleImputer(strategy=&#x27;median&#x27;)</pre></div></div></div><div class=\"sk-item\"><div class=\"sk-estimator sk-toggleable\"><input class=\"sk-toggleable__control sk-hidden--visually\" id=\"sk-estimator-id-112\" type=\"checkbox\" ><label for=\"sk-estimator-id-112\" class=\"sk-toggleable__label sk-toggleable__label-arrow\">StandardScaler</label><div class=\"sk-toggleable__content\"><pre>StandardScaler()</pre></div></div></div></div></div></div></div></div><div class=\"sk-parallel-item\"><div class=\"sk-item\"><div class=\"sk-label-container\"><div class=\"sk-label sk-toggleable\"><input class=\"sk-toggleable__control sk-hidden--visually\" id=\"sk-estimator-id-113\" type=\"checkbox\" ><label for=\"sk-estimator-id-113\" class=\"sk-toggleable__label sk-toggleable__label-arrow\">quali</label><div class=\"sk-toggleable__content\"><pre>[&#x27;protocol_type&#x27;, &#x27;service&#x27;, &#x27;flag&#x27;, &#x27;level&#x27;]</pre></div></div></div><div class=\"sk-serial\"><div class=\"sk-item\"><div class=\"sk-serial\"><div class=\"sk-item\"><div class=\"sk-estimator sk-toggleable\"><input class=\"sk-toggleable__control sk-hidden--visually\" id=\"sk-estimator-id-114\" type=\"checkbox\" ><label for=\"sk-estimator-id-114\" class=\"sk-toggleable__label sk-toggleable__label-arrow\">SimpleImputer</label><div class=\"sk-toggleable__content\"><pre>SimpleImputer(fill_value=&#x27;manquant&#x27;, strategy=&#x27;constant&#x27;)</pre></div></div></div><div class=\"sk-item\"><div class=\"sk-estimator sk-toggleable\"><input class=\"sk-toggleable__control sk-hidden--visually\" id=\"sk-estimator-id-115\" type=\"checkbox\" ><label for=\"sk-estimator-id-115\" class=\"sk-toggleable__label sk-toggleable__label-arrow\">OneHotEncoder</label><div class=\"sk-toggleable__content\"><pre>OneHotEncoder(handle_unknown=&#x27;ignore&#x27;)</pre></div></div></div></div></div></div></div></div></div></div><div class=\"sk-item\"><div class=\"sk-estimator sk-toggleable\"><input class=\"sk-toggleable__control sk-hidden--visually\" id=\"sk-estimator-id-116\" type=\"checkbox\" ><label for=\"sk-estimator-id-116\" class=\"sk-toggleable__label sk-toggleable__label-arrow\">SelectKBest</label><div class=\"sk-toggleable__content\"><pre>SelectKBest(score_func=&lt;function mutual_info_classif at 0x0000024692494700&gt;)</pre></div></div></div><div class=\"sk-item\"><div class=\"sk-estimator sk-toggleable\"><input class=\"sk-toggleable__control sk-hidden--visually\" id=\"sk-estimator-id-117\" type=\"checkbox\" ><label for=\"sk-estimator-id-117\" class=\"sk-toggleable__label sk-toggleable__label-arrow\">KNeighborsClassifier</label><div class=\"sk-toggleable__content\"><pre>KNeighborsClassifier()</pre></div></div></div></div></div></div></div>"
      ],
      "text/plain": [
       "Pipeline(steps=[('preprocessor',\n",
       "                 ColumnTransformer(transformers=[('quanti',\n",
       "                                                  Pipeline(steps=[('imputation',\n",
       "                                                                   SimpleImputer(strategy='median')),\n",
       "                                                                  ('standard',\n",
       "                                                                   StandardScaler())]),\n",
       "                                                  ['src_bytes', 'dst_bytes',\n",
       "                                                   'land', 'wrong_fragment',\n",
       "                                                   'urgent', 'hot',\n",
       "                                                   'num_failed_logins',\n",
       "                                                   'logged_in',\n",
       "                                                   'num_compromised',\n",
       "                                                   'root_shell', 'su_attempted',\n",
       "                                                   'num_root',\n",
       "                                                   'num_file_creations',\n",
       "                                                   'num_s...\n",
       "                                                   'dst_host_diff_srv_rate', ...]),\n",
       "                                                 ('quali',\n",
       "                                                  Pipeline(steps=[('imputation',\n",
       "                                                                   SimpleImputer(fill_value='manquant',\n",
       "                                                                                 strategy='constant')),\n",
       "                                                                  ('onehot',\n",
       "                                                                   OneHotEncoder(handle_unknown='ignore'))]),\n",
       "                                                  ['protocol_type', 'service',\n",
       "                                                   'flag', 'level'])])),\n",
       "                ('feature_selection',\n",
       "                 SelectKBest(score_func=<function mutual_info_classif at 0x0000024692494700>)),\n",
       "                ('knn', KNeighborsClassifier())])"
      ]
     },
     "execution_count": 126,
     "metadata": {},
     "output_type": "execute_result"
    }
   ],
   "source": [
    "# Sélectionner les meilleures caractéristiques à partir de l'ensemble de formation\n",
    "knn_pipeline.fit(X_train, y_train)"
   ]
  },
  {
   "cell_type": "markdown",
   "id": "4e64c843",
   "metadata": {},
   "source": [
    "### 6.3 Paramétrage du grid_search"
   ]
  },
  {
   "cell_type": "code",
   "execution_count": 127,
   "id": "0261ec14",
   "metadata": {},
   "outputs": [],
   "source": [
    "#Paramètres pour la recherche de grille\n",
    "param_grid = {'knn__n_neighbors': [3, 5, 7, 9, 11],\n",
    "            'knn__weights': ['uniform', 'distance'],\n",
    "             'feature_selection__k':[10,20,30]}"
   ]
  },
  {
   "cell_type": "code",
   "execution_count": 128,
   "id": "a3e72e45",
   "metadata": {},
   "outputs": [],
   "source": [
    "# Initialiser le modèle de recherche d'hyperparamètres\n",
    "grid_search = GridSearchCV(knn_pipeline, param_grid=param_grid, cv=5, n_jobs=-1)"
   ]
  },
  {
   "cell_type": "code",
   "execution_count": 129,
   "id": "0b37840f",
   "metadata": {},
   "outputs": [
    {
     "data": {
      "text/html": [
       "<style>#sk-container-id-12 {color: black;background-color: white;}#sk-container-id-12 pre{padding: 0;}#sk-container-id-12 div.sk-toggleable {background-color: white;}#sk-container-id-12 label.sk-toggleable__label {cursor: pointer;display: block;width: 100%;margin-bottom: 0;padding: 0.3em;box-sizing: border-box;text-align: center;}#sk-container-id-12 label.sk-toggleable__label-arrow:before {content: \"▸\";float: left;margin-right: 0.25em;color: #696969;}#sk-container-id-12 label.sk-toggleable__label-arrow:hover:before {color: black;}#sk-container-id-12 div.sk-estimator:hover label.sk-toggleable__label-arrow:before {color: black;}#sk-container-id-12 div.sk-toggleable__content {max-height: 0;max-width: 0;overflow: hidden;text-align: left;background-color: #f0f8ff;}#sk-container-id-12 div.sk-toggleable__content pre {margin: 0.2em;color: black;border-radius: 0.25em;background-color: #f0f8ff;}#sk-container-id-12 input.sk-toggleable__control:checked~div.sk-toggleable__content {max-height: 200px;max-width: 100%;overflow: auto;}#sk-container-id-12 input.sk-toggleable__control:checked~label.sk-toggleable__label-arrow:before {content: \"▾\";}#sk-container-id-12 div.sk-estimator input.sk-toggleable__control:checked~label.sk-toggleable__label {background-color: #d4ebff;}#sk-container-id-12 div.sk-label input.sk-toggleable__control:checked~label.sk-toggleable__label {background-color: #d4ebff;}#sk-container-id-12 input.sk-hidden--visually {border: 0;clip: rect(1px 1px 1px 1px);clip: rect(1px, 1px, 1px, 1px);height: 1px;margin: -1px;overflow: hidden;padding: 0;position: absolute;width: 1px;}#sk-container-id-12 div.sk-estimator {font-family: monospace;background-color: #f0f8ff;border: 1px dotted black;border-radius: 0.25em;box-sizing: border-box;margin-bottom: 0.5em;}#sk-container-id-12 div.sk-estimator:hover {background-color: #d4ebff;}#sk-container-id-12 div.sk-parallel-item::after {content: \"\";width: 100%;border-bottom: 1px solid gray;flex-grow: 1;}#sk-container-id-12 div.sk-label:hover label.sk-toggleable__label {background-color: #d4ebff;}#sk-container-id-12 div.sk-serial::before {content: \"\";position: absolute;border-left: 1px solid gray;box-sizing: border-box;top: 0;bottom: 0;left: 50%;z-index: 0;}#sk-container-id-12 div.sk-serial {display: flex;flex-direction: column;align-items: center;background-color: white;padding-right: 0.2em;padding-left: 0.2em;position: relative;}#sk-container-id-12 div.sk-item {position: relative;z-index: 1;}#sk-container-id-12 div.sk-parallel {display: flex;align-items: stretch;justify-content: center;background-color: white;position: relative;}#sk-container-id-12 div.sk-item::before, #sk-container-id-12 div.sk-parallel-item::before {content: \"\";position: absolute;border-left: 1px solid gray;box-sizing: border-box;top: 0;bottom: 0;left: 50%;z-index: -1;}#sk-container-id-12 div.sk-parallel-item {display: flex;flex-direction: column;z-index: 1;position: relative;background-color: white;}#sk-container-id-12 div.sk-parallel-item:first-child::after {align-self: flex-end;width: 50%;}#sk-container-id-12 div.sk-parallel-item:last-child::after {align-self: flex-start;width: 50%;}#sk-container-id-12 div.sk-parallel-item:only-child::after {width: 0;}#sk-container-id-12 div.sk-dashed-wrapped {border: 1px dashed gray;margin: 0 0.4em 0.5em 0.4em;box-sizing: border-box;padding-bottom: 0.4em;background-color: white;}#sk-container-id-12 div.sk-label label {font-family: monospace;font-weight: bold;display: inline-block;line-height: 1.2em;}#sk-container-id-12 div.sk-label-container {text-align: center;}#sk-container-id-12 div.sk-container {/* jupyter's `normalize.less` sets `[hidden] { display: none; }` but bootstrap.min.css set `[hidden] { display: none !important; }` so we also need the `!important` here to be able to override the default hidden behavior on the sphinx rendered scikit-learn.org. See: https://github.com/scikit-learn/scikit-learn/issues/21755 */display: inline-block !important;position: relative;}#sk-container-id-12 div.sk-text-repr-fallback {display: none;}</style><div id=\"sk-container-id-12\" class=\"sk-top-container\"><div class=\"sk-text-repr-fallback\"><pre>GridSearchCV(cv=5,\n",
       "             estimator=Pipeline(steps=[(&#x27;preprocessor&#x27;,\n",
       "                                        ColumnTransformer(transformers=[(&#x27;quanti&#x27;,\n",
       "                                                                         Pipeline(steps=[(&#x27;imputation&#x27;,\n",
       "                                                                                          SimpleImputer(strategy=&#x27;median&#x27;)),\n",
       "                                                                                         (&#x27;standard&#x27;,\n",
       "                                                                                          StandardScaler())]),\n",
       "                                                                         [&#x27;src_bytes&#x27;,\n",
       "                                                                          &#x27;dst_bytes&#x27;,\n",
       "                                                                          &#x27;land&#x27;,\n",
       "                                                                          &#x27;wrong_fragment&#x27;,\n",
       "                                                                          &#x27;urgent&#x27;,\n",
       "                                                                          &#x27;hot&#x27;,\n",
       "                                                                          &#x27;num_failed_logins&#x27;,\n",
       "                                                                          &#x27;logged_in&#x27;,\n",
       "                                                                          &#x27;num_compromised&#x27;,\n",
       "                                                                          &#x27;root_shell&#x27;,\n",
       "                                                                          &#x27;su_attempted&#x27;,\n",
       "                                                                          &#x27;num_root&#x27;...\n",
       "                                                                                         (&#x27;onehot&#x27;,\n",
       "                                                                                          OneHotEncoder(handle_unknown=&#x27;ignore&#x27;))]),\n",
       "                                                                         [&#x27;protocol_type&#x27;,\n",
       "                                                                          &#x27;service&#x27;,\n",
       "                                                                          &#x27;flag&#x27;,\n",
       "                                                                          &#x27;level&#x27;])])),\n",
       "                                       (&#x27;feature_selection&#x27;,\n",
       "                                        SelectKBest(score_func=&lt;function mutual_info_classif at 0x0000024692494700&gt;)),\n",
       "                                       (&#x27;knn&#x27;, KNeighborsClassifier())]),\n",
       "             n_jobs=-1,\n",
       "             param_grid={&#x27;feature_selection__k&#x27;: [10, 20, 30],\n",
       "                         &#x27;knn__n_neighbors&#x27;: [3, 5, 7, 9, 11],\n",
       "                         &#x27;knn__weights&#x27;: [&#x27;uniform&#x27;, &#x27;distance&#x27;]})</pre><b>In a Jupyter environment, please rerun this cell to show the HTML representation or trust the notebook. <br />On GitHub, the HTML representation is unable to render, please try loading this page with nbviewer.org.</b></div><div class=\"sk-container\" hidden><div class=\"sk-item sk-dashed-wrapped\"><div class=\"sk-label-container\"><div class=\"sk-label sk-toggleable\"><input class=\"sk-toggleable__control sk-hidden--visually\" id=\"sk-estimator-id-118\" type=\"checkbox\" ><label for=\"sk-estimator-id-118\" class=\"sk-toggleable__label sk-toggleable__label-arrow\">GridSearchCV</label><div class=\"sk-toggleable__content\"><pre>GridSearchCV(cv=5,\n",
       "             estimator=Pipeline(steps=[(&#x27;preprocessor&#x27;,\n",
       "                                        ColumnTransformer(transformers=[(&#x27;quanti&#x27;,\n",
       "                                                                         Pipeline(steps=[(&#x27;imputation&#x27;,\n",
       "                                                                                          SimpleImputer(strategy=&#x27;median&#x27;)),\n",
       "                                                                                         (&#x27;standard&#x27;,\n",
       "                                                                                          StandardScaler())]),\n",
       "                                                                         [&#x27;src_bytes&#x27;,\n",
       "                                                                          &#x27;dst_bytes&#x27;,\n",
       "                                                                          &#x27;land&#x27;,\n",
       "                                                                          &#x27;wrong_fragment&#x27;,\n",
       "                                                                          &#x27;urgent&#x27;,\n",
       "                                                                          &#x27;hot&#x27;,\n",
       "                                                                          &#x27;num_failed_logins&#x27;,\n",
       "                                                                          &#x27;logged_in&#x27;,\n",
       "                                                                          &#x27;num_compromised&#x27;,\n",
       "                                                                          &#x27;root_shell&#x27;,\n",
       "                                                                          &#x27;su_attempted&#x27;,\n",
       "                                                                          &#x27;num_root&#x27;...\n",
       "                                                                                         (&#x27;onehot&#x27;,\n",
       "                                                                                          OneHotEncoder(handle_unknown=&#x27;ignore&#x27;))]),\n",
       "                                                                         [&#x27;protocol_type&#x27;,\n",
       "                                                                          &#x27;service&#x27;,\n",
       "                                                                          &#x27;flag&#x27;,\n",
       "                                                                          &#x27;level&#x27;])])),\n",
       "                                       (&#x27;feature_selection&#x27;,\n",
       "                                        SelectKBest(score_func=&lt;function mutual_info_classif at 0x0000024692494700&gt;)),\n",
       "                                       (&#x27;knn&#x27;, KNeighborsClassifier())]),\n",
       "             n_jobs=-1,\n",
       "             param_grid={&#x27;feature_selection__k&#x27;: [10, 20, 30],\n",
       "                         &#x27;knn__n_neighbors&#x27;: [3, 5, 7, 9, 11],\n",
       "                         &#x27;knn__weights&#x27;: [&#x27;uniform&#x27;, &#x27;distance&#x27;]})</pre></div></div></div><div class=\"sk-parallel\"><div class=\"sk-parallel-item\"><div class=\"sk-item\"><div class=\"sk-label-container\"><div class=\"sk-label sk-toggleable\"><input class=\"sk-toggleable__control sk-hidden--visually\" id=\"sk-estimator-id-119\" type=\"checkbox\" ><label for=\"sk-estimator-id-119\" class=\"sk-toggleable__label sk-toggleable__label-arrow\">estimator: Pipeline</label><div class=\"sk-toggleable__content\"><pre>Pipeline(steps=[(&#x27;preprocessor&#x27;,\n",
       "                 ColumnTransformer(transformers=[(&#x27;quanti&#x27;,\n",
       "                                                  Pipeline(steps=[(&#x27;imputation&#x27;,\n",
       "                                                                   SimpleImputer(strategy=&#x27;median&#x27;)),\n",
       "                                                                  (&#x27;standard&#x27;,\n",
       "                                                                   StandardScaler())]),\n",
       "                                                  [&#x27;src_bytes&#x27;, &#x27;dst_bytes&#x27;,\n",
       "                                                   &#x27;land&#x27;, &#x27;wrong_fragment&#x27;,\n",
       "                                                   &#x27;urgent&#x27;, &#x27;hot&#x27;,\n",
       "                                                   &#x27;num_failed_logins&#x27;,\n",
       "                                                   &#x27;logged_in&#x27;,\n",
       "                                                   &#x27;num_compromised&#x27;,\n",
       "                                                   &#x27;root_shell&#x27;, &#x27;su_attempted&#x27;,\n",
       "                                                   &#x27;num_root&#x27;,\n",
       "                                                   &#x27;num_file_creations&#x27;,\n",
       "                                                   &#x27;num_s...\n",
       "                                                   &#x27;dst_host_diff_srv_rate&#x27;, ...]),\n",
       "                                                 (&#x27;quali&#x27;,\n",
       "                                                  Pipeline(steps=[(&#x27;imputation&#x27;,\n",
       "                                                                   SimpleImputer(fill_value=&#x27;manquant&#x27;,\n",
       "                                                                                 strategy=&#x27;constant&#x27;)),\n",
       "                                                                  (&#x27;onehot&#x27;,\n",
       "                                                                   OneHotEncoder(handle_unknown=&#x27;ignore&#x27;))]),\n",
       "                                                  [&#x27;protocol_type&#x27;, &#x27;service&#x27;,\n",
       "                                                   &#x27;flag&#x27;, &#x27;level&#x27;])])),\n",
       "                (&#x27;feature_selection&#x27;,\n",
       "                 SelectKBest(score_func=&lt;function mutual_info_classif at 0x0000024692494700&gt;)),\n",
       "                (&#x27;knn&#x27;, KNeighborsClassifier())])</pre></div></div></div><div class=\"sk-serial\"><div class=\"sk-item\"><div class=\"sk-serial\"><div class=\"sk-item sk-dashed-wrapped\"><div class=\"sk-label-container\"><div class=\"sk-label sk-toggleable\"><input class=\"sk-toggleable__control sk-hidden--visually\" id=\"sk-estimator-id-120\" type=\"checkbox\" ><label for=\"sk-estimator-id-120\" class=\"sk-toggleable__label sk-toggleable__label-arrow\">preprocessor: ColumnTransformer</label><div class=\"sk-toggleable__content\"><pre>ColumnTransformer(transformers=[(&#x27;quanti&#x27;,\n",
       "                                 Pipeline(steps=[(&#x27;imputation&#x27;,\n",
       "                                                  SimpleImputer(strategy=&#x27;median&#x27;)),\n",
       "                                                 (&#x27;standard&#x27;,\n",
       "                                                  StandardScaler())]),\n",
       "                                 [&#x27;src_bytes&#x27;, &#x27;dst_bytes&#x27;, &#x27;land&#x27;,\n",
       "                                  &#x27;wrong_fragment&#x27;, &#x27;urgent&#x27;, &#x27;hot&#x27;,\n",
       "                                  &#x27;num_failed_logins&#x27;, &#x27;logged_in&#x27;,\n",
       "                                  &#x27;num_compromised&#x27;, &#x27;root_shell&#x27;,\n",
       "                                  &#x27;su_attempted&#x27;, &#x27;num_root&#x27;,\n",
       "                                  &#x27;num_file_creations&#x27;, &#x27;num_shells&#x27;,\n",
       "                                  &#x27;num_access_files&#x27;, &#x27;is_ho...\n",
       "                                  &#x27;rerror_rate&#x27;, &#x27;srv_rerror_rate&#x27;,\n",
       "                                  &#x27;same_srv_rate&#x27;, &#x27;diff_srv_rate&#x27;,\n",
       "                                  &#x27;srv_diff_host_rate&#x27;, &#x27;dst_host_count&#x27;,\n",
       "                                  &#x27;dst_host_srv_count&#x27;,\n",
       "                                  &#x27;dst_host_same_srv_rate&#x27;,\n",
       "                                  &#x27;dst_host_diff_srv_rate&#x27;, ...]),\n",
       "                                (&#x27;quali&#x27;,\n",
       "                                 Pipeline(steps=[(&#x27;imputation&#x27;,\n",
       "                                                  SimpleImputer(fill_value=&#x27;manquant&#x27;,\n",
       "                                                                strategy=&#x27;constant&#x27;)),\n",
       "                                                 (&#x27;onehot&#x27;,\n",
       "                                                  OneHotEncoder(handle_unknown=&#x27;ignore&#x27;))]),\n",
       "                                 [&#x27;protocol_type&#x27;, &#x27;service&#x27;, &#x27;flag&#x27;,\n",
       "                                  &#x27;level&#x27;])])</pre></div></div></div><div class=\"sk-parallel\"><div class=\"sk-parallel-item\"><div class=\"sk-item\"><div class=\"sk-label-container\"><div class=\"sk-label sk-toggleable\"><input class=\"sk-toggleable__control sk-hidden--visually\" id=\"sk-estimator-id-121\" type=\"checkbox\" ><label for=\"sk-estimator-id-121\" class=\"sk-toggleable__label sk-toggleable__label-arrow\">quanti</label><div class=\"sk-toggleable__content\"><pre>[&#x27;src_bytes&#x27;, &#x27;dst_bytes&#x27;, &#x27;land&#x27;, &#x27;wrong_fragment&#x27;, &#x27;urgent&#x27;, &#x27;hot&#x27;, &#x27;num_failed_logins&#x27;, &#x27;logged_in&#x27;, &#x27;num_compromised&#x27;, &#x27;root_shell&#x27;, &#x27;su_attempted&#x27;, &#x27;num_root&#x27;, &#x27;num_file_creations&#x27;, &#x27;num_shells&#x27;, &#x27;num_access_files&#x27;, &#x27;is_host_login&#x27;, &#x27;is_guest_login&#x27;, &#x27;count&#x27;, &#x27;srv_count&#x27;, &#x27;serror_rate&#x27;, &#x27;srv_serror_rate&#x27;, &#x27;rerror_rate&#x27;, &#x27;srv_rerror_rate&#x27;, &#x27;same_srv_rate&#x27;, &#x27;diff_srv_rate&#x27;, &#x27;srv_diff_host_rate&#x27;, &#x27;dst_host_count&#x27;, &#x27;dst_host_srv_count&#x27;, &#x27;dst_host_same_srv_rate&#x27;, &#x27;dst_host_diff_srv_rate&#x27;, &#x27;dst_host_same_src_port_rate&#x27;, &#x27;dst_host_srv_diff_host_rate&#x27;, &#x27;dst_host_serror_rate&#x27;, &#x27;dst_host_srv_serror_rate&#x27;, &#x27;dst_host_rerror_rate&#x27;, &#x27;dst_host_srv_rerror_rate&#x27;]</pre></div></div></div><div class=\"sk-serial\"><div class=\"sk-item\"><div class=\"sk-serial\"><div class=\"sk-item\"><div class=\"sk-estimator sk-toggleable\"><input class=\"sk-toggleable__control sk-hidden--visually\" id=\"sk-estimator-id-122\" type=\"checkbox\" ><label for=\"sk-estimator-id-122\" class=\"sk-toggleable__label sk-toggleable__label-arrow\">SimpleImputer</label><div class=\"sk-toggleable__content\"><pre>SimpleImputer(strategy=&#x27;median&#x27;)</pre></div></div></div><div class=\"sk-item\"><div class=\"sk-estimator sk-toggleable\"><input class=\"sk-toggleable__control sk-hidden--visually\" id=\"sk-estimator-id-123\" type=\"checkbox\" ><label for=\"sk-estimator-id-123\" class=\"sk-toggleable__label sk-toggleable__label-arrow\">StandardScaler</label><div class=\"sk-toggleable__content\"><pre>StandardScaler()</pre></div></div></div></div></div></div></div></div><div class=\"sk-parallel-item\"><div class=\"sk-item\"><div class=\"sk-label-container\"><div class=\"sk-label sk-toggleable\"><input class=\"sk-toggleable__control sk-hidden--visually\" id=\"sk-estimator-id-124\" type=\"checkbox\" ><label for=\"sk-estimator-id-124\" class=\"sk-toggleable__label sk-toggleable__label-arrow\">quali</label><div class=\"sk-toggleable__content\"><pre>[&#x27;protocol_type&#x27;, &#x27;service&#x27;, &#x27;flag&#x27;, &#x27;level&#x27;]</pre></div></div></div><div class=\"sk-serial\"><div class=\"sk-item\"><div class=\"sk-serial\"><div class=\"sk-item\"><div class=\"sk-estimator sk-toggleable\"><input class=\"sk-toggleable__control sk-hidden--visually\" id=\"sk-estimator-id-125\" type=\"checkbox\" ><label for=\"sk-estimator-id-125\" class=\"sk-toggleable__label sk-toggleable__label-arrow\">SimpleImputer</label><div class=\"sk-toggleable__content\"><pre>SimpleImputer(fill_value=&#x27;manquant&#x27;, strategy=&#x27;constant&#x27;)</pre></div></div></div><div class=\"sk-item\"><div class=\"sk-estimator sk-toggleable\"><input class=\"sk-toggleable__control sk-hidden--visually\" id=\"sk-estimator-id-126\" type=\"checkbox\" ><label for=\"sk-estimator-id-126\" class=\"sk-toggleable__label sk-toggleable__label-arrow\">OneHotEncoder</label><div class=\"sk-toggleable__content\"><pre>OneHotEncoder(handle_unknown=&#x27;ignore&#x27;)</pre></div></div></div></div></div></div></div></div></div></div><div class=\"sk-item\"><div class=\"sk-estimator sk-toggleable\"><input class=\"sk-toggleable__control sk-hidden--visually\" id=\"sk-estimator-id-127\" type=\"checkbox\" ><label for=\"sk-estimator-id-127\" class=\"sk-toggleable__label sk-toggleable__label-arrow\">SelectKBest</label><div class=\"sk-toggleable__content\"><pre>SelectKBest(score_func=&lt;function mutual_info_classif at 0x0000024692494700&gt;)</pre></div></div></div><div class=\"sk-item\"><div class=\"sk-estimator sk-toggleable\"><input class=\"sk-toggleable__control sk-hidden--visually\" id=\"sk-estimator-id-128\" type=\"checkbox\" ><label for=\"sk-estimator-id-128\" class=\"sk-toggleable__label sk-toggleable__label-arrow\">KNeighborsClassifier</label><div class=\"sk-toggleable__content\"><pre>KNeighborsClassifier()</pre></div></div></div></div></div></div></div></div></div></div></div></div>"
      ],
      "text/plain": [
       "GridSearchCV(cv=5,\n",
       "             estimator=Pipeline(steps=[('preprocessor',\n",
       "                                        ColumnTransformer(transformers=[('quanti',\n",
       "                                                                         Pipeline(steps=[('imputation',\n",
       "                                                                                          SimpleImputer(strategy='median')),\n",
       "                                                                                         ('standard',\n",
       "                                                                                          StandardScaler())]),\n",
       "                                                                         ['src_bytes',\n",
       "                                                                          'dst_bytes',\n",
       "                                                                          'land',\n",
       "                                                                          'wrong_fragment',\n",
       "                                                                          'urgent',\n",
       "                                                                          'hot',\n",
       "                                                                          'num_failed_logins',\n",
       "                                                                          'logged_in',\n",
       "                                                                          'num_compromised',\n",
       "                                                                          'root_shell',\n",
       "                                                                          'su_attempted',\n",
       "                                                                          'num_root'...\n",
       "                                                                                         ('onehot',\n",
       "                                                                                          OneHotEncoder(handle_unknown='ignore'))]),\n",
       "                                                                         ['protocol_type',\n",
       "                                                                          'service',\n",
       "                                                                          'flag',\n",
       "                                                                          'level'])])),\n",
       "                                       ('feature_selection',\n",
       "                                        SelectKBest(score_func=<function mutual_info_classif at 0x0000024692494700>)),\n",
       "                                       ('knn', KNeighborsClassifier())]),\n",
       "             n_jobs=-1,\n",
       "             param_grid={'feature_selection__k': [10, 20, 30],\n",
       "                         'knn__n_neighbors': [3, 5, 7, 9, 11],\n",
       "                         'knn__weights': ['uniform', 'distance']})"
      ]
     },
     "execution_count": 129,
     "metadata": {},
     "output_type": "execute_result"
    }
   ],
   "source": [
    "grid_search.fit(X_train, y_train)"
   ]
  },
  {
   "cell_type": "code",
   "execution_count": 130,
   "id": "54a28d2c",
   "metadata": {},
   "outputs": [
    {
     "name": "stdout",
     "output_type": "stream",
     "text": [
      "Best parameters: {'feature_selection__k': 20, 'knn__n_neighbors': 3, 'knn__weights': 'uniform'}\n"
     ]
    }
   ],
   "source": [
    "#Résultat du grid_search \"Meilleurs paramètres pour le Knn\"\n",
    "print(\"Best parameters:\", grid_search.best_params_)\n"
   ]
  },
  {
   "cell_type": "code",
   "execution_count": 131,
   "id": "97eee6ca",
   "metadata": {},
   "outputs": [
    {
     "name": "stdout",
     "output_type": "stream",
     "text": [
      "Best score: 0.9866666666666667\n"
     ]
    }
   ],
   "source": [
    "print(\"Best score:\", grid_search.best_score_)"
   ]
  },
  {
   "cell_type": "code",
   "execution_count": 142,
   "id": "e1ba9c52",
   "metadata": {},
   "outputs": [],
   "source": [
    "# Paramètres que j'utilise après avoir fait la recherche du meilleur paramètre\n",
    "param = {'knn__n_neighbors': [3],\n",
    "            'knn__weights': ['uniform'],\n",
    "        'feature_selection__k': [20]}"
   ]
  },
  {
   "cell_type": "code",
   "execution_count": 143,
   "id": "788a53a4",
   "metadata": {},
   "outputs": [],
   "source": [
    "gsc = GridSearchCV(knn_pipeline,\n",
    "                      param_grid=param,\n",
    "                      scoring='accuracy',\n",
    "                      cv=5)"
   ]
  },
  {
   "cell_type": "code",
   "execution_count": 144,
   "id": "b22636e4",
   "metadata": {},
   "outputs": [
    {
     "data": {
      "text/html": [
       "<style>#sk-container-id-13 {color: black;background-color: white;}#sk-container-id-13 pre{padding: 0;}#sk-container-id-13 div.sk-toggleable {background-color: white;}#sk-container-id-13 label.sk-toggleable__label {cursor: pointer;display: block;width: 100%;margin-bottom: 0;padding: 0.3em;box-sizing: border-box;text-align: center;}#sk-container-id-13 label.sk-toggleable__label-arrow:before {content: \"▸\";float: left;margin-right: 0.25em;color: #696969;}#sk-container-id-13 label.sk-toggleable__label-arrow:hover:before {color: black;}#sk-container-id-13 div.sk-estimator:hover label.sk-toggleable__label-arrow:before {color: black;}#sk-container-id-13 div.sk-toggleable__content {max-height: 0;max-width: 0;overflow: hidden;text-align: left;background-color: #f0f8ff;}#sk-container-id-13 div.sk-toggleable__content pre {margin: 0.2em;color: black;border-radius: 0.25em;background-color: #f0f8ff;}#sk-container-id-13 input.sk-toggleable__control:checked~div.sk-toggleable__content {max-height: 200px;max-width: 100%;overflow: auto;}#sk-container-id-13 input.sk-toggleable__control:checked~label.sk-toggleable__label-arrow:before {content: \"▾\";}#sk-container-id-13 div.sk-estimator input.sk-toggleable__control:checked~label.sk-toggleable__label {background-color: #d4ebff;}#sk-container-id-13 div.sk-label input.sk-toggleable__control:checked~label.sk-toggleable__label {background-color: #d4ebff;}#sk-container-id-13 input.sk-hidden--visually {border: 0;clip: rect(1px 1px 1px 1px);clip: rect(1px, 1px, 1px, 1px);height: 1px;margin: -1px;overflow: hidden;padding: 0;position: absolute;width: 1px;}#sk-container-id-13 div.sk-estimator {font-family: monospace;background-color: #f0f8ff;border: 1px dotted black;border-radius: 0.25em;box-sizing: border-box;margin-bottom: 0.5em;}#sk-container-id-13 div.sk-estimator:hover {background-color: #d4ebff;}#sk-container-id-13 div.sk-parallel-item::after {content: \"\";width: 100%;border-bottom: 1px solid gray;flex-grow: 1;}#sk-container-id-13 div.sk-label:hover label.sk-toggleable__label {background-color: #d4ebff;}#sk-container-id-13 div.sk-serial::before {content: \"\";position: absolute;border-left: 1px solid gray;box-sizing: border-box;top: 0;bottom: 0;left: 50%;z-index: 0;}#sk-container-id-13 div.sk-serial {display: flex;flex-direction: column;align-items: center;background-color: white;padding-right: 0.2em;padding-left: 0.2em;position: relative;}#sk-container-id-13 div.sk-item {position: relative;z-index: 1;}#sk-container-id-13 div.sk-parallel {display: flex;align-items: stretch;justify-content: center;background-color: white;position: relative;}#sk-container-id-13 div.sk-item::before, #sk-container-id-13 div.sk-parallel-item::before {content: \"\";position: absolute;border-left: 1px solid gray;box-sizing: border-box;top: 0;bottom: 0;left: 50%;z-index: -1;}#sk-container-id-13 div.sk-parallel-item {display: flex;flex-direction: column;z-index: 1;position: relative;background-color: white;}#sk-container-id-13 div.sk-parallel-item:first-child::after {align-self: flex-end;width: 50%;}#sk-container-id-13 div.sk-parallel-item:last-child::after {align-self: flex-start;width: 50%;}#sk-container-id-13 div.sk-parallel-item:only-child::after {width: 0;}#sk-container-id-13 div.sk-dashed-wrapped {border: 1px dashed gray;margin: 0 0.4em 0.5em 0.4em;box-sizing: border-box;padding-bottom: 0.4em;background-color: white;}#sk-container-id-13 div.sk-label label {font-family: monospace;font-weight: bold;display: inline-block;line-height: 1.2em;}#sk-container-id-13 div.sk-label-container {text-align: center;}#sk-container-id-13 div.sk-container {/* jupyter's `normalize.less` sets `[hidden] { display: none; }` but bootstrap.min.css set `[hidden] { display: none !important; }` so we also need the `!important` here to be able to override the default hidden behavior on the sphinx rendered scikit-learn.org. See: https://github.com/scikit-learn/scikit-learn/issues/21755 */display: inline-block !important;position: relative;}#sk-container-id-13 div.sk-text-repr-fallback {display: none;}</style><div id=\"sk-container-id-13\" class=\"sk-top-container\"><div class=\"sk-text-repr-fallback\"><pre>GridSearchCV(cv=5,\n",
       "             estimator=Pipeline(steps=[(&#x27;preprocessor&#x27;,\n",
       "                                        ColumnTransformer(transformers=[(&#x27;quanti&#x27;,\n",
       "                                                                         Pipeline(steps=[(&#x27;imputation&#x27;,\n",
       "                                                                                          SimpleImputer(strategy=&#x27;median&#x27;)),\n",
       "                                                                                         (&#x27;standard&#x27;,\n",
       "                                                                                          StandardScaler())]),\n",
       "                                                                         [&#x27;src_bytes&#x27;,\n",
       "                                                                          &#x27;dst_bytes&#x27;,\n",
       "                                                                          &#x27;land&#x27;,\n",
       "                                                                          &#x27;wrong_fragment&#x27;,\n",
       "                                                                          &#x27;urgent&#x27;,\n",
       "                                                                          &#x27;hot&#x27;,\n",
       "                                                                          &#x27;num_failed_logins&#x27;,\n",
       "                                                                          &#x27;logged_in&#x27;,\n",
       "                                                                          &#x27;num_compromised&#x27;,\n",
       "                                                                          &#x27;root_shell&#x27;,\n",
       "                                                                          &#x27;su_attempted&#x27;,\n",
       "                                                                          &#x27;num_root&#x27;...\n",
       "                                                                                                        strategy=&#x27;constant&#x27;)),\n",
       "                                                                                         (&#x27;onehot&#x27;,\n",
       "                                                                                          OneHotEncoder(handle_unknown=&#x27;ignore&#x27;))]),\n",
       "                                                                         [&#x27;protocol_type&#x27;,\n",
       "                                                                          &#x27;service&#x27;,\n",
       "                                                                          &#x27;flag&#x27;,\n",
       "                                                                          &#x27;level&#x27;])])),\n",
       "                                       (&#x27;feature_selection&#x27;,\n",
       "                                        SelectKBest(score_func=&lt;function mutual_info_classif at 0x0000024692494700&gt;)),\n",
       "                                       (&#x27;knn&#x27;, KNeighborsClassifier())]),\n",
       "             param_grid={&#x27;feature_selection__k&#x27;: [20], &#x27;knn__n_neighbors&#x27;: [3],\n",
       "                         &#x27;knn__weights&#x27;: [&#x27;uniform&#x27;]},\n",
       "             scoring=&#x27;accuracy&#x27;)</pre><b>In a Jupyter environment, please rerun this cell to show the HTML representation or trust the notebook. <br />On GitHub, the HTML representation is unable to render, please try loading this page with nbviewer.org.</b></div><div class=\"sk-container\" hidden><div class=\"sk-item sk-dashed-wrapped\"><div class=\"sk-label-container\"><div class=\"sk-label sk-toggleable\"><input class=\"sk-toggleable__control sk-hidden--visually\" id=\"sk-estimator-id-129\" type=\"checkbox\" ><label for=\"sk-estimator-id-129\" class=\"sk-toggleable__label sk-toggleable__label-arrow\">GridSearchCV</label><div class=\"sk-toggleable__content\"><pre>GridSearchCV(cv=5,\n",
       "             estimator=Pipeline(steps=[(&#x27;preprocessor&#x27;,\n",
       "                                        ColumnTransformer(transformers=[(&#x27;quanti&#x27;,\n",
       "                                                                         Pipeline(steps=[(&#x27;imputation&#x27;,\n",
       "                                                                                          SimpleImputer(strategy=&#x27;median&#x27;)),\n",
       "                                                                                         (&#x27;standard&#x27;,\n",
       "                                                                                          StandardScaler())]),\n",
       "                                                                         [&#x27;src_bytes&#x27;,\n",
       "                                                                          &#x27;dst_bytes&#x27;,\n",
       "                                                                          &#x27;land&#x27;,\n",
       "                                                                          &#x27;wrong_fragment&#x27;,\n",
       "                                                                          &#x27;urgent&#x27;,\n",
       "                                                                          &#x27;hot&#x27;,\n",
       "                                                                          &#x27;num_failed_logins&#x27;,\n",
       "                                                                          &#x27;logged_in&#x27;,\n",
       "                                                                          &#x27;num_compromised&#x27;,\n",
       "                                                                          &#x27;root_shell&#x27;,\n",
       "                                                                          &#x27;su_attempted&#x27;,\n",
       "                                                                          &#x27;num_root&#x27;...\n",
       "                                                                                                        strategy=&#x27;constant&#x27;)),\n",
       "                                                                                         (&#x27;onehot&#x27;,\n",
       "                                                                                          OneHotEncoder(handle_unknown=&#x27;ignore&#x27;))]),\n",
       "                                                                         [&#x27;protocol_type&#x27;,\n",
       "                                                                          &#x27;service&#x27;,\n",
       "                                                                          &#x27;flag&#x27;,\n",
       "                                                                          &#x27;level&#x27;])])),\n",
       "                                       (&#x27;feature_selection&#x27;,\n",
       "                                        SelectKBest(score_func=&lt;function mutual_info_classif at 0x0000024692494700&gt;)),\n",
       "                                       (&#x27;knn&#x27;, KNeighborsClassifier())]),\n",
       "             param_grid={&#x27;feature_selection__k&#x27;: [20], &#x27;knn__n_neighbors&#x27;: [3],\n",
       "                         &#x27;knn__weights&#x27;: [&#x27;uniform&#x27;]},\n",
       "             scoring=&#x27;accuracy&#x27;)</pre></div></div></div><div class=\"sk-parallel\"><div class=\"sk-parallel-item\"><div class=\"sk-item\"><div class=\"sk-label-container\"><div class=\"sk-label sk-toggleable\"><input class=\"sk-toggleable__control sk-hidden--visually\" id=\"sk-estimator-id-130\" type=\"checkbox\" ><label for=\"sk-estimator-id-130\" class=\"sk-toggleable__label sk-toggleable__label-arrow\">estimator: Pipeline</label><div class=\"sk-toggleable__content\"><pre>Pipeline(steps=[(&#x27;preprocessor&#x27;,\n",
       "                 ColumnTransformer(transformers=[(&#x27;quanti&#x27;,\n",
       "                                                  Pipeline(steps=[(&#x27;imputation&#x27;,\n",
       "                                                                   SimpleImputer(strategy=&#x27;median&#x27;)),\n",
       "                                                                  (&#x27;standard&#x27;,\n",
       "                                                                   StandardScaler())]),\n",
       "                                                  [&#x27;src_bytes&#x27;, &#x27;dst_bytes&#x27;,\n",
       "                                                   &#x27;land&#x27;, &#x27;wrong_fragment&#x27;,\n",
       "                                                   &#x27;urgent&#x27;, &#x27;hot&#x27;,\n",
       "                                                   &#x27;num_failed_logins&#x27;,\n",
       "                                                   &#x27;logged_in&#x27;,\n",
       "                                                   &#x27;num_compromised&#x27;,\n",
       "                                                   &#x27;root_shell&#x27;, &#x27;su_attempted&#x27;,\n",
       "                                                   &#x27;num_root&#x27;,\n",
       "                                                   &#x27;num_file_creations&#x27;,\n",
       "                                                   &#x27;num_s...\n",
       "                                                   &#x27;dst_host_diff_srv_rate&#x27;, ...]),\n",
       "                                                 (&#x27;quali&#x27;,\n",
       "                                                  Pipeline(steps=[(&#x27;imputation&#x27;,\n",
       "                                                                   SimpleImputer(fill_value=&#x27;manquant&#x27;,\n",
       "                                                                                 strategy=&#x27;constant&#x27;)),\n",
       "                                                                  (&#x27;onehot&#x27;,\n",
       "                                                                   OneHotEncoder(handle_unknown=&#x27;ignore&#x27;))]),\n",
       "                                                  [&#x27;protocol_type&#x27;, &#x27;service&#x27;,\n",
       "                                                   &#x27;flag&#x27;, &#x27;level&#x27;])])),\n",
       "                (&#x27;feature_selection&#x27;,\n",
       "                 SelectKBest(score_func=&lt;function mutual_info_classif at 0x0000024692494700&gt;)),\n",
       "                (&#x27;knn&#x27;, KNeighborsClassifier())])</pre></div></div></div><div class=\"sk-serial\"><div class=\"sk-item\"><div class=\"sk-serial\"><div class=\"sk-item sk-dashed-wrapped\"><div class=\"sk-label-container\"><div class=\"sk-label sk-toggleable\"><input class=\"sk-toggleable__control sk-hidden--visually\" id=\"sk-estimator-id-131\" type=\"checkbox\" ><label for=\"sk-estimator-id-131\" class=\"sk-toggleable__label sk-toggleable__label-arrow\">preprocessor: ColumnTransformer</label><div class=\"sk-toggleable__content\"><pre>ColumnTransformer(transformers=[(&#x27;quanti&#x27;,\n",
       "                                 Pipeline(steps=[(&#x27;imputation&#x27;,\n",
       "                                                  SimpleImputer(strategy=&#x27;median&#x27;)),\n",
       "                                                 (&#x27;standard&#x27;,\n",
       "                                                  StandardScaler())]),\n",
       "                                 [&#x27;src_bytes&#x27;, &#x27;dst_bytes&#x27;, &#x27;land&#x27;,\n",
       "                                  &#x27;wrong_fragment&#x27;, &#x27;urgent&#x27;, &#x27;hot&#x27;,\n",
       "                                  &#x27;num_failed_logins&#x27;, &#x27;logged_in&#x27;,\n",
       "                                  &#x27;num_compromised&#x27;, &#x27;root_shell&#x27;,\n",
       "                                  &#x27;su_attempted&#x27;, &#x27;num_root&#x27;,\n",
       "                                  &#x27;num_file_creations&#x27;, &#x27;num_shells&#x27;,\n",
       "                                  &#x27;num_access_files&#x27;, &#x27;is_ho...\n",
       "                                  &#x27;rerror_rate&#x27;, &#x27;srv_rerror_rate&#x27;,\n",
       "                                  &#x27;same_srv_rate&#x27;, &#x27;diff_srv_rate&#x27;,\n",
       "                                  &#x27;srv_diff_host_rate&#x27;, &#x27;dst_host_count&#x27;,\n",
       "                                  &#x27;dst_host_srv_count&#x27;,\n",
       "                                  &#x27;dst_host_same_srv_rate&#x27;,\n",
       "                                  &#x27;dst_host_diff_srv_rate&#x27;, ...]),\n",
       "                                (&#x27;quali&#x27;,\n",
       "                                 Pipeline(steps=[(&#x27;imputation&#x27;,\n",
       "                                                  SimpleImputer(fill_value=&#x27;manquant&#x27;,\n",
       "                                                                strategy=&#x27;constant&#x27;)),\n",
       "                                                 (&#x27;onehot&#x27;,\n",
       "                                                  OneHotEncoder(handle_unknown=&#x27;ignore&#x27;))]),\n",
       "                                 [&#x27;protocol_type&#x27;, &#x27;service&#x27;, &#x27;flag&#x27;,\n",
       "                                  &#x27;level&#x27;])])</pre></div></div></div><div class=\"sk-parallel\"><div class=\"sk-parallel-item\"><div class=\"sk-item\"><div class=\"sk-label-container\"><div class=\"sk-label sk-toggleable\"><input class=\"sk-toggleable__control sk-hidden--visually\" id=\"sk-estimator-id-132\" type=\"checkbox\" ><label for=\"sk-estimator-id-132\" class=\"sk-toggleable__label sk-toggleable__label-arrow\">quanti</label><div class=\"sk-toggleable__content\"><pre>[&#x27;src_bytes&#x27;, &#x27;dst_bytes&#x27;, &#x27;land&#x27;, &#x27;wrong_fragment&#x27;, &#x27;urgent&#x27;, &#x27;hot&#x27;, &#x27;num_failed_logins&#x27;, &#x27;logged_in&#x27;, &#x27;num_compromised&#x27;, &#x27;root_shell&#x27;, &#x27;su_attempted&#x27;, &#x27;num_root&#x27;, &#x27;num_file_creations&#x27;, &#x27;num_shells&#x27;, &#x27;num_access_files&#x27;, &#x27;is_host_login&#x27;, &#x27;is_guest_login&#x27;, &#x27;count&#x27;, &#x27;srv_count&#x27;, &#x27;serror_rate&#x27;, &#x27;srv_serror_rate&#x27;, &#x27;rerror_rate&#x27;, &#x27;srv_rerror_rate&#x27;, &#x27;same_srv_rate&#x27;, &#x27;diff_srv_rate&#x27;, &#x27;srv_diff_host_rate&#x27;, &#x27;dst_host_count&#x27;, &#x27;dst_host_srv_count&#x27;, &#x27;dst_host_same_srv_rate&#x27;, &#x27;dst_host_diff_srv_rate&#x27;, &#x27;dst_host_same_src_port_rate&#x27;, &#x27;dst_host_srv_diff_host_rate&#x27;, &#x27;dst_host_serror_rate&#x27;, &#x27;dst_host_srv_serror_rate&#x27;, &#x27;dst_host_rerror_rate&#x27;, &#x27;dst_host_srv_rerror_rate&#x27;]</pre></div></div></div><div class=\"sk-serial\"><div class=\"sk-item\"><div class=\"sk-serial\"><div class=\"sk-item\"><div class=\"sk-estimator sk-toggleable\"><input class=\"sk-toggleable__control sk-hidden--visually\" id=\"sk-estimator-id-133\" type=\"checkbox\" ><label for=\"sk-estimator-id-133\" class=\"sk-toggleable__label sk-toggleable__label-arrow\">SimpleImputer</label><div class=\"sk-toggleable__content\"><pre>SimpleImputer(strategy=&#x27;median&#x27;)</pre></div></div></div><div class=\"sk-item\"><div class=\"sk-estimator sk-toggleable\"><input class=\"sk-toggleable__control sk-hidden--visually\" id=\"sk-estimator-id-134\" type=\"checkbox\" ><label for=\"sk-estimator-id-134\" class=\"sk-toggleable__label sk-toggleable__label-arrow\">StandardScaler</label><div class=\"sk-toggleable__content\"><pre>StandardScaler()</pre></div></div></div></div></div></div></div></div><div class=\"sk-parallel-item\"><div class=\"sk-item\"><div class=\"sk-label-container\"><div class=\"sk-label sk-toggleable\"><input class=\"sk-toggleable__control sk-hidden--visually\" id=\"sk-estimator-id-135\" type=\"checkbox\" ><label for=\"sk-estimator-id-135\" class=\"sk-toggleable__label sk-toggleable__label-arrow\">quali</label><div class=\"sk-toggleable__content\"><pre>[&#x27;protocol_type&#x27;, &#x27;service&#x27;, &#x27;flag&#x27;, &#x27;level&#x27;]</pre></div></div></div><div class=\"sk-serial\"><div class=\"sk-item\"><div class=\"sk-serial\"><div class=\"sk-item\"><div class=\"sk-estimator sk-toggleable\"><input class=\"sk-toggleable__control sk-hidden--visually\" id=\"sk-estimator-id-136\" type=\"checkbox\" ><label for=\"sk-estimator-id-136\" class=\"sk-toggleable__label sk-toggleable__label-arrow\">SimpleImputer</label><div class=\"sk-toggleable__content\"><pre>SimpleImputer(fill_value=&#x27;manquant&#x27;, strategy=&#x27;constant&#x27;)</pre></div></div></div><div class=\"sk-item\"><div class=\"sk-estimator sk-toggleable\"><input class=\"sk-toggleable__control sk-hidden--visually\" id=\"sk-estimator-id-137\" type=\"checkbox\" ><label for=\"sk-estimator-id-137\" class=\"sk-toggleable__label sk-toggleable__label-arrow\">OneHotEncoder</label><div class=\"sk-toggleable__content\"><pre>OneHotEncoder(handle_unknown=&#x27;ignore&#x27;)</pre></div></div></div></div></div></div></div></div></div></div><div class=\"sk-item\"><div class=\"sk-estimator sk-toggleable\"><input class=\"sk-toggleable__control sk-hidden--visually\" id=\"sk-estimator-id-138\" type=\"checkbox\" ><label for=\"sk-estimator-id-138\" class=\"sk-toggleable__label sk-toggleable__label-arrow\">SelectKBest</label><div class=\"sk-toggleable__content\"><pre>SelectKBest(score_func=&lt;function mutual_info_classif at 0x0000024692494700&gt;)</pre></div></div></div><div class=\"sk-item\"><div class=\"sk-estimator sk-toggleable\"><input class=\"sk-toggleable__control sk-hidden--visually\" id=\"sk-estimator-id-139\" type=\"checkbox\" ><label for=\"sk-estimator-id-139\" class=\"sk-toggleable__label sk-toggleable__label-arrow\">KNeighborsClassifier</label><div class=\"sk-toggleable__content\"><pre>KNeighborsClassifier()</pre></div></div></div></div></div></div></div></div></div></div></div></div>"
      ],
      "text/plain": [
       "GridSearchCV(cv=5,\n",
       "             estimator=Pipeline(steps=[('preprocessor',\n",
       "                                        ColumnTransformer(transformers=[('quanti',\n",
       "                                                                         Pipeline(steps=[('imputation',\n",
       "                                                                                          SimpleImputer(strategy='median')),\n",
       "                                                                                         ('standard',\n",
       "                                                                                          StandardScaler())]),\n",
       "                                                                         ['src_bytes',\n",
       "                                                                          'dst_bytes',\n",
       "                                                                          'land',\n",
       "                                                                          'wrong_fragment',\n",
       "                                                                          'urgent',\n",
       "                                                                          'hot',\n",
       "                                                                          'num_failed_logins',\n",
       "                                                                          'logged_in',\n",
       "                                                                          'num_compromised',\n",
       "                                                                          'root_shell',\n",
       "                                                                          'su_attempted',\n",
       "                                                                          'num_root'...\n",
       "                                                                                                        strategy='constant')),\n",
       "                                                                                         ('onehot',\n",
       "                                                                                          OneHotEncoder(handle_unknown='ignore'))]),\n",
       "                                                                         ['protocol_type',\n",
       "                                                                          'service',\n",
       "                                                                          'flag',\n",
       "                                                                          'level'])])),\n",
       "                                       ('feature_selection',\n",
       "                                        SelectKBest(score_func=<function mutual_info_classif at 0x0000024692494700>)),\n",
       "                                       ('knn', KNeighborsClassifier())]),\n",
       "             param_grid={'feature_selection__k': [20], 'knn__n_neighbors': [3],\n",
       "                         'knn__weights': ['uniform']},\n",
       "             scoring='accuracy')"
      ]
     },
     "execution_count": 144,
     "metadata": {},
     "output_type": "execute_result"
    }
   ],
   "source": [
    "gsc.fit(X_train, y_train)"
   ]
  },
  {
   "cell_type": "code",
   "execution_count": 145,
   "id": "9c87a73c",
   "metadata": {},
   "outputs": [],
   "source": [
    "knn_pred = gsc.predict(X_test)"
   ]
  },
  {
   "cell_type": "code",
   "execution_count": 146,
   "id": "06db684f",
   "metadata": {},
   "outputs": [
    {
     "data": {
      "text/plain": [
       "array([0, 1, 0, 1, 0, 1, 1, 0, 1, 0, 0, 1, 1, 0, 0, 1, 1, 1, 0, 0, 1, 1,\n",
       "       1, 0, 1, 0, 0, 1, 1, 1, 1, 0, 1, 0, 1, 1, 0, 1, 1, 1, 1, 1, 1, 1,\n",
       "       0, 0, 0, 1, 0, 0, 1, 0, 1, 0, 1, 0, 1, 1, 0, 1, 1, 1, 1, 1, 1, 1,\n",
       "       1, 1, 0, 1, 0, 0, 0, 0, 1, 1, 0, 0, 0, 0, 0, 0, 1, 0, 0, 1, 0, 1,\n",
       "       0, 0, 1, 1, 0, 1, 0, 1, 0, 0, 1, 0, 0, 1, 1, 0, 1, 1, 0, 1, 1, 0,\n",
       "       0, 1, 0, 0, 1, 0, 1, 1, 1, 0, 0, 1, 1, 0, 1, 0, 0, 1, 1, 1, 0, 1,\n",
       "       0, 0, 1, 1, 0, 0, 1, 0, 0, 1, 0, 0, 0, 1, 0, 0, 0, 1, 0, 0, 1, 0,\n",
       "       1, 0, 1, 0, 0, 0, 0, 0, 1, 1, 0, 1, 1, 0, 0, 1, 0, 0, 0, 1, 0, 1,\n",
       "       0, 0, 1, 0, 1, 0, 0, 0, 1, 1, 1, 0, 1, 0, 1, 1, 0, 1, 1, 1, 1, 0,\n",
       "       1, 1, 1, 0, 1, 0, 0, 1, 0, 0, 1, 0, 0, 0, 1, 0, 1, 1, 1, 1, 0, 0,\n",
       "       1, 0, 1, 0, 1, 1, 1, 0, 1, 1, 1, 0, 0, 1, 1, 1, 1, 0, 0, 1, 0, 1,\n",
       "       0, 0, 1, 1, 1, 1, 1, 0, 1, 1, 1, 1, 0, 0, 0, 0, 0, 0, 0, 0, 1, 1,\n",
       "       1, 0, 0, 0, 0, 1, 0, 1, 0, 1, 1, 1, 0, 1, 1, 1, 0, 1, 1, 1, 1, 0,\n",
       "       1, 0, 1, 1, 0, 0, 1, 0, 0, 0, 1, 0, 0, 1, 0, 1, 1, 1, 0, 1, 1, 0,\n",
       "       0, 1, 1, 1, 1, 0, 0, 0, 1, 0, 0, 0, 1, 1, 0, 0, 0, 0, 1, 0, 0, 0,\n",
       "       1, 1, 0, 1, 1, 0, 0, 1, 0, 1, 0, 1, 1, 0, 1, 1, 0, 1, 0, 1, 1, 0,\n",
       "       1, 0, 0, 1, 0, 1, 0, 1, 0, 0, 0, 1, 1, 1, 0, 1, 0, 0, 1, 1, 0, 0,\n",
       "       1, 0, 1, 0, 1, 0, 1, 1, 1, 1, 1, 0, 0, 1, 1, 1, 0, 0, 1, 0, 0, 0,\n",
       "       1, 1, 1, 0, 1, 0, 0, 0, 0, 0, 1, 0, 1, 0, 0, 1, 0, 1, 1, 1, 1, 1,\n",
       "       0, 1, 1, 0, 1, 1, 1, 1, 1, 1, 1, 1, 0, 1, 0, 1, 1, 1, 1, 0, 0, 1,\n",
       "       1, 0, 0, 1, 0, 1, 0, 0, 1, 0, 0, 1, 0, 1, 1, 1, 1, 1, 1, 1, 1, 1,\n",
       "       1, 1, 1, 0, 1, 1, 1, 0, 1, 0, 0, 1, 0, 0, 0, 0, 1, 1, 0, 1, 0, 0,\n",
       "       0, 0, 0, 0, 1, 0, 1, 0, 0, 0, 0, 1, 1, 0, 1, 0, 0, 1, 1, 0, 1, 0,\n",
       "       0, 1, 0, 1, 0, 1, 1, 0, 1, 0, 1, 1, 1, 0, 1, 0, 0, 1, 1, 0, 0, 0,\n",
       "       0, 0, 0, 1, 1, 0, 1, 0, 1, 0, 1, 1, 0, 0, 1, 0, 1, 1, 1, 0, 0, 1,\n",
       "       0, 0, 1, 0, 1, 0, 1, 1, 1, 1, 0, 0, 0, 1, 1, 0, 0, 1, 1, 0, 1, 1,\n",
       "       0, 1, 0, 0, 1, 1, 1, 1, 1, 1, 0, 0, 1, 0, 0, 0, 1, 0, 0, 0, 0, 1,\n",
       "       1, 1, 0, 1, 0, 1], dtype=int64)"
      ]
     },
     "execution_count": 146,
     "metadata": {},
     "output_type": "execute_result"
    }
   ],
   "source": [
    "knn_pred"
   ]
  },
  {
   "cell_type": "markdown",
   "id": "cb0d71b1",
   "metadata": {},
   "source": [
    "## 8 Résultat du model"
   ]
  },
  {
   "cell_type": "markdown",
   "id": "f3c55244",
   "metadata": {},
   "source": [
    "### 8.1 Résultat de l'acurracy"
   ]
  },
  {
   "cell_type": "code",
   "execution_count": 147,
   "id": "863f082a",
   "metadata": {},
   "outputs": [],
   "source": [
    "accuracy = accuracy_score(y_test, knn_pred)"
   ]
  },
  {
   "cell_type": "code",
   "execution_count": 148,
   "id": "4c2b8b7c",
   "metadata": {},
   "outputs": [
    {
     "name": "stdout",
     "output_type": "stream",
     "text": [
      "L'accuracy est de: 98.83333333333333\n"
     ]
    }
   ],
   "source": [
    "print(\"L'accuracy est de:\",accuracy*100)"
   ]
  },
  {
   "cell_type": "markdown",
   "id": "6523a9e2",
   "metadata": {},
   "source": [
    "## 10 Graphiques "
   ]
  },
  {
   "cell_type": "markdown",
   "id": "7d167f11",
   "metadata": {},
   "source": [
    "### 10.1 Learning_ curve"
   ]
  },
  {
   "cell_type": "code",
   "execution_count": 111,
   "id": "1105c206",
   "metadata": {},
   "outputs": [],
   "source": [
    "\n",
    "def plot_learning_curve(X, y, n_neighbors_range, train_sizes=np.linspace(0.1, 1.0, 5)):\n",
    "    train_sizes, train_scores, test_scores = learning_curve(\n",
    "        KNeighborsClassifier(),\n",
    "        X, y,\n",
    "        cv=5,\n",
    "        train_sizes=train_sizes,\n",
    "        scoring='accuracy',\n",
    "        n_jobs=-1\n",
    "    )\n",
    "\n",
    "    train_scores_mean = np.mean(train_scores, axis=1)\n",
    "    test_scores_mean = np.mean(test_scores, axis=1)\n",
    "\n",
    "    plt.figure(figsize=(10, 6))\n",
    "    plt.title('Learning Curve for KNN with different number of neighbors')\n",
    "    plt.xlabel('Number of training samples')\n",
    "    plt.ylabel('Accuracy')\n",
    "\n",
    "    for i, n_neighbors in enumerate(n_neighbors_range):\n",
    "        plt.plot(train_sizes, test_scores_mean, label=f'n_neighbors={n_neighbors}')\n",
    "\n",
    "    plt.legend()\n",
    "    plt.show()"
   ]
  },
  {
   "cell_type": "code",
   "execution_count": 112,
   "id": "26347fe4",
   "metadata": {},
   "outputs": [
    {
     "data": {
      "image/png": "[encoded data removed]",
      "text/plain": [
       "<Figure size 1000x600 with 1 Axes>"
      ]
     },
     "metadata": {},
     "output_type": "display_data"
    }
   ],
   "source": [
    "n_neighbors_range = [5]\n",
    "plot_learning_curve(X_train, y_train, n_neighbors_range)"
   ]
  },
  {
   "cell_type": "code",
   "execution_count": 154,
   "id": "e92bc0fa",
   "metadata": {},
   "outputs": [],
   "source": [
    "train_sizes, train_scores, test_scores = learning_curve(\n",
    "KNeighborsClassifier(),\n",
    "        X= X_train, y= y_train,\n",
    "        cv=5,\n",
    "        #train_sizes=np.linspace(0.1, 1.0, 5),\n",
    "        scoring='accuracy',\n",
    "        n_jobs=-1\n",
    "    )\n"
   ]
  },
  {
   "cell_type": "code",
   "execution_count": 155,
   "id": "87170088",
   "metadata": {},
   "outputs": [
    {
     "name": "stdout",
     "output_type": "stream",
     "text": [
      "[ 192  624 1056 1488 1920]\n"
     ]
    }
   ],
   "source": [
    "print(train_sizes)"
   ]
  },
  {
   "cell_type": "code",
   "execution_count": 157,
   "id": "cd5010f8",
   "metadata": {},
   "outputs": [
    {
     "name": "stdout",
     "output_type": "stream",
     "text": [
      "[[nan nan nan nan nan]\n",
      " [nan nan nan nan nan]\n",
      " [nan nan nan nan nan]\n",
      " [nan nan nan nan nan]\n",
      " [nan nan nan nan nan]]\n"
     ]
    }
   ],
   "source": [
    "print(test_scores)"
   ]
  },
  {
   "cell_type": "markdown",
   "id": "8af46ef9",
   "metadata": {},
   "source": [
    "### 10.2 La confusion de matrice"
   ]
  },
  {
   "cell_type": "code",
   "execution_count": 113,
   "id": "7a435a66",
   "metadata": {},
   "outputs": [
    {
     "data": {
      "image/png": "[encoded data removed]",
      "text/plain": [
       "<Figure size 640x480 with 2 Axes>"
      ]
     },
     "metadata": {},
     "output_type": "display_data"
    }
   ],
   "source": [
    "# générer la confusion de matrice\n",
    "cm = confusion_matrix(y_test, knn_pred)\n",
    "\n",
    "# TRacer la matrice de confusion sous forme\n",
    "plt.imshow(cm, interpolation='nearest', cmap=plt.cm.Blues)\n",
    "plt.colorbar()\n",
    "\n",
    "# Ajouter des étiquettes au tracé\n",
    "tick_marks = np.arange(len(np.unique(y)))\n",
    "plt.xticks(tick_marks, np.unique(y))\n",
    "plt.yticks(tick_marks, np.unique(y))\n",
    "plt.xlabel('Predicted label')\n",
    "plt.ylabel('True label')\n",
    "\n",
    "# Ajouter des valeurs dans le graphique\n",
    "thresh = cm.max() / 2\n",
    "for i, j in itertools.product(range(cm.shape[0]), range(cm.shape[1])):\n",
    "    plt.text(j, i, cm[i, j],\n",
    "             horizontalalignment=\"center\",\n",
    "             color=\"white\" if cm[i, j] > thresh else \"black\")\n",
    "\n",
    "plt.show()"
   ]
  },
  {
   "cell_type": "markdown",
   "id": "1e2b4639",
   "metadata": {},
   "source": [
    "## 9 Enregistrement du model avec pickle"
   ]
  },
  {
   "cell_type": "code",
   "execution_count": 390,
   "id": "bc5e10d3",
   "metadata": {},
   "outputs": [],
   "source": [
    "# Enregistrer le model en fichier .sav\n",
    "filename = 'D:/marceau/DS innov alternance/Données projet DDOS/01-12/Data/knn_entrainement.sav'\n",
    "pickle.dump(knn, open(filename, 'wb'))"
   ]
  },
  {
   "cell_type": "markdown",
   "id": "933e6574",
   "metadata": {},
   "source": [
    "## 11 Faire une prédiction de mon model  Knn pour les attaques Ddos\n"
   ]
  },
  {
   "cell_type": "code",
   "execution_count": 5,
   "id": "a454d202",
   "metadata": {},
   "outputs": [],
   "source": [
    "# Chargez le fichier CSV complet\n",
    "csv_file_path = \"D:/marceau/DS innov alternance/Données projet DDOS/01-12/Data/r\"\n",
    "data_to_predict = pd.read_csv(csv_file_path, low_memory=False)"
   ]
  },
  {
   "cell_type": "code",
   "execution_count": 6,
   "id": "0379f123",
   "metadata": {},
   "outputs": [],
   "source": [
    "# load the model from disk\n",
    "#loaded_model = pickle.load(open('D:/marceau/DS innov alternance/Données projet DDOS/01-12/Data/knn_entrainement.sav', 'rb'))\n",
    "with open('D:/marceau/DS innov alternance/Données projet DDOS/01-12/Data/knn_entrainement.sav', 'rb') as f:\n",
    "    model = pickle.load(f)"
   ]
  },
  {
   "cell_type": "code",
   "execution_count": 7,
   "id": "7faf9c14",
   "metadata": {},
   "outputs": [],
   "source": [
    "# Faire des prédictions sur les données chargées\n",
    "predictions = model.predict(data_to_predict)"
   ]
  },
  {
   "cell_type": "code",
   "execution_count": 8,
   "id": "3b10ed32",
   "metadata": {},
   "outputs": [
    {
     "name": "stdout",
     "output_type": "stream",
     "text": [
      "[2 2 2 2 2 2 2 2 2 2 2 2 2 2 2 2 2 2 2 2 2 2 2 2 2 2 2 2 2 2 2 2 2 2 2 2 2\n",
      " 2 2 2 2 2 2 2 2 2 2 2 2 2 2 2 2 2 2 2 2 2 2 2 2 2 2 2 2 0 2 2 2 2 2 2 2 2\n",
      " 2 2 2 2 2 2 2 2 2 0 2 2 0 2 2 2 2 2 2 2 2 2 2 2 2 2 2 2 2 2 2 2 2 2 2 2 2\n",
      " 2 2 2 2 2 2 0 2 2 2 2 2 2 2 2 2 2 2 2 2 2 2 2 2 2 2 2 2 2 2 2 2 2 2 2 2 2\n",
      " 2 2 0 2 2 2 2 2 2 2 2 2 2 2 2 2 2 2 2 2 2 2 2 2 2 2 2 2 2 2 2 2 2 2 2 2 2\n",
      " 2 2 2 2 2 2 2 2 2 2 2 2 2 2 2 0 0 0 0 0 0 0 0 0 0 0 0 0 0 0 0 0 0 0 0 0 0\n",
      " 0 0 0 0 0 0 0 2 0 0 0 0 0 0 0 0 0 0 0 0 0 0 0 0 0 0 0 0 0 0 0 0 0 0 0 0 0\n",
      " 0 0 0 0 0 0 0 0 0 0 0 2 0 0 0 0 0 0 0 0 0 0 0 2 0 0 0 0 0 0 0 0 0 0 0 0 0\n",
      " 0 0 0 0 0 0 0 0 0 0 0 0 0 0 0 0 0 0 0 0 0 0 0 0 2 0 0 0 0 0 0 0 0 0 0 0 0\n",
      " 0 0 0 0 0 0 0 0 0 0 0 0 0 0 0 0 0 0 0 0 0 0 0 0 0 0 0 0 0 0 0 0 0 0 0 0 0\n",
      " 0 0 0 0 0 0 0 1 0 0 0 0 0 0 0 0 0 0 0 0 0 0 0 0 0 0 0 0 0 0 0 0 0 0 0 0 0\n",
      " 0 0 0 2 0 0 0 0 0 0 0 0 0 0 0 0 0 0 0 0 0 0 0 0 0 0 0 0 0 0 0 0 0 0 0 0 0\n",
      " 0 0 0 0 2 1 0 0 0 0 0 0 0 0 0 0 0 0 0 0 0 0 0 0 0 0 0 0 0 0 0 0 0 0 0 0 0\n",
      " 0 0 0 0 0 0 0 0 0 0 0 0 0 2 0 0 0 0 0 0 0 0 0 0 0 0 0 0 0 0 0 0 0 0 0 0 0\n",
      " 0 0 0 0 0 0 0 0 0 0 0 0 0 2 0 0 0 0 0 0 0 0 0 0 0 0 0 0 0 0 0 0 0 0 0 0 0\n",
      " 0 0 0 0 0 0 0 0 0 0 0 0 0 0 0 0 0 0 0 0 0 0 0 0 0 0 0 0 0 0 0 0 0 0 0 0 0\n",
      " 0 0 0 0 0 0 0 0 1 1 1 1 1 1 1 1 1 1 1 1 1 1 1 1 1 1 1 1 1 1 1 1 1 1 1 1 1\n",
      " 1 1 1 1 1 1 1 1 1 1 1 1 1 1 1 1 1 1 1 1 1 1 1 1 1 1 1 1 1 1 1 1 1 1 1 1 1\n",
      " 1 1 1 1 1 1 1 1 1 1 1 1 1 1 0 1 1 1 1 1 1 1 1 1 1 1 1 1 1 1 1 1 1 1 1 1 1\n",
      " 1 1 1 1 1 1 1 1 1 1 1 1 1 1 1 1 1 1 1 1 1 1 1 1 1 1 1 1 1 1 1 1 1 1 1 1 1\n",
      " 1 1 1 1 1 1 1 1 1 1 1 1 1 1 1 1 1 1 1 1 1 1 1 1 1 1 1 1 1 1 1 1 1 1 1 1 1\n",
      " 1 1 1 1 1 1 1 1 1 1 1 1 1 1 1 1 1 1 1 1 1 1 1]\n"
     ]
    }
   ],
   "source": [
    "# Afficher les prédictions\n",
    "print(predictions)"
   ]
  },
  {
   "cell_type": "markdown",
   "id": "21eeece7",
   "metadata": {},
   "source": [
    "*Je peux constater au vue des résultat que y a pour:* \n",
    "- **la valeur:2(Dns)**\n",
    "     - il y a 5 erreurs qui m'indique que ce ne sont pas des Dns mais Bening(0)\n",
    "- **La valeur:0(Benign)**\n",
    "    - il y a 5 erreurs qui m'indique que ce sont pas des Bening mais des Dns(2)\n",
    "    - il y a 2 erreurs qui qui m'indique que ce sont pas des Bening mais des Syn(1)\n",
    "- **La valeur:1(Syn)**\n",
    "    - il y a 1 erreur qui m'indique que ce n'est pas un Syn mais Bening(0)"
   ]
  },
  {
   "cell_type": "code",
   "execution_count": null,
   "id": "41f24667",
   "metadata": {},
   "outputs": [],
   "source": []
  }
 ],
 "metadata": {
  "kernelspec": {
   "display_name": "Python 3 (ipykernel)",
   "language": "python",
   "name": "python3"
  },
  "language_info": {
   "codemirror_mode": {
    "name": "ipython",
    "version": 3
   },
   "file_extension": ".py",
   "mimetype": "text/x-python",
   "name": "python",
   "nbconvert_exporter": "python",
   "pygments_lexer": "ipython3",
   "version": "3.9.13"
  }
 },
 "nbformat": 4,
 "nbformat_minor": 5
}
