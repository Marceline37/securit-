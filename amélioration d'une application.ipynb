{
  "cells": [
    {
      "cell_type": "markdown",
      "id": "33e83c9b",
      "metadata": {
        "id": "33e83c9b"
      },
      "source": [
        "# Model Knn : Amélioration du model de données DdoS\n"
      ]
    },
    {
      "cell_type": "markdown",
      "id": "1c18ea6f",
      "metadata": {
        "id": "1c18ea6f"
      },
      "source": [
        "## 1 Chargement des librairies"
      ]
    },
    {
      "cell_type": "code",
      "source": [
        "!pip install scikit-plot"
      ],
      "metadata": {
        "id": "meyEfkd4HKpT",
        "outputId": "1f5b7eee-cb47-4bd1-fa74-23b22e2418fa",
        "colab": {
          "base_uri": "https://localhost:8080/"
        }
      },
      "id": "meyEfkd4HKpT",
      "execution_count": 2,
      "outputs": [
        {
          "output_type": "stream",
          "name": "stdout",
          "text": [
            "Looking in indexes: https://pypi.org/simple, https://us-python.pkg.dev/colab-wheels/public/simple/\n",
            "Collecting scikit-plot\n",
            "  Downloading scikit_plot-0.3.7-py3-none-any.whl (33 kB)\n",
            "Requirement already satisfied: joblib>=0.10 in /usr/local/lib/python3.9/dist-packages (from scikit-plot) (1.1.1)\n",
            "Requirement already satisfied: matplotlib>=1.4.0 in /usr/local/lib/python3.9/dist-packages (from scikit-plot) (3.7.1)\n",
            "Requirement already satisfied: scipy>=0.9 in /usr/local/lib/python3.9/dist-packages (from scikit-plot) (1.10.1)\n",
            "Requirement already satisfied: scikit-learn>=0.18 in /usr/local/lib/python3.9/dist-packages (from scikit-plot) (1.2.2)\n",
            "Requirement already satisfied: numpy>=1.20 in /usr/local/lib/python3.9/dist-packages (from matplotlib>=1.4.0->scikit-plot) (1.22.4)\n",
            "Requirement already satisfied: contourpy>=1.0.1 in /usr/local/lib/python3.9/dist-packages (from matplotlib>=1.4.0->scikit-plot) (1.0.7)\n",
            "Requirement already satisfied: packaging>=20.0 in /usr/local/lib/python3.9/dist-packages (from matplotlib>=1.4.0->scikit-plot) (23.0)\n",
            "Requirement already satisfied: cycler>=0.10 in /usr/local/lib/python3.9/dist-packages (from matplotlib>=1.4.0->scikit-plot) (0.11.0)\n",
            "Requirement already satisfied: pyparsing>=2.3.1 in /usr/local/lib/python3.9/dist-packages (from matplotlib>=1.4.0->scikit-plot) (3.0.9)\n",
            "Requirement already satisfied: importlib-resources>=3.2.0 in /usr/local/lib/python3.9/dist-packages (from matplotlib>=1.4.0->scikit-plot) (5.12.0)\n",
            "Requirement already satisfied: pillow>=6.2.0 in /usr/local/lib/python3.9/dist-packages (from matplotlib>=1.4.0->scikit-plot) (8.4.0)\n",
            "Requirement already satisfied: python-dateutil>=2.7 in /usr/local/lib/python3.9/dist-packages (from matplotlib>=1.4.0->scikit-plot) (2.8.2)\n",
            "Requirement already satisfied: fonttools>=4.22.0 in /usr/local/lib/python3.9/dist-packages (from matplotlib>=1.4.0->scikit-plot) (4.39.3)\n",
            "Requirement already satisfied: kiwisolver>=1.0.1 in /usr/local/lib/python3.9/dist-packages (from matplotlib>=1.4.0->scikit-plot) (1.4.4)\n",
            "Requirement already satisfied: threadpoolctl>=2.0.0 in /usr/local/lib/python3.9/dist-packages (from scikit-learn>=0.18->scikit-plot) (3.1.0)\n",
            "Requirement already satisfied: zipp>=3.1.0 in /usr/local/lib/python3.9/dist-packages (from importlib-resources>=3.2.0->matplotlib>=1.4.0->scikit-plot) (3.15.0)\n",
            "Requirement already satisfied: six>=1.5 in /usr/local/lib/python3.9/dist-packages (from python-dateutil>=2.7->matplotlib>=1.4.0->scikit-plot) (1.16.0)\n",
            "Installing collected packages: scikit-plot\n",
            "Successfully installed scikit-plot-0.3.7\n"
          ]
        }
      ]
    },
    {
      "cell_type": "code",
      "execution_count": 3,
      "id": "d0f2b7c1",
      "metadata": {
        "id": "d0f2b7c1"
      },
      "outputs": [],
      "source": [
        "# Librairies\n",
        "import pandas as pd\n",
        "import numpy as np\n",
        "import re\n",
        "\n",
        "# Graphiques\n",
        "import seaborn as sns ; sns.set()\n",
        "import matplotlib.pyplot as plt\n",
        "import matplotlib.gridspec as gridspec\n",
        "from sklearn.model_selection import learning_curve\n",
        "\n",
        "\n",
        "# Machine learning - Preprocessing\n",
        "from sklearn.compose import ColumnTransformer\n",
        "from sklearn.impute import SimpleImputer\n",
        "from sklearn.feature_selection import SelectKBest, mutual_info_classif\n",
        "from sklearn.preprocessing import LabelEncoder, StandardScaler, MinMaxScaler, OneHotEncoder\n",
        "\n",
        "# Machine learning - Modèle d'apprentissage supervisé\n",
        "from sklearn.neighbors import KNeighborsClassifier\n",
        "\n",
        "# Machine learning - Modèle selection\n",
        "from sklearn.model_selection import train_test_split\n",
        "from sklearn.model_selection import cross_val_score\n",
        "from sklearn.pipeline import Pipeline\n",
        "from sklearn.model_selection import GridSearchCV, train_test_split\n",
        "import pickle\n",
        "from typing import Tuple\n",
        "\n",
        "# Machine learning - Métriques d'erreur\n",
        "from sklearn.metrics import mean_absolute_error\n",
        "from sklearn.metrics import accuracy_score\n",
        "from sklearn.metrics import confusion_matrix, ConfusionMatrixDisplay\n",
        "from sklearn import metrics \n",
        "from sklearn.metrics import precision_score\n",
        "from sklearn.metrics import recall_score\n",
        "from sklearn.metrics import f1_score\n",
        "from sklearn.metrics import classification_report\n",
        "import scikitplot.metrics as splt\n",
        "from sklearn.metrics import ConfusionMatrixDisplay\n",
        "import itertools"
      ]
    },
    {
      "cell_type": "markdown",
      "id": "a174eabf",
      "metadata": {
        "id": "a174eabf"
      },
      "source": [
        "## 2 Chargement des fichiers"
      ]
    },
    {
      "cell_type": "code",
      "execution_count": 4,
      "id": "d16bd4a7",
      "metadata": {
        "id": "d16bd4a7"
      },
      "outputs": [],
      "source": [
        "test = 'https://raw.githubusercontent.com/Marceline37/securit-/main/KDDTest%2B.txt'\n",
        "train ='https://raw.githubusercontent.com/Marceline37/securit-/main/KDDTrain%2B.txt'"
      ]
    },
    {
      "cell_type": "code",
      "execution_count": 5,
      "id": "eeacd118",
      "metadata": {
        "id": "eeacd118"
      },
      "outputs": [],
      "source": [
        "df = pd.read_csv(train)"
      ]
    },
    {
      "cell_type": "code",
      "execution_count": 6,
      "id": "8c9f4806",
      "metadata": {
        "id": "8c9f4806"
      },
      "outputs": [],
      "source": [
        "df1 = pd.read_csv(test)"
      ]
    },
    {
      "cell_type": "code",
      "execution_count": 7,
      "id": "95426cd8",
      "metadata": {
        "id": "95426cd8"
      },
      "outputs": [],
      "source": [
        "# Mise en place des noms de colonnnes sur les deux dataframes\n",
        "columns = (['duration'\n",
        ",'protocol_type'\n",
        ",'service'\n",
        ",'flag'\n",
        ",'src_bytes'\n",
        ",'dst_bytes'\n",
        ",'land'\n",
        ",'wrong_fragment'\n",
        ",'urgent'\n",
        ",'hot'\n",
        ",'num_failed_logins'\n",
        ",'logged_in'\n",
        ",'num_compromised'\n",
        ",'root_shell'\n",
        ",'su_attempted'\n",
        ",'num_root'\n",
        ",'num_file_creations'\n",
        ",'num_shells'\n",
        ",'num_access_files'\n",
        ",'num_outbound_cmds'\n",
        ",'is_host_login'\n",
        ",'is_guest_login'\n",
        ",'count'\n",
        ",'srv_count'\n",
        ",'serror_rate'\n",
        ",'srv_serror_rate'\n",
        ",'rerror_rate'\n",
        ",'srv_rerror_rate'\n",
        ",'same_srv_rate'\n",
        ",'diff_srv_rate'\n",
        ",'srv_diff_host_rate'\n",
        ",'dst_host_count'\n",
        ",'dst_host_srv_count'\n",
        ",'dst_host_same_srv_rate'\n",
        ",'dst_host_diff_srv_rate'\n",
        ",'dst_host_same_src_port_rate'\n",
        ",'dst_host_srv_diff_host_rate'\n",
        ",'dst_host_serror_rate'\n",
        ",'dst_host_srv_serror_rate'\n",
        ",'dst_host_rerror_rate'\n",
        ",'dst_host_srv_rerror_rate'\n",
        ",'attack'\n",
        ",'level'])\n",
        "df.columns = columns\n",
        "df1.columns = columns"
      ]
    },
    {
      "cell_type": "code",
      "execution_count": 8,
      "id": "51c2d37e",
      "metadata": {
        "id": "51c2d37e"
      },
      "outputs": [],
      "source": [
        "# Concaténation de df et df1\n",
        "df = pd.concat([df, df1], ignore_index=True)"
      ]
    },
    {
      "cell_type": "code",
      "execution_count": 9,
      "id": "6ec01a3f",
      "metadata": {
        "id": "6ec01a3f",
        "outputId": "c63a15ed-3930-44df-ee0d-624d9120f193",
        "colab": {
          "base_uri": "https://localhost:8080/",
          "height": 488
        }
      },
      "outputs": [
        {
          "output_type": "execute_result",
          "data": {
            "text/plain": [
              "        duration protocol_type   service flag  src_bytes  dst_bytes  land  \\\n",
              "0              0           udp     other   SF        146          0     0   \n",
              "1              0           tcp   private   S0          0          0     0   \n",
              "2              0           tcp      http   SF        232       8153     0   \n",
              "3              0           tcp      http   SF        199        420     0   \n",
              "4              0           tcp   private  REJ          0          0     0   \n",
              "...          ...           ...       ...  ...        ...        ...   ...   \n",
              "148510         0           tcp      smtp   SF        794        333     0   \n",
              "148511         0           tcp      http   SF        317        938     0   \n",
              "148512         0           tcp      http   SF      54540       8314     0   \n",
              "148513         0           udp  domain_u   SF         42         42     0   \n",
              "148514         0           tcp    sunrpc  REJ          0          0     0   \n",
              "\n",
              "        wrong_fragment  urgent  hot  ...  dst_host_same_srv_rate  \\\n",
              "0                    0       0    0  ...                    0.00   \n",
              "1                    0       0    0  ...                    0.10   \n",
              "2                    0       0    0  ...                    1.00   \n",
              "3                    0       0    0  ...                    1.00   \n",
              "4                    0       0    0  ...                    0.07   \n",
              "...                ...     ...  ...  ...                     ...   \n",
              "148510               0       0    0  ...                    0.72   \n",
              "148511               0       0    0  ...                    1.00   \n",
              "148512               0       0    2  ...                    1.00   \n",
              "148513               0       0    0  ...                    0.99   \n",
              "148514               0       0    0  ...                    0.08   \n",
              "\n",
              "        dst_host_diff_srv_rate  dst_host_same_src_port_rate  \\\n",
              "0                         0.60                         0.88   \n",
              "1                         0.05                         0.00   \n",
              "2                         0.00                         0.03   \n",
              "3                         0.00                         0.00   \n",
              "4                         0.07                         0.00   \n",
              "...                        ...                          ...   \n",
              "148510                    0.06                         0.01   \n",
              "148511                    0.00                         0.01   \n",
              "148512                    0.00                         0.00   \n",
              "148513                    0.01                         0.00   \n",
              "148514                    0.03                         0.00   \n",
              "\n",
              "        dst_host_srv_diff_host_rate  dst_host_serror_rate  \\\n",
              "0                              0.00                  0.00   \n",
              "1                              0.00                  1.00   \n",
              "2                              0.04                  0.03   \n",
              "3                              0.00                  0.00   \n",
              "4                              0.00                  0.00   \n",
              "...                             ...                   ...   \n",
              "148510                         0.01                  0.01   \n",
              "148511                         0.01                  0.01   \n",
              "148512                         0.00                  0.00   \n",
              "148513                         0.00                  0.00   \n",
              "148514                         0.00                  0.00   \n",
              "\n",
              "        dst_host_srv_serror_rate  dst_host_rerror_rate  \\\n",
              "0                           0.00                  0.00   \n",
              "1                           1.00                  0.00   \n",
              "2                           0.01                  0.00   \n",
              "3                           0.00                  0.00   \n",
              "4                           0.00                  1.00   \n",
              "...                          ...                   ...   \n",
              "148510                      0.00                  0.00   \n",
              "148511                      0.00                  0.00   \n",
              "148512                      0.00                  0.07   \n",
              "148513                      0.00                  0.00   \n",
              "148514                      0.00                  0.44   \n",
              "\n",
              "        dst_host_srv_rerror_rate   attack  level  \n",
              "0                           0.00   normal     15  \n",
              "1                           0.00  neptune     19  \n",
              "2                           0.01   normal     21  \n",
              "3                           0.00   normal     21  \n",
              "4                           1.00  neptune     21  \n",
              "...                          ...      ...    ...  \n",
              "148510                      0.00   normal     21  \n",
              "148511                      0.00   normal     21  \n",
              "148512                      0.07     back     15  \n",
              "148513                      0.00   normal     21  \n",
              "148514                      1.00    mscan     14  \n",
              "\n",
              "[148515 rows x 43 columns]"
            ],
            "text/html": [
              "\n",
              "  <div id=\"df-c08d2cc6-3a26-488b-8942-1df2bc7b9276\">\n",
              "    <div class=\"colab-df-container\">\n",
              "      <div>\n",
              "<style scoped>\n",
              "    .dataframe tbody tr th:only-of-type {\n",
              "        vertical-align: middle;\n",
              "    }\n",
              "\n",
              "    .dataframe tbody tr th {\n",
              "        vertical-align: top;\n",
              "    }\n",
              "\n",
              "    .dataframe thead th {\n",
              "        text-align: right;\n",
              "    }\n",
              "</style>\n",
              "<table border=\"1\" class=\"dataframe\">\n",
              "  <thead>\n",
              "    <tr style=\"text-align: right;\">\n",
              "      <th></th>\n",
              "      <th>duration</th>\n",
              "      <th>protocol_type</th>\n",
              "      <th>service</th>\n",
              "      <th>flag</th>\n",
              "      <th>src_bytes</th>\n",
              "      <th>dst_bytes</th>\n",
              "      <th>land</th>\n",
              "      <th>wrong_fragment</th>\n",
              "      <th>urgent</th>\n",
              "      <th>hot</th>\n",
              "      <th>...</th>\n",
              "      <th>dst_host_same_srv_rate</th>\n",
              "      <th>dst_host_diff_srv_rate</th>\n",
              "      <th>dst_host_same_src_port_rate</th>\n",
              "      <th>dst_host_srv_diff_host_rate</th>\n",
              "      <th>dst_host_serror_rate</th>\n",
              "      <th>dst_host_srv_serror_rate</th>\n",
              "      <th>dst_host_rerror_rate</th>\n",
              "      <th>dst_host_srv_rerror_rate</th>\n",
              "      <th>attack</th>\n",
              "      <th>level</th>\n",
              "    </tr>\n",
              "  </thead>\n",
              "  <tbody>\n",
              "    <tr>\n",
              "      <th>0</th>\n",
              "      <td>0</td>\n",
              "      <td>udp</td>\n",
              "      <td>other</td>\n",
              "      <td>SF</td>\n",
              "      <td>146</td>\n",
              "      <td>0</td>\n",
              "      <td>0</td>\n",
              "      <td>0</td>\n",
              "      <td>0</td>\n",
              "      <td>0</td>\n",
              "      <td>...</td>\n",
              "      <td>0.00</td>\n",
              "      <td>0.60</td>\n",
              "      <td>0.88</td>\n",
              "      <td>0.00</td>\n",
              "      <td>0.00</td>\n",
              "      <td>0.00</td>\n",
              "      <td>0.00</td>\n",
              "      <td>0.00</td>\n",
              "      <td>normal</td>\n",
              "      <td>15</td>\n",
              "    </tr>\n",
              "    <tr>\n",
              "      <th>1</th>\n",
              "      <td>0</td>\n",
              "      <td>tcp</td>\n",
              "      <td>private</td>\n",
              "      <td>S0</td>\n",
              "      <td>0</td>\n",
              "      <td>0</td>\n",
              "      <td>0</td>\n",
              "      <td>0</td>\n",
              "      <td>0</td>\n",
              "      <td>0</td>\n",
              "      <td>...</td>\n",
              "      <td>0.10</td>\n",
              "      <td>0.05</td>\n",
              "      <td>0.00</td>\n",
              "      <td>0.00</td>\n",
              "      <td>1.00</td>\n",
              "      <td>1.00</td>\n",
              "      <td>0.00</td>\n",
              "      <td>0.00</td>\n",
              "      <td>neptune</td>\n",
              "      <td>19</td>\n",
              "    </tr>\n",
              "    <tr>\n",
              "      <th>2</th>\n",
              "      <td>0</td>\n",
              "      <td>tcp</td>\n",
              "      <td>http</td>\n",
              "      <td>SF</td>\n",
              "      <td>232</td>\n",
              "      <td>8153</td>\n",
              "      <td>0</td>\n",
              "      <td>0</td>\n",
              "      <td>0</td>\n",
              "      <td>0</td>\n",
              "      <td>...</td>\n",
              "      <td>1.00</td>\n",
              "      <td>0.00</td>\n",
              "      <td>0.03</td>\n",
              "      <td>0.04</td>\n",
              "      <td>0.03</td>\n",
              "      <td>0.01</td>\n",
              "      <td>0.00</td>\n",
              "      <td>0.01</td>\n",
              "      <td>normal</td>\n",
              "      <td>21</td>\n",
              "    </tr>\n",
              "    <tr>\n",
              "      <th>3</th>\n",
              "      <td>0</td>\n",
              "      <td>tcp</td>\n",
              "      <td>http</td>\n",
              "      <td>SF</td>\n",
              "      <td>199</td>\n",
              "      <td>420</td>\n",
              "      <td>0</td>\n",
              "      <td>0</td>\n",
              "      <td>0</td>\n",
              "      <td>0</td>\n",
              "      <td>...</td>\n",
              "      <td>1.00</td>\n",
              "      <td>0.00</td>\n",
              "      <td>0.00</td>\n",
              "      <td>0.00</td>\n",
              "      <td>0.00</td>\n",
              "      <td>0.00</td>\n",
              "      <td>0.00</td>\n",
              "      <td>0.00</td>\n",
              "      <td>normal</td>\n",
              "      <td>21</td>\n",
              "    </tr>\n",
              "    <tr>\n",
              "      <th>4</th>\n",
              "      <td>0</td>\n",
              "      <td>tcp</td>\n",
              "      <td>private</td>\n",
              "      <td>REJ</td>\n",
              "      <td>0</td>\n",
              "      <td>0</td>\n",
              "      <td>0</td>\n",
              "      <td>0</td>\n",
              "      <td>0</td>\n",
              "      <td>0</td>\n",
              "      <td>...</td>\n",
              "      <td>0.07</td>\n",
              "      <td>0.07</td>\n",
              "      <td>0.00</td>\n",
              "      <td>0.00</td>\n",
              "      <td>0.00</td>\n",
              "      <td>0.00</td>\n",
              "      <td>1.00</td>\n",
              "      <td>1.00</td>\n",
              "      <td>neptune</td>\n",
              "      <td>21</td>\n",
              "    </tr>\n",
              "    <tr>\n",
              "      <th>...</th>\n",
              "      <td>...</td>\n",
              "      <td>...</td>\n",
              "      <td>...</td>\n",
              "      <td>...</td>\n",
              "      <td>...</td>\n",
              "      <td>...</td>\n",
              "      <td>...</td>\n",
              "      <td>...</td>\n",
              "      <td>...</td>\n",
              "      <td>...</td>\n",
              "      <td>...</td>\n",
              "      <td>...</td>\n",
              "      <td>...</td>\n",
              "      <td>...</td>\n",
              "      <td>...</td>\n",
              "      <td>...</td>\n",
              "      <td>...</td>\n",
              "      <td>...</td>\n",
              "      <td>...</td>\n",
              "      <td>...</td>\n",
              "      <td>...</td>\n",
              "    </tr>\n",
              "    <tr>\n",
              "      <th>148510</th>\n",
              "      <td>0</td>\n",
              "      <td>tcp</td>\n",
              "      <td>smtp</td>\n",
              "      <td>SF</td>\n",
              "      <td>794</td>\n",
              "      <td>333</td>\n",
              "      <td>0</td>\n",
              "      <td>0</td>\n",
              "      <td>0</td>\n",
              "      <td>0</td>\n",
              "      <td>...</td>\n",
              "      <td>0.72</td>\n",
              "      <td>0.06</td>\n",
              "      <td>0.01</td>\n",
              "      <td>0.01</td>\n",
              "      <td>0.01</td>\n",
              "      <td>0.00</td>\n",
              "      <td>0.00</td>\n",
              "      <td>0.00</td>\n",
              "      <td>normal</td>\n",
              "      <td>21</td>\n",
              "    </tr>\n",
              "    <tr>\n",
              "      <th>148511</th>\n",
              "      <td>0</td>\n",
              "      <td>tcp</td>\n",
              "      <td>http</td>\n",
              "      <td>SF</td>\n",
              "      <td>317</td>\n",
              "      <td>938</td>\n",
              "      <td>0</td>\n",
              "      <td>0</td>\n",
              "      <td>0</td>\n",
              "      <td>0</td>\n",
              "      <td>...</td>\n",
              "      <td>1.00</td>\n",
              "      <td>0.00</td>\n",
              "      <td>0.01</td>\n",
              "      <td>0.01</td>\n",
              "      <td>0.01</td>\n",
              "      <td>0.00</td>\n",
              "      <td>0.00</td>\n",
              "      <td>0.00</td>\n",
              "      <td>normal</td>\n",
              "      <td>21</td>\n",
              "    </tr>\n",
              "    <tr>\n",
              "      <th>148512</th>\n",
              "      <td>0</td>\n",
              "      <td>tcp</td>\n",
              "      <td>http</td>\n",
              "      <td>SF</td>\n",
              "      <td>54540</td>\n",
              "      <td>8314</td>\n",
              "      <td>0</td>\n",
              "      <td>0</td>\n",
              "      <td>0</td>\n",
              "      <td>2</td>\n",
              "      <td>...</td>\n",
              "      <td>1.00</td>\n",
              "      <td>0.00</td>\n",
              "      <td>0.00</td>\n",
              "      <td>0.00</td>\n",
              "      <td>0.00</td>\n",
              "      <td>0.00</td>\n",
              "      <td>0.07</td>\n",
              "      <td>0.07</td>\n",
              "      <td>back</td>\n",
              "      <td>15</td>\n",
              "    </tr>\n",
              "    <tr>\n",
              "      <th>148513</th>\n",
              "      <td>0</td>\n",
              "      <td>udp</td>\n",
              "      <td>domain_u</td>\n",
              "      <td>SF</td>\n",
              "      <td>42</td>\n",
              "      <td>42</td>\n",
              "      <td>0</td>\n",
              "      <td>0</td>\n",
              "      <td>0</td>\n",
              "      <td>0</td>\n",
              "      <td>...</td>\n",
              "      <td>0.99</td>\n",
              "      <td>0.01</td>\n",
              "      <td>0.00</td>\n",
              "      <td>0.00</td>\n",
              "      <td>0.00</td>\n",
              "      <td>0.00</td>\n",
              "      <td>0.00</td>\n",
              "      <td>0.00</td>\n",
              "      <td>normal</td>\n",
              "      <td>21</td>\n",
              "    </tr>\n",
              "    <tr>\n",
              "      <th>148514</th>\n",
              "      <td>0</td>\n",
              "      <td>tcp</td>\n",
              "      <td>sunrpc</td>\n",
              "      <td>REJ</td>\n",
              "      <td>0</td>\n",
              "      <td>0</td>\n",
              "      <td>0</td>\n",
              "      <td>0</td>\n",
              "      <td>0</td>\n",
              "      <td>0</td>\n",
              "      <td>...</td>\n",
              "      <td>0.08</td>\n",
              "      <td>0.03</td>\n",
              "      <td>0.00</td>\n",
              "      <td>0.00</td>\n",
              "      <td>0.00</td>\n",
              "      <td>0.00</td>\n",
              "      <td>0.44</td>\n",
              "      <td>1.00</td>\n",
              "      <td>mscan</td>\n",
              "      <td>14</td>\n",
              "    </tr>\n",
              "  </tbody>\n",
              "</table>\n",
              "<p>148515 rows × 43 columns</p>\n",
              "</div>\n",
              "      <button class=\"colab-df-convert\" onclick=\"convertToInteractive('df-c08d2cc6-3a26-488b-8942-1df2bc7b9276')\"\n",
              "              title=\"Convert this dataframe to an interactive table.\"\n",
              "              style=\"display:none;\">\n",
              "        \n",
              "  <svg xmlns=\"http://www.w3.org/2000/svg\" height=\"24px\"viewBox=\"0 0 24 24\"\n",
              "       width=\"24px\">\n",
              "    <path d=\"M0 0h24v24H0V0z\" fill=\"none\"/>\n",
              "    <path d=\"M18.56 5.44l.94 2.06.94-2.06 2.06-.94-2.06-.94-.94-2.06-.94 2.06-2.06.94zm-11 1L8.5 8.5l.94-2.06 2.06-.94-2.06-.94L8.5 2.5l-.94 2.06-2.06.94zm10 10l.94 2.06.94-2.06 2.06-.94-2.06-.94-.94-2.06-.94 2.06-2.06.94z\"/><path d=\"M17.41 7.96l-1.37-1.37c-.4-.4-.92-.59-1.43-.59-.52 0-1.04.2-1.43.59L10.3 9.45l-7.72 7.72c-.78.78-.78 2.05 0 2.83L4 21.41c.39.39.9.59 1.41.59.51 0 1.02-.2 1.41-.59l7.78-7.78 2.81-2.81c.8-.78.8-2.07 0-2.86zM5.41 20L4 18.59l7.72-7.72 1.47 1.35L5.41 20z\"/>\n",
              "  </svg>\n",
              "      </button>\n",
              "      \n",
              "  <style>\n",
              "    .colab-df-container {\n",
              "      display:flex;\n",
              "      flex-wrap:wrap;\n",
              "      gap: 12px;\n",
              "    }\n",
              "\n",
              "    .colab-df-convert {\n",
              "      background-color: #E8F0FE;\n",
              "      border: none;\n",
              "      border-radius: 50%;\n",
              "      cursor: pointer;\n",
              "      display: none;\n",
              "      fill: #1967D2;\n",
              "      height: 32px;\n",
              "      padding: 0 0 0 0;\n",
              "      width: 32px;\n",
              "    }\n",
              "\n",
              "    .colab-df-convert:hover {\n",
              "      background-color: #E2EBFA;\n",
              "      box-shadow: 0px 1px 2px rgba(60, 64, 67, 0.3), 0px 1px 3px 1px rgba(60, 64, 67, 0.15);\n",
              "      fill: #174EA6;\n",
              "    }\n",
              "\n",
              "    [theme=dark] .colab-df-convert {\n",
              "      background-color: #3B4455;\n",
              "      fill: #D2E3FC;\n",
              "    }\n",
              "\n",
              "    [theme=dark] .colab-df-convert:hover {\n",
              "      background-color: #434B5C;\n",
              "      box-shadow: 0px 1px 3px 1px rgba(0, 0, 0, 0.15);\n",
              "      filter: drop-shadow(0px 1px 2px rgba(0, 0, 0, 0.3));\n",
              "      fill: #FFFFFF;\n",
              "    }\n",
              "  </style>\n",
              "\n",
              "      <script>\n",
              "        const buttonEl =\n",
              "          document.querySelector('#df-c08d2cc6-3a26-488b-8942-1df2bc7b9276 button.colab-df-convert');\n",
              "        buttonEl.style.display =\n",
              "          google.colab.kernel.accessAllowed ? 'block' : 'none';\n",
              "\n",
              "        async function convertToInteractive(key) {\n",
              "          const element = document.querySelector('#df-c08d2cc6-3a26-488b-8942-1df2bc7b9276');\n",
              "          const dataTable =\n",
              "            await google.colab.kernel.invokeFunction('convertToInteractive',\n",
              "                                                     [key], {});\n",
              "          if (!dataTable) return;\n",
              "\n",
              "          const docLinkHtml = 'Like what you see? Visit the ' +\n",
              "            '<a target=\"_blank\" href=https://colab.research.google.com/notebooks/data_table.ipynb>data table notebook</a>'\n",
              "            + ' to learn more about interactive tables.';\n",
              "          element.innerHTML = '';\n",
              "          dataTable['output_type'] = 'display_data';\n",
              "          await google.colab.output.renderOutput(dataTable, element);\n",
              "          const docLink = document.createElement('div');\n",
              "          docLink.innerHTML = docLinkHtml;\n",
              "          element.appendChild(docLink);\n",
              "        }\n",
              "      </script>\n",
              "    </div>\n",
              "  </div>\n",
              "  "
            ]
          },
          "metadata": {},
          "execution_count": 9
        }
      ],
      "source": [
        "df"
      ]
    },
    {
      "cell_type": "markdown",
      "id": "b8f96589",
      "metadata": {
        "id": "b8f96589"
      },
      "source": [
        "## 3 Nettoyage des données"
      ]
    },
    {
      "cell_type": "code",
      "execution_count": 10,
      "id": "708c1140",
      "metadata": {
        "id": "708c1140",
        "outputId": "1510f55b-1c0f-44e6-a52b-8e902222e630",
        "colab": {
          "base_uri": "https://localhost:8080/"
        }
      },
      "outputs": [
        {
          "output_type": "execute_result",
          "data": {
            "text/plain": [
              "Index(['duration', 'protocol_type', 'service', 'flag', 'src_bytes',\n",
              "       'dst_bytes', 'land', 'wrong_fragment', 'urgent', 'hot',\n",
              "       'num_failed_logins', 'logged_in', 'num_compromised', 'root_shell',\n",
              "       'su_attempted', 'num_root', 'num_file_creations', 'num_shells',\n",
              "       'num_access_files', 'num_outbound_cmds', 'is_host_login',\n",
              "       'is_guest_login', 'count', 'srv_count', 'serror_rate',\n",
              "       'srv_serror_rate', 'rerror_rate', 'srv_rerror_rate', 'same_srv_rate',\n",
              "       'diff_srv_rate', 'srv_diff_host_rate', 'dst_host_count',\n",
              "       'dst_host_srv_count', 'dst_host_same_srv_rate',\n",
              "       'dst_host_diff_srv_rate', 'dst_host_same_src_port_rate',\n",
              "       'dst_host_srv_diff_host_rate', 'dst_host_serror_rate',\n",
              "       'dst_host_srv_serror_rate', 'dst_host_rerror_rate',\n",
              "       'dst_host_srv_rerror_rate', 'attack', 'level'],\n",
              "      dtype='object')"
            ]
          },
          "metadata": {},
          "execution_count": 10
        }
      ],
      "source": [
        "df.columns"
      ]
    },
    {
      "cell_type": "code",
      "execution_count": 11,
      "id": "9d468b46",
      "metadata": {
        "id": "9d468b46",
        "outputId": "96645bc1-2585-4d82-b831-241ada81c862",
        "colab": {
          "base_uri": "https://localhost:8080/"
        }
      },
      "outputs": [
        {
          "output_type": "execute_result",
          "data": {
            "text/plain": [
              "normal             77053\n",
              "neptune            45870\n",
              "satan               4368\n",
              "ipsweep             3740\n",
              "smurf               3311\n",
              "portsweep           3088\n",
              "nmap                1566\n",
              "back                1315\n",
              "guess_passwd        1284\n",
              "mscan                996\n",
              "warezmaster          964\n",
              "teardrop             904\n",
              "warezclient          890\n",
              "apache2              737\n",
              "processtable         685\n",
              "snmpguess            331\n",
              "saint                319\n",
              "mailbomb             293\n",
              "pod                  242\n",
              "snmpgetattack        178\n",
              "httptunnel           133\n",
              "buffer_overflow       50\n",
              "land                  25\n",
              "multihop              25\n",
              "rootkit               23\n",
              "named                 17\n",
              "ps                    15\n",
              "sendmail              14\n",
              "xterm                 13\n",
              "imap                  12\n",
              "loadmodule            11\n",
              "ftp_write             11\n",
              "xlock                  9\n",
              "phf                    6\n",
              "perl                   5\n",
              "xsnoop                 4\n",
              "spy                    2\n",
              "worm                   2\n",
              "sqlattack              2\n",
              "udpstorm               2\n",
              "Name: attack, dtype: int64"
            ]
          },
          "metadata": {},
          "execution_count": 11
        }
      ],
      "source": [
        "df['attack'].value_counts()"
      ]
    },
    {
      "cell_type": "code",
      "execution_count": 12,
      "id": "4e72c6e3",
      "metadata": {
        "id": "4e72c6e3"
      },
      "outputs": [],
      "source": [
        "# Définir les attaques Ddos et les données de trafic normale\n",
        "ddos = ['Neptune', 'smurf', 'back', 'teardrop', 'apache2', 'processtable', 'mailbomb', 'pod', 'land', 'worm', 'udpstorm']\n",
        "norm = ['normal']"
      ]
    },
    {
      "cell_type": "code",
      "execution_count": 13,
      "id": "e84ee5f4",
      "metadata": {
        "id": "e84ee5f4"
      },
      "outputs": [],
      "source": [
        "# Suppression des données non essentiels\n",
        "def attack_type(row):\n",
        "    if row['attack'] in ddos:\n",
        "        return 'ddoS'\n",
        "    elif row['attack'] in norm:\n",
        "        return 'normal'\n",
        "    else:  \n",
        "        return 'other'"
      ]
    },
    {
      "cell_type": "code",
      "execution_count": 14,
      "id": "cef6d88a",
      "metadata": {
        "id": "cef6d88a"
      },
      "outputs": [],
      "source": [
        "# Application de la fonction sur la colonne attack\n",
        "df['Label'] = df.apply(attack_type, axis=1)"
      ]
    },
    {
      "cell_type": "code",
      "execution_count": 15,
      "id": "14a86353",
      "metadata": {
        "id": "14a86353"
      },
      "outputs": [],
      "source": [
        "# Suppression des lignes avec attack_type == 'other'\n",
        "df = df.drop(df[df['Label'] == 'other'].index)"
      ]
    },
    {
      "cell_type": "code",
      "execution_count": 16,
      "id": "3222c554",
      "metadata": {
        "id": "3222c554",
        "outputId": "10119891-d532-48ad-8212-3cad728fa6f0",
        "colab": {
          "base_uri": "https://localhost:8080/"
        }
      },
      "outputs": [
        {
          "output_type": "execute_result",
          "data": {
            "text/plain": [
              "normal    77053\n",
              "ddoS       7516\n",
              "Name: Label, dtype: int64"
            ]
          },
          "metadata": {},
          "execution_count": 16
        }
      ],
      "source": [
        "df['Label'].value_counts()"
      ]
    },
    {
      "cell_type": "code",
      "execution_count": 17,
      "id": "adb0e462",
      "metadata": {
        "id": "adb0e462",
        "outputId": "e32701a9-8b28-4828-9d91-18c318316ff6",
        "colab": {
          "base_uri": "https://localhost:8080/"
        }
      },
      "outputs": [
        {
          "output_type": "execute_result",
          "data": {
            "text/plain": [
              "normal          77053\n",
              "smurf            3311\n",
              "back             1315\n",
              "teardrop          904\n",
              "apache2           737\n",
              "processtable      685\n",
              "mailbomb          293\n",
              "pod               242\n",
              "land               25\n",
              "worm                2\n",
              "udpstorm            2\n",
              "Name: attack, dtype: int64"
            ]
          },
          "metadata": {},
          "execution_count": 17
        }
      ],
      "source": [
        "count_attack = df['attack'].value_counts()\n",
        "count_attack"
      ]
    },
    {
      "cell_type": "code",
      "execution_count": 18,
      "id": "22384949",
      "metadata": {
        "id": "22384949"
      },
      "outputs": [],
      "source": [
        "df_copy =df.copy()"
      ]
    },
    {
      "cell_type": "code",
      "execution_count": 19,
      "id": "53e1bed5",
      "metadata": {
        "id": "53e1bed5"
      },
      "outputs": [],
      "source": [
        "# Renommer les valeurs dans la colonne Label\n",
        "df = df.fillna(-1).replace({'normal':0, 'ddoS':1})"
      ]
    },
    {
      "cell_type": "code",
      "execution_count": 20,
      "id": "a6d79614",
      "metadata": {
        "id": "a6d79614",
        "outputId": "46677523-b636-473f-8c87-4caa0bdedf56",
        "colab": {
          "base_uri": "https://localhost:8080/"
        }
      },
      "outputs": [
        {
          "output_type": "execute_result",
          "data": {
            "text/plain": [
              "0    77053\n",
              "1     7516\n",
              "Name: Label, dtype: int64"
            ]
          },
          "metadata": {},
          "execution_count": 20
        }
      ],
      "source": [
        "df['Label'].value_counts()"
      ]
    },
    {
      "cell_type": "code",
      "execution_count": 21,
      "id": "e4c0182b",
      "metadata": {
        "id": "e4c0182b"
      },
      "outputs": [],
      "source": [
        "# Suppression des lignes contenant des valeurs manquantes\n",
        "df = df.dropna()"
      ]
    },
    {
      "cell_type": "code",
      "execution_count": 22,
      "id": "328afa0c",
      "metadata": {
        "id": "328afa0c"
      },
      "outputs": [],
      "source": [
        "# Modifier le type de la colonne 'level' en string\n",
        "df=  df.astype({'level':'str'})"
      ]
    },
    {
      "cell_type": "markdown",
      "id": "53052f8f",
      "metadata": {
        "id": "53052f8f"
      },
      "source": [
        "## 4 Preprocessing"
      ]
    },
    {
      "cell_type": "code",
      "execution_count": 30,
      "id": "7e166d0f",
      "metadata": {
        "id": "7e166d0f"
      },
      "outputs": [],
      "source": [
        "# Définir les colonnes de X,y\n",
        "X = df.drop(columns=\"Label\")\n",
        "y = df['Label']"
      ]
    },
    {
      "cell_type": "code",
      "execution_count": 31,
      "id": "06517fbd",
      "metadata": {
        "id": "06517fbd",
        "outputId": "e03ba8a4-f230-48ba-eecd-8bfab45b083c",
        "colab": {
          "base_uri": "https://localhost:8080/"
        }
      },
      "outputs": [
        {
          "output_type": "execute_result",
          "data": {
            "text/plain": [
              "Index(['duration', 'protocol_type', 'service', 'flag', 'src_bytes',\n",
              "       'dst_bytes', 'land', 'wrong_fragment', 'urgent', 'hot',\n",
              "       'num_failed_logins', 'logged_in', 'num_compromised', 'root_shell',\n",
              "       'su_attempted', 'num_root', 'num_file_creations', 'num_shells',\n",
              "       'num_access_files', 'num_outbound_cmds', 'is_host_login',\n",
              "       'is_guest_login', 'count', 'srv_count', 'serror_rate',\n",
              "       'srv_serror_rate', 'rerror_rate', 'srv_rerror_rate', 'same_srv_rate',\n",
              "       'diff_srv_rate', 'srv_diff_host_rate', 'dst_host_count',\n",
              "       'dst_host_srv_count', 'dst_host_same_srv_rate',\n",
              "       'dst_host_diff_srv_rate', 'dst_host_same_src_port_rate',\n",
              "       'dst_host_srv_diff_host_rate', 'dst_host_serror_rate',\n",
              "       'dst_host_srv_serror_rate', 'dst_host_rerror_rate',\n",
              "       'dst_host_srv_rerror_rate', 'attack', 'level'],\n",
              "      dtype='object')"
            ]
          },
          "metadata": {},
          "execution_count": 31
        }
      ],
      "source": [
        "X.columns"
      ]
    },
    {
      "cell_type": "code",
      "execution_count": 32,
      "id": "2d018500",
      "metadata": {
        "id": "2d018500",
        "outputId": "c20d468d-66d8-44ac-c745-25cf3b6f658e",
        "colab": {
          "base_uri": "https://localhost:8080/"
        }
      },
      "outputs": [
        {
          "output_type": "execute_result",
          "data": {
            "text/plain": [
              "0         0\n",
              "2         0\n",
              "3         0\n",
              "11        0\n",
              "15        0\n",
              "         ..\n",
              "148509    1\n",
              "148510    0\n",
              "148511    0\n",
              "148512    1\n",
              "148513    0\n",
              "Name: Label, Length: 84569, dtype: int64"
            ]
          },
          "metadata": {},
          "execution_count": 32
        }
      ],
      "source": [
        "y"
      ]
    },
    {
      "cell_type": "markdown",
      "id": "93cd7f3f",
      "metadata": {
        "id": "93cd7f3f"
      },
      "source": [
        "## 5 Définir le pipeline"
      ]
    },
    {
      "cell_type": "code",
      "execution_count": 33,
      "id": "cc4fa51c",
      "metadata": {
        "id": "cc4fa51c"
      },
      "outputs": [],
      "source": [
        "# Diviser les données en ensembles d'entraînement et de test\n",
        "X_train, X_test, y_train, y_test = train_test_split(X, y, test_size=0.2, random_state=42)\n",
        "  "
      ]
    },
    {
      "cell_type": "markdown",
      "id": "fbd962e4",
      "metadata": {
        "id": "fbd962e4"
      },
      "source": [
        "### 5.1 Encodage des données dans le pipeline"
      ]
    },
    {
      "cell_type": "code",
      "execution_count": 34,
      "id": "34801f1a",
      "metadata": {
        "id": "34801f1a"
      },
      "outputs": [],
      "source": [
        "# Definir les données numérics et catégorielles\n",
        "quantitative = [ 'src_bytes',\n",
        "       'dst_bytes', 'land', 'wrong_fragment', 'urgent', 'hot',\n",
        "       'num_failed_logins', 'logged_in', 'num_compromised', 'root_shell',\n",
        "       'su_attempted', 'num_root', 'num_file_creations', 'num_shells',\n",
        "       'num_access_files', 'is_host_login',\n",
        "       'is_guest_login', 'count', 'srv_count', 'serror_rate',\n",
        "       'srv_serror_rate', 'rerror_rate', 'srv_rerror_rate', 'same_srv_rate',\n",
        "       'diff_srv_rate', 'srv_diff_host_rate', 'dst_host_count',\n",
        "       'dst_host_srv_count', 'dst_host_same_srv_rate',\n",
        "       'dst_host_diff_srv_rate', 'dst_host_same_src_port_rate',\n",
        "       'dst_host_srv_diff_host_rate', 'dst_host_serror_rate',\n",
        "       'dst_host_srv_serror_rate', 'dst_host_rerror_rate',\n",
        "       'dst_host_srv_rerror_rate']\n",
        "qualitative = ['protocol_type', 'service', 'flag','level']# "
      ]
    },
    {
      "cell_type": "code",
      "execution_count": 35,
      "id": "d05a580b",
      "metadata": {
        "id": "d05a580b"
      },
      "outputs": [],
      "source": [
        "transfo_quanti = Pipeline(steps=[\n",
        "    ('imputation', SimpleImputer(strategy='median')),\n",
        "    ('standard', StandardScaler())])\n",
        "transfo_quali = Pipeline(steps=[\n",
        "    ('imputation', SimpleImputer(strategy='constant', fill_value='manquant')),\n",
        "    ('onehot', OneHotEncoder(handle_unknown='ignore'))])"
      ]
    },
    {
      "cell_type": "code",
      "execution_count": 36,
      "id": "a6f40b5d",
      "metadata": {
        "id": "a6f40b5d"
      },
      "outputs": [],
      "source": [
        "preprocessor = ColumnTransformer(transformers=[\n",
        "        ('quanti', transfo_quanti , quantitative),\n",
        "        ('quali', transfo_quali , qualitative)])\n"
      ]
    },
    {
      "cell_type": "code",
      "execution_count": 37,
      "id": "f579be24",
      "metadata": {
        "id": "f579be24"
      },
      "outputs": [],
      "source": [
        "# Ajouter l'étape de sélection de caractéristiques\n",
        "k_best = SelectKBest(mutual_info_classif, k=10)"
      ]
    },
    {
      "cell_type": "markdown",
      "id": "fef24f6d",
      "metadata": {
        "id": "fef24f6d"
      },
      "source": [
        "### 5.2 Activation du pipeline"
      ]
    },
    {
      "cell_type": "code",
      "execution_count": 38,
      "id": "f6b63fa7",
      "metadata": {
        "id": "f6b63fa7"
      },
      "outputs": [],
      "source": [
        "knn_pipeline = Pipeline(steps=[\n",
        "        ('preprocessor', preprocessor),\n",
        "        ('feature_selection', k_best),\n",
        "        ('knn', KNeighborsClassifier())\n",
        "    ])"
      ]
    },
    {
      "cell_type": "code",
      "execution_count": 39,
      "id": "62b91950",
      "metadata": {
        "id": "62b91950",
        "outputId": "de694726-a8dd-40e4-95df-f1e63ac1f60d",
        "colab": {
          "base_uri": "https://localhost:8080/",
          "height": 262
        }
      },
      "outputs": [
        {
          "output_type": "execute_result",
          "data": {
            "text/plain": [
              "Pipeline(steps=[('preprocessor',\n",
              "                 ColumnTransformer(transformers=[('quanti',\n",
              "                                                  Pipeline(steps=[('imputation',\n",
              "                                                                   SimpleImputer(strategy='median')),\n",
              "                                                                  ('standard',\n",
              "                                                                   StandardScaler())]),\n",
              "                                                  ['src_bytes', 'dst_bytes',\n",
              "                                                   'land', 'wrong_fragment',\n",
              "                                                   'urgent', 'hot',\n",
              "                                                   'num_failed_logins',\n",
              "                                                   'logged_in',\n",
              "                                                   'num_compromised',\n",
              "                                                   'root_shell', 'su_attempted',\n",
              "                                                   'num_root',\n",
              "                                                   'num_file_creations',\n",
              "                                                   'num_s...\n",
              "                                                   'dst_host_diff_srv_rate', ...]),\n",
              "                                                 ('quali',\n",
              "                                                  Pipeline(steps=[('imputation',\n",
              "                                                                   SimpleImputer(fill_value='manquant',\n",
              "                                                                                 strategy='constant')),\n",
              "                                                                  ('onehot',\n",
              "                                                                   OneHotEncoder(handle_unknown='ignore'))]),\n",
              "                                                  ['protocol_type', 'service',\n",
              "                                                   'flag', 'level'])])),\n",
              "                ('feature_selection',\n",
              "                 SelectKBest(score_func=<function mutual_info_classif at 0x7f899792a940>)),\n",
              "                ('knn', KNeighborsClassifier())])"
            ],
            "text/html": [
              "<style>#sk-container-id-1 {color: black;background-color: white;}#sk-container-id-1 pre{padding: 0;}#sk-container-id-1 div.sk-toggleable {background-color: white;}#sk-container-id-1 label.sk-toggleable__label {cursor: pointer;display: block;width: 100%;margin-bottom: 0;padding: 0.3em;box-sizing: border-box;text-align: center;}#sk-container-id-1 label.sk-toggleable__label-arrow:before {content: \"▸\";float: left;margin-right: 0.25em;color: #696969;}#sk-container-id-1 label.sk-toggleable__label-arrow:hover:before {color: black;}#sk-container-id-1 div.sk-estimator:hover label.sk-toggleable__label-arrow:before {color: black;}#sk-container-id-1 div.sk-toggleable__content {max-height: 0;max-width: 0;overflow: hidden;text-align: left;background-color: #f0f8ff;}#sk-container-id-1 div.sk-toggleable__content pre {margin: 0.2em;color: black;border-radius: 0.25em;background-color: #f0f8ff;}#sk-container-id-1 input.sk-toggleable__control:checked~div.sk-toggleable__content {max-height: 200px;max-width: 100%;overflow: auto;}#sk-container-id-1 input.sk-toggleable__control:checked~label.sk-toggleable__label-arrow:before {content: \"▾\";}#sk-container-id-1 div.sk-estimator input.sk-toggleable__control:checked~label.sk-toggleable__label {background-color: #d4ebff;}#sk-container-id-1 div.sk-label input.sk-toggleable__control:checked~label.sk-toggleable__label {background-color: #d4ebff;}#sk-container-id-1 input.sk-hidden--visually {border: 0;clip: rect(1px 1px 1px 1px);clip: rect(1px, 1px, 1px, 1px);height: 1px;margin: -1px;overflow: hidden;padding: 0;position: absolute;width: 1px;}#sk-container-id-1 div.sk-estimator {font-family: monospace;background-color: #f0f8ff;border: 1px dotted black;border-radius: 0.25em;box-sizing: border-box;margin-bottom: 0.5em;}#sk-container-id-1 div.sk-estimator:hover {background-color: #d4ebff;}#sk-container-id-1 div.sk-parallel-item::after {content: \"\";width: 100%;border-bottom: 1px solid gray;flex-grow: 1;}#sk-container-id-1 div.sk-label:hover label.sk-toggleable__label {background-color: #d4ebff;}#sk-container-id-1 div.sk-serial::before {content: \"\";position: absolute;border-left: 1px solid gray;box-sizing: border-box;top: 0;bottom: 0;left: 50%;z-index: 0;}#sk-container-id-1 div.sk-serial {display: flex;flex-direction: column;align-items: center;background-color: white;padding-right: 0.2em;padding-left: 0.2em;position: relative;}#sk-container-id-1 div.sk-item {position: relative;z-index: 1;}#sk-container-id-1 div.sk-parallel {display: flex;align-items: stretch;justify-content: center;background-color: white;position: relative;}#sk-container-id-1 div.sk-item::before, #sk-container-id-1 div.sk-parallel-item::before {content: \"\";position: absolute;border-left: 1px solid gray;box-sizing: border-box;top: 0;bottom: 0;left: 50%;z-index: -1;}#sk-container-id-1 div.sk-parallel-item {display: flex;flex-direction: column;z-index: 1;position: relative;background-color: white;}#sk-container-id-1 div.sk-parallel-item:first-child::after {align-self: flex-end;width: 50%;}#sk-container-id-1 div.sk-parallel-item:last-child::after {align-self: flex-start;width: 50%;}#sk-container-id-1 div.sk-parallel-item:only-child::after {width: 0;}#sk-container-id-1 div.sk-dashed-wrapped {border: 1px dashed gray;margin: 0 0.4em 0.5em 0.4em;box-sizing: border-box;padding-bottom: 0.4em;background-color: white;}#sk-container-id-1 div.sk-label label {font-family: monospace;font-weight: bold;display: inline-block;line-height: 1.2em;}#sk-container-id-1 div.sk-label-container {text-align: center;}#sk-container-id-1 div.sk-container {/* jupyter's `normalize.less` sets `[hidden] { display: none; }` but bootstrap.min.css set `[hidden] { display: none !important; }` so we also need the `!important` here to be able to override the default hidden behavior on the sphinx rendered scikit-learn.org. See: https://github.com/scikit-learn/scikit-learn/issues/21755 */display: inline-block !important;position: relative;}#sk-container-id-1 div.sk-text-repr-fallback {display: none;}</style><div id=\"sk-container-id-1\" class=\"sk-top-container\"><div class=\"sk-text-repr-fallback\"><pre>Pipeline(steps=[(&#x27;preprocessor&#x27;,\n",
              "                 ColumnTransformer(transformers=[(&#x27;quanti&#x27;,\n",
              "                                                  Pipeline(steps=[(&#x27;imputation&#x27;,\n",
              "                                                                   SimpleImputer(strategy=&#x27;median&#x27;)),\n",
              "                                                                  (&#x27;standard&#x27;,\n",
              "                                                                   StandardScaler())]),\n",
              "                                                  [&#x27;src_bytes&#x27;, &#x27;dst_bytes&#x27;,\n",
              "                                                   &#x27;land&#x27;, &#x27;wrong_fragment&#x27;,\n",
              "                                                   &#x27;urgent&#x27;, &#x27;hot&#x27;,\n",
              "                                                   &#x27;num_failed_logins&#x27;,\n",
              "                                                   &#x27;logged_in&#x27;,\n",
              "                                                   &#x27;num_compromised&#x27;,\n",
              "                                                   &#x27;root_shell&#x27;, &#x27;su_attempted&#x27;,\n",
              "                                                   &#x27;num_root&#x27;,\n",
              "                                                   &#x27;num_file_creations&#x27;,\n",
              "                                                   &#x27;num_s...\n",
              "                                                   &#x27;dst_host_diff_srv_rate&#x27;, ...]),\n",
              "                                                 (&#x27;quali&#x27;,\n",
              "                                                  Pipeline(steps=[(&#x27;imputation&#x27;,\n",
              "                                                                   SimpleImputer(fill_value=&#x27;manquant&#x27;,\n",
              "                                                                                 strategy=&#x27;constant&#x27;)),\n",
              "                                                                  (&#x27;onehot&#x27;,\n",
              "                                                                   OneHotEncoder(handle_unknown=&#x27;ignore&#x27;))]),\n",
              "                                                  [&#x27;protocol_type&#x27;, &#x27;service&#x27;,\n",
              "                                                   &#x27;flag&#x27;, &#x27;level&#x27;])])),\n",
              "                (&#x27;feature_selection&#x27;,\n",
              "                 SelectKBest(score_func=&lt;function mutual_info_classif at 0x7f899792a940&gt;)),\n",
              "                (&#x27;knn&#x27;, KNeighborsClassifier())])</pre><b>In a Jupyter environment, please rerun this cell to show the HTML representation or trust the notebook. <br />On GitHub, the HTML representation is unable to render, please try loading this page with nbviewer.org.</b></div><div class=\"sk-container\" hidden><div class=\"sk-item sk-dashed-wrapped\"><div class=\"sk-label-container\"><div class=\"sk-label sk-toggleable\"><input class=\"sk-toggleable__control sk-hidden--visually\" id=\"sk-estimator-id-1\" type=\"checkbox\" ><label for=\"sk-estimator-id-1\" class=\"sk-toggleable__label sk-toggleable__label-arrow\">Pipeline</label><div class=\"sk-toggleable__content\"><pre>Pipeline(steps=[(&#x27;preprocessor&#x27;,\n",
              "                 ColumnTransformer(transformers=[(&#x27;quanti&#x27;,\n",
              "                                                  Pipeline(steps=[(&#x27;imputation&#x27;,\n",
              "                                                                   SimpleImputer(strategy=&#x27;median&#x27;)),\n",
              "                                                                  (&#x27;standard&#x27;,\n",
              "                                                                   StandardScaler())]),\n",
              "                                                  [&#x27;src_bytes&#x27;, &#x27;dst_bytes&#x27;,\n",
              "                                                   &#x27;land&#x27;, &#x27;wrong_fragment&#x27;,\n",
              "                                                   &#x27;urgent&#x27;, &#x27;hot&#x27;,\n",
              "                                                   &#x27;num_failed_logins&#x27;,\n",
              "                                                   &#x27;logged_in&#x27;,\n",
              "                                                   &#x27;num_compromised&#x27;,\n",
              "                                                   &#x27;root_shell&#x27;, &#x27;su_attempted&#x27;,\n",
              "                                                   &#x27;num_root&#x27;,\n",
              "                                                   &#x27;num_file_creations&#x27;,\n",
              "                                                   &#x27;num_s...\n",
              "                                                   &#x27;dst_host_diff_srv_rate&#x27;, ...]),\n",
              "                                                 (&#x27;quali&#x27;,\n",
              "                                                  Pipeline(steps=[(&#x27;imputation&#x27;,\n",
              "                                                                   SimpleImputer(fill_value=&#x27;manquant&#x27;,\n",
              "                                                                                 strategy=&#x27;constant&#x27;)),\n",
              "                                                                  (&#x27;onehot&#x27;,\n",
              "                                                                   OneHotEncoder(handle_unknown=&#x27;ignore&#x27;))]),\n",
              "                                                  [&#x27;protocol_type&#x27;, &#x27;service&#x27;,\n",
              "                                                   &#x27;flag&#x27;, &#x27;level&#x27;])])),\n",
              "                (&#x27;feature_selection&#x27;,\n",
              "                 SelectKBest(score_func=&lt;function mutual_info_classif at 0x7f899792a940&gt;)),\n",
              "                (&#x27;knn&#x27;, KNeighborsClassifier())])</pre></div></div></div><div class=\"sk-serial\"><div class=\"sk-item sk-dashed-wrapped\"><div class=\"sk-label-container\"><div class=\"sk-label sk-toggleable\"><input class=\"sk-toggleable__control sk-hidden--visually\" id=\"sk-estimator-id-2\" type=\"checkbox\" ><label for=\"sk-estimator-id-2\" class=\"sk-toggleable__label sk-toggleable__label-arrow\">preprocessor: ColumnTransformer</label><div class=\"sk-toggleable__content\"><pre>ColumnTransformer(transformers=[(&#x27;quanti&#x27;,\n",
              "                                 Pipeline(steps=[(&#x27;imputation&#x27;,\n",
              "                                                  SimpleImputer(strategy=&#x27;median&#x27;)),\n",
              "                                                 (&#x27;standard&#x27;,\n",
              "                                                  StandardScaler())]),\n",
              "                                 [&#x27;src_bytes&#x27;, &#x27;dst_bytes&#x27;, &#x27;land&#x27;,\n",
              "                                  &#x27;wrong_fragment&#x27;, &#x27;urgent&#x27;, &#x27;hot&#x27;,\n",
              "                                  &#x27;num_failed_logins&#x27;, &#x27;logged_in&#x27;,\n",
              "                                  &#x27;num_compromised&#x27;, &#x27;root_shell&#x27;,\n",
              "                                  &#x27;su_attempted&#x27;, &#x27;num_root&#x27;,\n",
              "                                  &#x27;num_file_creations&#x27;, &#x27;num_shells&#x27;,\n",
              "                                  &#x27;num_access_files&#x27;, &#x27;is_ho...\n",
              "                                  &#x27;rerror_rate&#x27;, &#x27;srv_rerror_rate&#x27;,\n",
              "                                  &#x27;same_srv_rate&#x27;, &#x27;diff_srv_rate&#x27;,\n",
              "                                  &#x27;srv_diff_host_rate&#x27;, &#x27;dst_host_count&#x27;,\n",
              "                                  &#x27;dst_host_srv_count&#x27;,\n",
              "                                  &#x27;dst_host_same_srv_rate&#x27;,\n",
              "                                  &#x27;dst_host_diff_srv_rate&#x27;, ...]),\n",
              "                                (&#x27;quali&#x27;,\n",
              "                                 Pipeline(steps=[(&#x27;imputation&#x27;,\n",
              "                                                  SimpleImputer(fill_value=&#x27;manquant&#x27;,\n",
              "                                                                strategy=&#x27;constant&#x27;)),\n",
              "                                                 (&#x27;onehot&#x27;,\n",
              "                                                  OneHotEncoder(handle_unknown=&#x27;ignore&#x27;))]),\n",
              "                                 [&#x27;protocol_type&#x27;, &#x27;service&#x27;, &#x27;flag&#x27;,\n",
              "                                  &#x27;level&#x27;])])</pre></div></div></div><div class=\"sk-parallel\"><div class=\"sk-parallel-item\"><div class=\"sk-item\"><div class=\"sk-label-container\"><div class=\"sk-label sk-toggleable\"><input class=\"sk-toggleable__control sk-hidden--visually\" id=\"sk-estimator-id-3\" type=\"checkbox\" ><label for=\"sk-estimator-id-3\" class=\"sk-toggleable__label sk-toggleable__label-arrow\">quanti</label><div class=\"sk-toggleable__content\"><pre>[&#x27;src_bytes&#x27;, &#x27;dst_bytes&#x27;, &#x27;land&#x27;, &#x27;wrong_fragment&#x27;, &#x27;urgent&#x27;, &#x27;hot&#x27;, &#x27;num_failed_logins&#x27;, &#x27;logged_in&#x27;, &#x27;num_compromised&#x27;, &#x27;root_shell&#x27;, &#x27;su_attempted&#x27;, &#x27;num_root&#x27;, &#x27;num_file_creations&#x27;, &#x27;num_shells&#x27;, &#x27;num_access_files&#x27;, &#x27;is_host_login&#x27;, &#x27;is_guest_login&#x27;, &#x27;count&#x27;, &#x27;srv_count&#x27;, &#x27;serror_rate&#x27;, &#x27;srv_serror_rate&#x27;, &#x27;rerror_rate&#x27;, &#x27;srv_rerror_rate&#x27;, &#x27;same_srv_rate&#x27;, &#x27;diff_srv_rate&#x27;, &#x27;srv_diff_host_rate&#x27;, &#x27;dst_host_count&#x27;, &#x27;dst_host_srv_count&#x27;, &#x27;dst_host_same_srv_rate&#x27;, &#x27;dst_host_diff_srv_rate&#x27;, &#x27;dst_host_same_src_port_rate&#x27;, &#x27;dst_host_srv_diff_host_rate&#x27;, &#x27;dst_host_serror_rate&#x27;, &#x27;dst_host_srv_serror_rate&#x27;, &#x27;dst_host_rerror_rate&#x27;, &#x27;dst_host_srv_rerror_rate&#x27;]</pre></div></div></div><div class=\"sk-serial\"><div class=\"sk-item\"><div class=\"sk-serial\"><div class=\"sk-item\"><div class=\"sk-estimator sk-toggleable\"><input class=\"sk-toggleable__control sk-hidden--visually\" id=\"sk-estimator-id-4\" type=\"checkbox\" ><label for=\"sk-estimator-id-4\" class=\"sk-toggleable__label sk-toggleable__label-arrow\">SimpleImputer</label><div class=\"sk-toggleable__content\"><pre>SimpleImputer(strategy=&#x27;median&#x27;)</pre></div></div></div><div class=\"sk-item\"><div class=\"sk-estimator sk-toggleable\"><input class=\"sk-toggleable__control sk-hidden--visually\" id=\"sk-estimator-id-5\" type=\"checkbox\" ><label for=\"sk-estimator-id-5\" class=\"sk-toggleable__label sk-toggleable__label-arrow\">StandardScaler</label><div class=\"sk-toggleable__content\"><pre>StandardScaler()</pre></div></div></div></div></div></div></div></div><div class=\"sk-parallel-item\"><div class=\"sk-item\"><div class=\"sk-label-container\"><div class=\"sk-label sk-toggleable\"><input class=\"sk-toggleable__control sk-hidden--visually\" id=\"sk-estimator-id-6\" type=\"checkbox\" ><label for=\"sk-estimator-id-6\" class=\"sk-toggleable__label sk-toggleable__label-arrow\">quali</label><div class=\"sk-toggleable__content\"><pre>[&#x27;protocol_type&#x27;, &#x27;service&#x27;, &#x27;flag&#x27;, &#x27;level&#x27;]</pre></div></div></div><div class=\"sk-serial\"><div class=\"sk-item\"><div class=\"sk-serial\"><div class=\"sk-item\"><div class=\"sk-estimator sk-toggleable\"><input class=\"sk-toggleable__control sk-hidden--visually\" id=\"sk-estimator-id-7\" type=\"checkbox\" ><label for=\"sk-estimator-id-7\" class=\"sk-toggleable__label sk-toggleable__label-arrow\">SimpleImputer</label><div class=\"sk-toggleable__content\"><pre>SimpleImputer(fill_value=&#x27;manquant&#x27;, strategy=&#x27;constant&#x27;)</pre></div></div></div><div class=\"sk-item\"><div class=\"sk-estimator sk-toggleable\"><input class=\"sk-toggleable__control sk-hidden--visually\" id=\"sk-estimator-id-8\" type=\"checkbox\" ><label for=\"sk-estimator-id-8\" class=\"sk-toggleable__label sk-toggleable__label-arrow\">OneHotEncoder</label><div class=\"sk-toggleable__content\"><pre>OneHotEncoder(handle_unknown=&#x27;ignore&#x27;)</pre></div></div></div></div></div></div></div></div></div></div><div class=\"sk-item\"><div class=\"sk-estimator sk-toggleable\"><input class=\"sk-toggleable__control sk-hidden--visually\" id=\"sk-estimator-id-9\" type=\"checkbox\" ><label for=\"sk-estimator-id-9\" class=\"sk-toggleable__label sk-toggleable__label-arrow\">SelectKBest</label><div class=\"sk-toggleable__content\"><pre>SelectKBest(score_func=&lt;function mutual_info_classif at 0x7f899792a940&gt;)</pre></div></div></div><div class=\"sk-item\"><div class=\"sk-estimator sk-toggleable\"><input class=\"sk-toggleable__control sk-hidden--visually\" id=\"sk-estimator-id-10\" type=\"checkbox\" ><label for=\"sk-estimator-id-10\" class=\"sk-toggleable__label sk-toggleable__label-arrow\">KNeighborsClassifier</label><div class=\"sk-toggleable__content\"><pre>KNeighborsClassifier()</pre></div></div></div></div></div></div></div>"
            ]
          },
          "metadata": {},
          "execution_count": 39
        }
      ],
      "source": [
        "# Sélectionner les meilleures caractéristiques à partir de l'ensemble de formation\n",
        "knn_pipeline.fit(X_train, y_train)"
      ]
    },
    {
      "cell_type": "markdown",
      "id": "4e64c843",
      "metadata": {
        "id": "4e64c843"
      },
      "source": [
        "### 5.3 Paramétrage du grid_search"
      ]
    },
    {
      "cell_type": "code",
      "execution_count": 40,
      "id": "0261ec14",
      "metadata": {
        "id": "0261ec14"
      },
      "outputs": [],
      "source": [
        "#Paramètres pour la recherche de grille\n",
        "param_grid = {'knn__n_neighbors': [3, 5, 7, 9, 11],\n",
        "            'knn__weights': ['uniform', 'distance'],\n",
        "             'feature_selection__k':[10,20,30]}"
      ]
    },
    {
      "cell_type": "code",
      "execution_count": 44,
      "id": "a3e72e45",
      "metadata": {
        "id": "a3e72e45"
      },
      "outputs": [],
      "source": [
        "# Initialiser le modèle de recherche d'hyperparamètres\n",
        "grid_search = GridSearchCV(knn_pipeline, param_grid=param_grid, cv=5, n_jobs=-1)"
      ]
    },
    {
      "cell_type": "code",
      "execution_count": 45,
      "id": "0b37840f",
      "metadata": {
        "id": "0b37840f",
        "outputId": "5b865afb-bfa7-4623-f057-b7da672470be",
        "colab": {
          "base_uri": "https://localhost:8080/",
          "height": 288
        }
      },
      "outputs": [
        {
          "output_type": "execute_result",
          "data": {
            "text/plain": [
              "GridSearchCV(cv=5,\n",
              "             estimator=Pipeline(steps=[('preprocessor',\n",
              "                                        ColumnTransformer(transformers=[('quanti',\n",
              "                                                                         Pipeline(steps=[('imputation',\n",
              "                                                                                          SimpleImputer(strategy='median')),\n",
              "                                                                                         ('standard',\n",
              "                                                                                          StandardScaler())]),\n",
              "                                                                         ['src_bytes',\n",
              "                                                                          'dst_bytes',\n",
              "                                                                          'land',\n",
              "                                                                          'wrong_fragment',\n",
              "                                                                          'urgent',\n",
              "                                                                          'hot',\n",
              "                                                                          'num_failed_logins',\n",
              "                                                                          'logged_in',\n",
              "                                                                          'num_compromised',\n",
              "                                                                          'root_shell',\n",
              "                                                                          'su_attempted',\n",
              "                                                                          'num_root'...\n",
              "                                                                                         ('onehot',\n",
              "                                                                                          OneHotEncoder(handle_unknown='ignore'))]),\n",
              "                                                                         ['protocol_type',\n",
              "                                                                          'service',\n",
              "                                                                          'flag',\n",
              "                                                                          'level'])])),\n",
              "                                       ('feature_selection',\n",
              "                                        SelectKBest(score_func=<function mutual_info_classif at 0x7f899792a940>)),\n",
              "                                       ('knn', KNeighborsClassifier())]),\n",
              "             n_jobs=-1,\n",
              "             param_grid={'feature_selection__k': [10, 20, 30],\n",
              "                         'knn__n_neighbors': [3, 5, 7, 9, 11],\n",
              "                         'knn__weights': ['uniform', 'distance']})"
            ],
            "text/html": [
              "<style>#sk-container-id-2 {color: black;background-color: white;}#sk-container-id-2 pre{padding: 0;}#sk-container-id-2 div.sk-toggleable {background-color: white;}#sk-container-id-2 label.sk-toggleable__label {cursor: pointer;display: block;width: 100%;margin-bottom: 0;padding: 0.3em;box-sizing: border-box;text-align: center;}#sk-container-id-2 label.sk-toggleable__label-arrow:before {content: \"▸\";float: left;margin-right: 0.25em;color: #696969;}#sk-container-id-2 label.sk-toggleable__label-arrow:hover:before {color: black;}#sk-container-id-2 div.sk-estimator:hover label.sk-toggleable__label-arrow:before {color: black;}#sk-container-id-2 div.sk-toggleable__content {max-height: 0;max-width: 0;overflow: hidden;text-align: left;background-color: #f0f8ff;}#sk-container-id-2 div.sk-toggleable__content pre {margin: 0.2em;color: black;border-radius: 0.25em;background-color: #f0f8ff;}#sk-container-id-2 input.sk-toggleable__control:checked~div.sk-toggleable__content {max-height: 200px;max-width: 100%;overflow: auto;}#sk-container-id-2 input.sk-toggleable__control:checked~label.sk-toggleable__label-arrow:before {content: \"▾\";}#sk-container-id-2 div.sk-estimator input.sk-toggleable__control:checked~label.sk-toggleable__label {background-color: #d4ebff;}#sk-container-id-2 div.sk-label input.sk-toggleable__control:checked~label.sk-toggleable__label {background-color: #d4ebff;}#sk-container-id-2 input.sk-hidden--visually {border: 0;clip: rect(1px 1px 1px 1px);clip: rect(1px, 1px, 1px, 1px);height: 1px;margin: -1px;overflow: hidden;padding: 0;position: absolute;width: 1px;}#sk-container-id-2 div.sk-estimator {font-family: monospace;background-color: #f0f8ff;border: 1px dotted black;border-radius: 0.25em;box-sizing: border-box;margin-bottom: 0.5em;}#sk-container-id-2 div.sk-estimator:hover {background-color: #d4ebff;}#sk-container-id-2 div.sk-parallel-item::after {content: \"\";width: 100%;border-bottom: 1px solid gray;flex-grow: 1;}#sk-container-id-2 div.sk-label:hover label.sk-toggleable__label {background-color: #d4ebff;}#sk-container-id-2 div.sk-serial::before {content: \"\";position: absolute;border-left: 1px solid gray;box-sizing: border-box;top: 0;bottom: 0;left: 50%;z-index: 0;}#sk-container-id-2 div.sk-serial {display: flex;flex-direction: column;align-items: center;background-color: white;padding-right: 0.2em;padding-left: 0.2em;position: relative;}#sk-container-id-2 div.sk-item {position: relative;z-index: 1;}#sk-container-id-2 div.sk-parallel {display: flex;align-items: stretch;justify-content: center;background-color: white;position: relative;}#sk-container-id-2 div.sk-item::before, #sk-container-id-2 div.sk-parallel-item::before {content: \"\";position: absolute;border-left: 1px solid gray;box-sizing: border-box;top: 0;bottom: 0;left: 50%;z-index: -1;}#sk-container-id-2 div.sk-parallel-item {display: flex;flex-direction: column;z-index: 1;position: relative;background-color: white;}#sk-container-id-2 div.sk-parallel-item:first-child::after {align-self: flex-end;width: 50%;}#sk-container-id-2 div.sk-parallel-item:last-child::after {align-self: flex-start;width: 50%;}#sk-container-id-2 div.sk-parallel-item:only-child::after {width: 0;}#sk-container-id-2 div.sk-dashed-wrapped {border: 1px dashed gray;margin: 0 0.4em 0.5em 0.4em;box-sizing: border-box;padding-bottom: 0.4em;background-color: white;}#sk-container-id-2 div.sk-label label {font-family: monospace;font-weight: bold;display: inline-block;line-height: 1.2em;}#sk-container-id-2 div.sk-label-container {text-align: center;}#sk-container-id-2 div.sk-container {/* jupyter's `normalize.less` sets `[hidden] { display: none; }` but bootstrap.min.css set `[hidden] { display: none !important; }` so we also need the `!important` here to be able to override the default hidden behavior on the sphinx rendered scikit-learn.org. See: https://github.com/scikit-learn/scikit-learn/issues/21755 */display: inline-block !important;position: relative;}#sk-container-id-2 div.sk-text-repr-fallback {display: none;}</style><div id=\"sk-container-id-2\" class=\"sk-top-container\"><div class=\"sk-text-repr-fallback\"><pre>GridSearchCV(cv=5,\n",
              "             estimator=Pipeline(steps=[(&#x27;preprocessor&#x27;,\n",
              "                                        ColumnTransformer(transformers=[(&#x27;quanti&#x27;,\n",
              "                                                                         Pipeline(steps=[(&#x27;imputation&#x27;,\n",
              "                                                                                          SimpleImputer(strategy=&#x27;median&#x27;)),\n",
              "                                                                                         (&#x27;standard&#x27;,\n",
              "                                                                                          StandardScaler())]),\n",
              "                                                                         [&#x27;src_bytes&#x27;,\n",
              "                                                                          &#x27;dst_bytes&#x27;,\n",
              "                                                                          &#x27;land&#x27;,\n",
              "                                                                          &#x27;wrong_fragment&#x27;,\n",
              "                                                                          &#x27;urgent&#x27;,\n",
              "                                                                          &#x27;hot&#x27;,\n",
              "                                                                          &#x27;num_failed_logins&#x27;,\n",
              "                                                                          &#x27;logged_in&#x27;,\n",
              "                                                                          &#x27;num_compromised&#x27;,\n",
              "                                                                          &#x27;root_shell&#x27;,\n",
              "                                                                          &#x27;su_attempted&#x27;,\n",
              "                                                                          &#x27;num_root&#x27;...\n",
              "                                                                                         (&#x27;onehot&#x27;,\n",
              "                                                                                          OneHotEncoder(handle_unknown=&#x27;ignore&#x27;))]),\n",
              "                                                                         [&#x27;protocol_type&#x27;,\n",
              "                                                                          &#x27;service&#x27;,\n",
              "                                                                          &#x27;flag&#x27;,\n",
              "                                                                          &#x27;level&#x27;])])),\n",
              "                                       (&#x27;feature_selection&#x27;,\n",
              "                                        SelectKBest(score_func=&lt;function mutual_info_classif at 0x7f899792a940&gt;)),\n",
              "                                       (&#x27;knn&#x27;, KNeighborsClassifier())]),\n",
              "             n_jobs=-1,\n",
              "             param_grid={&#x27;feature_selection__k&#x27;: [10, 20, 30],\n",
              "                         &#x27;knn__n_neighbors&#x27;: [3, 5, 7, 9, 11],\n",
              "                         &#x27;knn__weights&#x27;: [&#x27;uniform&#x27;, &#x27;distance&#x27;]})</pre><b>In a Jupyter environment, please rerun this cell to show the HTML representation or trust the notebook. <br />On GitHub, the HTML representation is unable to render, please try loading this page with nbviewer.org.</b></div><div class=\"sk-container\" hidden><div class=\"sk-item sk-dashed-wrapped\"><div class=\"sk-label-container\"><div class=\"sk-label sk-toggleable\"><input class=\"sk-toggleable__control sk-hidden--visually\" id=\"sk-estimator-id-11\" type=\"checkbox\" ><label for=\"sk-estimator-id-11\" class=\"sk-toggleable__label sk-toggleable__label-arrow\">GridSearchCV</label><div class=\"sk-toggleable__content\"><pre>GridSearchCV(cv=5,\n",
              "             estimator=Pipeline(steps=[(&#x27;preprocessor&#x27;,\n",
              "                                        ColumnTransformer(transformers=[(&#x27;quanti&#x27;,\n",
              "                                                                         Pipeline(steps=[(&#x27;imputation&#x27;,\n",
              "                                                                                          SimpleImputer(strategy=&#x27;median&#x27;)),\n",
              "                                                                                         (&#x27;standard&#x27;,\n",
              "                                                                                          StandardScaler())]),\n",
              "                                                                         [&#x27;src_bytes&#x27;,\n",
              "                                                                          &#x27;dst_bytes&#x27;,\n",
              "                                                                          &#x27;land&#x27;,\n",
              "                                                                          &#x27;wrong_fragment&#x27;,\n",
              "                                                                          &#x27;urgent&#x27;,\n",
              "                                                                          &#x27;hot&#x27;,\n",
              "                                                                          &#x27;num_failed_logins&#x27;,\n",
              "                                                                          &#x27;logged_in&#x27;,\n",
              "                                                                          &#x27;num_compromised&#x27;,\n",
              "                                                                          &#x27;root_shell&#x27;,\n",
              "                                                                          &#x27;su_attempted&#x27;,\n",
              "                                                                          &#x27;num_root&#x27;...\n",
              "                                                                                         (&#x27;onehot&#x27;,\n",
              "                                                                                          OneHotEncoder(handle_unknown=&#x27;ignore&#x27;))]),\n",
              "                                                                         [&#x27;protocol_type&#x27;,\n",
              "                                                                          &#x27;service&#x27;,\n",
              "                                                                          &#x27;flag&#x27;,\n",
              "                                                                          &#x27;level&#x27;])])),\n",
              "                                       (&#x27;feature_selection&#x27;,\n",
              "                                        SelectKBest(score_func=&lt;function mutual_info_classif at 0x7f899792a940&gt;)),\n",
              "                                       (&#x27;knn&#x27;, KNeighborsClassifier())]),\n",
              "             n_jobs=-1,\n",
              "             param_grid={&#x27;feature_selection__k&#x27;: [10, 20, 30],\n",
              "                         &#x27;knn__n_neighbors&#x27;: [3, 5, 7, 9, 11],\n",
              "                         &#x27;knn__weights&#x27;: [&#x27;uniform&#x27;, &#x27;distance&#x27;]})</pre></div></div></div><div class=\"sk-parallel\"><div class=\"sk-parallel-item\"><div class=\"sk-item\"><div class=\"sk-label-container\"><div class=\"sk-label sk-toggleable\"><input class=\"sk-toggleable__control sk-hidden--visually\" id=\"sk-estimator-id-12\" type=\"checkbox\" ><label for=\"sk-estimator-id-12\" class=\"sk-toggleable__label sk-toggleable__label-arrow\">estimator: Pipeline</label><div class=\"sk-toggleable__content\"><pre>Pipeline(steps=[(&#x27;preprocessor&#x27;,\n",
              "                 ColumnTransformer(transformers=[(&#x27;quanti&#x27;,\n",
              "                                                  Pipeline(steps=[(&#x27;imputation&#x27;,\n",
              "                                                                   SimpleImputer(strategy=&#x27;median&#x27;)),\n",
              "                                                                  (&#x27;standard&#x27;,\n",
              "                                                                   StandardScaler())]),\n",
              "                                                  [&#x27;src_bytes&#x27;, &#x27;dst_bytes&#x27;,\n",
              "                                                   &#x27;land&#x27;, &#x27;wrong_fragment&#x27;,\n",
              "                                                   &#x27;urgent&#x27;, &#x27;hot&#x27;,\n",
              "                                                   &#x27;num_failed_logins&#x27;,\n",
              "                                                   &#x27;logged_in&#x27;,\n",
              "                                                   &#x27;num_compromised&#x27;,\n",
              "                                                   &#x27;root_shell&#x27;, &#x27;su_attempted&#x27;,\n",
              "                                                   &#x27;num_root&#x27;,\n",
              "                                                   &#x27;num_file_creations&#x27;,\n",
              "                                                   &#x27;num_s...\n",
              "                                                   &#x27;dst_host_diff_srv_rate&#x27;, ...]),\n",
              "                                                 (&#x27;quali&#x27;,\n",
              "                                                  Pipeline(steps=[(&#x27;imputation&#x27;,\n",
              "                                                                   SimpleImputer(fill_value=&#x27;manquant&#x27;,\n",
              "                                                                                 strategy=&#x27;constant&#x27;)),\n",
              "                                                                  (&#x27;onehot&#x27;,\n",
              "                                                                   OneHotEncoder(handle_unknown=&#x27;ignore&#x27;))]),\n",
              "                                                  [&#x27;protocol_type&#x27;, &#x27;service&#x27;,\n",
              "                                                   &#x27;flag&#x27;, &#x27;level&#x27;])])),\n",
              "                (&#x27;feature_selection&#x27;,\n",
              "                 SelectKBest(score_func=&lt;function mutual_info_classif at 0x7f899792a940&gt;)),\n",
              "                (&#x27;knn&#x27;, KNeighborsClassifier())])</pre></div></div></div><div class=\"sk-serial\"><div class=\"sk-item\"><div class=\"sk-serial\"><div class=\"sk-item sk-dashed-wrapped\"><div class=\"sk-label-container\"><div class=\"sk-label sk-toggleable\"><input class=\"sk-toggleable__control sk-hidden--visually\" id=\"sk-estimator-id-13\" type=\"checkbox\" ><label for=\"sk-estimator-id-13\" class=\"sk-toggleable__label sk-toggleable__label-arrow\">preprocessor: ColumnTransformer</label><div class=\"sk-toggleable__content\"><pre>ColumnTransformer(transformers=[(&#x27;quanti&#x27;,\n",
              "                                 Pipeline(steps=[(&#x27;imputation&#x27;,\n",
              "                                                  SimpleImputer(strategy=&#x27;median&#x27;)),\n",
              "                                                 (&#x27;standard&#x27;,\n",
              "                                                  StandardScaler())]),\n",
              "                                 [&#x27;src_bytes&#x27;, &#x27;dst_bytes&#x27;, &#x27;land&#x27;,\n",
              "                                  &#x27;wrong_fragment&#x27;, &#x27;urgent&#x27;, &#x27;hot&#x27;,\n",
              "                                  &#x27;num_failed_logins&#x27;, &#x27;logged_in&#x27;,\n",
              "                                  &#x27;num_compromised&#x27;, &#x27;root_shell&#x27;,\n",
              "                                  &#x27;su_attempted&#x27;, &#x27;num_root&#x27;,\n",
              "                                  &#x27;num_file_creations&#x27;, &#x27;num_shells&#x27;,\n",
              "                                  &#x27;num_access_files&#x27;, &#x27;is_ho...\n",
              "                                  &#x27;rerror_rate&#x27;, &#x27;srv_rerror_rate&#x27;,\n",
              "                                  &#x27;same_srv_rate&#x27;, &#x27;diff_srv_rate&#x27;,\n",
              "                                  &#x27;srv_diff_host_rate&#x27;, &#x27;dst_host_count&#x27;,\n",
              "                                  &#x27;dst_host_srv_count&#x27;,\n",
              "                                  &#x27;dst_host_same_srv_rate&#x27;,\n",
              "                                  &#x27;dst_host_diff_srv_rate&#x27;, ...]),\n",
              "                                (&#x27;quali&#x27;,\n",
              "                                 Pipeline(steps=[(&#x27;imputation&#x27;,\n",
              "                                                  SimpleImputer(fill_value=&#x27;manquant&#x27;,\n",
              "                                                                strategy=&#x27;constant&#x27;)),\n",
              "                                                 (&#x27;onehot&#x27;,\n",
              "                                                  OneHotEncoder(handle_unknown=&#x27;ignore&#x27;))]),\n",
              "                                 [&#x27;protocol_type&#x27;, &#x27;service&#x27;, &#x27;flag&#x27;,\n",
              "                                  &#x27;level&#x27;])])</pre></div></div></div><div class=\"sk-parallel\"><div class=\"sk-parallel-item\"><div class=\"sk-item\"><div class=\"sk-label-container\"><div class=\"sk-label sk-toggleable\"><input class=\"sk-toggleable__control sk-hidden--visually\" id=\"sk-estimator-id-14\" type=\"checkbox\" ><label for=\"sk-estimator-id-14\" class=\"sk-toggleable__label sk-toggleable__label-arrow\">quanti</label><div class=\"sk-toggleable__content\"><pre>[&#x27;src_bytes&#x27;, &#x27;dst_bytes&#x27;, &#x27;land&#x27;, &#x27;wrong_fragment&#x27;, &#x27;urgent&#x27;, &#x27;hot&#x27;, &#x27;num_failed_logins&#x27;, &#x27;logged_in&#x27;, &#x27;num_compromised&#x27;, &#x27;root_shell&#x27;, &#x27;su_attempted&#x27;, &#x27;num_root&#x27;, &#x27;num_file_creations&#x27;, &#x27;num_shells&#x27;, &#x27;num_access_files&#x27;, &#x27;is_host_login&#x27;, &#x27;is_guest_login&#x27;, &#x27;count&#x27;, &#x27;srv_count&#x27;, &#x27;serror_rate&#x27;, &#x27;srv_serror_rate&#x27;, &#x27;rerror_rate&#x27;, &#x27;srv_rerror_rate&#x27;, &#x27;same_srv_rate&#x27;, &#x27;diff_srv_rate&#x27;, &#x27;srv_diff_host_rate&#x27;, &#x27;dst_host_count&#x27;, &#x27;dst_host_srv_count&#x27;, &#x27;dst_host_same_srv_rate&#x27;, &#x27;dst_host_diff_srv_rate&#x27;, &#x27;dst_host_same_src_port_rate&#x27;, &#x27;dst_host_srv_diff_host_rate&#x27;, &#x27;dst_host_serror_rate&#x27;, &#x27;dst_host_srv_serror_rate&#x27;, &#x27;dst_host_rerror_rate&#x27;, &#x27;dst_host_srv_rerror_rate&#x27;]</pre></div></div></div><div class=\"sk-serial\"><div class=\"sk-item\"><div class=\"sk-serial\"><div class=\"sk-item\"><div class=\"sk-estimator sk-toggleable\"><input class=\"sk-toggleable__control sk-hidden--visually\" id=\"sk-estimator-id-15\" type=\"checkbox\" ><label for=\"sk-estimator-id-15\" class=\"sk-toggleable__label sk-toggleable__label-arrow\">SimpleImputer</label><div class=\"sk-toggleable__content\"><pre>SimpleImputer(strategy=&#x27;median&#x27;)</pre></div></div></div><div class=\"sk-item\"><div class=\"sk-estimator sk-toggleable\"><input class=\"sk-toggleable__control sk-hidden--visually\" id=\"sk-estimator-id-16\" type=\"checkbox\" ><label for=\"sk-estimator-id-16\" class=\"sk-toggleable__label sk-toggleable__label-arrow\">StandardScaler</label><div class=\"sk-toggleable__content\"><pre>StandardScaler()</pre></div></div></div></div></div></div></div></div><div class=\"sk-parallel-item\"><div class=\"sk-item\"><div class=\"sk-label-container\"><div class=\"sk-label sk-toggleable\"><input class=\"sk-toggleable__control sk-hidden--visually\" id=\"sk-estimator-id-17\" type=\"checkbox\" ><label for=\"sk-estimator-id-17\" class=\"sk-toggleable__label sk-toggleable__label-arrow\">quali</label><div class=\"sk-toggleable__content\"><pre>[&#x27;protocol_type&#x27;, &#x27;service&#x27;, &#x27;flag&#x27;, &#x27;level&#x27;]</pre></div></div></div><div class=\"sk-serial\"><div class=\"sk-item\"><div class=\"sk-serial\"><div class=\"sk-item\"><div class=\"sk-estimator sk-toggleable\"><input class=\"sk-toggleable__control sk-hidden--visually\" id=\"sk-estimator-id-18\" type=\"checkbox\" ><label for=\"sk-estimator-id-18\" class=\"sk-toggleable__label sk-toggleable__label-arrow\">SimpleImputer</label><div class=\"sk-toggleable__content\"><pre>SimpleImputer(fill_value=&#x27;manquant&#x27;, strategy=&#x27;constant&#x27;)</pre></div></div></div><div class=\"sk-item\"><div class=\"sk-estimator sk-toggleable\"><input class=\"sk-toggleable__control sk-hidden--visually\" id=\"sk-estimator-id-19\" type=\"checkbox\" ><label for=\"sk-estimator-id-19\" class=\"sk-toggleable__label sk-toggleable__label-arrow\">OneHotEncoder</label><div class=\"sk-toggleable__content\"><pre>OneHotEncoder(handle_unknown=&#x27;ignore&#x27;)</pre></div></div></div></div></div></div></div></div></div></div><div class=\"sk-item\"><div class=\"sk-estimator sk-toggleable\"><input class=\"sk-toggleable__control sk-hidden--visually\" id=\"sk-estimator-id-20\" type=\"checkbox\" ><label for=\"sk-estimator-id-20\" class=\"sk-toggleable__label sk-toggleable__label-arrow\">SelectKBest</label><div class=\"sk-toggleable__content\"><pre>SelectKBest(score_func=&lt;function mutual_info_classif at 0x7f899792a940&gt;)</pre></div></div></div><div class=\"sk-item\"><div class=\"sk-estimator sk-toggleable\"><input class=\"sk-toggleable__control sk-hidden--visually\" id=\"sk-estimator-id-21\" type=\"checkbox\" ><label for=\"sk-estimator-id-21\" class=\"sk-toggleable__label sk-toggleable__label-arrow\">KNeighborsClassifier</label><div class=\"sk-toggleable__content\"><pre>KNeighborsClassifier()</pre></div></div></div></div></div></div></div></div></div></div></div></div>"
            ]
          },
          "metadata": {},
          "execution_count": 45
        }
      ],
      "source": [
        "grid_search.fit(X_train, y_train)"
      ]
    },
    {
      "cell_type": "code",
      "execution_count": 46,
      "id": "54a28d2c",
      "metadata": {
        "id": "54a28d2c",
        "outputId": "8ee4c82d-8194-4bd4-abed-8d3cb50a4600",
        "colab": {
          "base_uri": "https://localhost:8080/"
        }
      },
      "outputs": [
        {
          "output_type": "stream",
          "name": "stdout",
          "text": [
            "Best parameters: {'feature_selection__k': 30, 'knn__n_neighbors': 3, 'knn__weights': 'distance'}\n"
          ]
        }
      ],
      "source": [
        "0#Résultat du grid_search \"Meilleurs paramètres pour le Knn\"\n",
        "print(\"Best parameters:\", grid_search.best_params_)\n"
      ]
    },
    {
      "cell_type": "code",
      "execution_count": 47,
      "id": "97eee6ca",
      "metadata": {
        "id": "97eee6ca",
        "outputId": "a7c247b6-2fee-43be-f827-4a731de03c95",
        "colab": {
          "base_uri": "https://localhost:8080/"
        }
      },
      "outputs": [
        {
          "output_type": "stream",
          "name": "stdout",
          "text": [
            "Best score: 0.9976794028527085\n"
          ]
        }
      ],
      "source": [
        "print(\"Best score:\", grid_search.best_score_)"
      ]
    },
    {
      "cell_type": "code",
      "execution_count": 51,
      "id": "e1ba9c52",
      "metadata": {
        "id": "e1ba9c52"
      },
      "outputs": [],
      "source": [
        "# Paramètres que j'utilise après avoir fait la recherche du meilleur paramètre\n",
        "param = {'knn__n_neighbors': [3],\n",
        "            'knn__weights': ['distance'],\n",
        "        'feature_selection__k': [30]}"
      ]
    },
    {
      "cell_type": "code",
      "execution_count": 52,
      "id": "788a53a4",
      "metadata": {
        "id": "788a53a4"
      },
      "outputs": [],
      "source": [
        "gsc = GridSearchCV(knn_pipeline,\n",
        "                      param_grid=param,\n",
        "                      scoring='accuracy',\n",
        "                      cv=5)"
      ]
    },
    {
      "cell_type": "code",
      "execution_count": 53,
      "id": "b22636e4",
      "metadata": {
        "id": "b22636e4",
        "outputId": "17197103-54c8-473d-dd34-42ab5eeaf118",
        "colab": {
          "base_uri": "https://localhost:8080/",
          "height": 288
        }
      },
      "outputs": [
        {
          "output_type": "execute_result",
          "data": {
            "text/plain": [
              "GridSearchCV(cv=5,\n",
              "             estimator=Pipeline(steps=[('preprocessor',\n",
              "                                        ColumnTransformer(transformers=[('quanti',\n",
              "                                                                         Pipeline(steps=[('imputation',\n",
              "                                                                                          SimpleImputer(strategy='median')),\n",
              "                                                                                         ('standard',\n",
              "                                                                                          StandardScaler())]),\n",
              "                                                                         ['src_bytes',\n",
              "                                                                          'dst_bytes',\n",
              "                                                                          'land',\n",
              "                                                                          'wrong_fragment',\n",
              "                                                                          'urgent',\n",
              "                                                                          'hot',\n",
              "                                                                          'num_failed_logins',\n",
              "                                                                          'logged_in',\n",
              "                                                                          'num_compromised',\n",
              "                                                                          'root_shell',\n",
              "                                                                          'su_attempted',\n",
              "                                                                          'num_root'...\n",
              "                                                                                                        strategy='constant')),\n",
              "                                                                                         ('onehot',\n",
              "                                                                                          OneHotEncoder(handle_unknown='ignore'))]),\n",
              "                                                                         ['protocol_type',\n",
              "                                                                          'service',\n",
              "                                                                          'flag',\n",
              "                                                                          'level'])])),\n",
              "                                       ('feature_selection',\n",
              "                                        SelectKBest(score_func=<function mutual_info_classif at 0x7f899792a940>)),\n",
              "                                       ('knn', KNeighborsClassifier())]),\n",
              "             param_grid={'feature_selection__k': [30], 'knn__n_neighbors': [3],\n",
              "                         'knn__weights': ['distance']},\n",
              "             scoring='accuracy')"
            ],
            "text/html": [
              "<style>#sk-container-id-3 {color: black;background-color: white;}#sk-container-id-3 pre{padding: 0;}#sk-container-id-3 div.sk-toggleable {background-color: white;}#sk-container-id-3 label.sk-toggleable__label {cursor: pointer;display: block;width: 100%;margin-bottom: 0;padding: 0.3em;box-sizing: border-box;text-align: center;}#sk-container-id-3 label.sk-toggleable__label-arrow:before {content: \"▸\";float: left;margin-right: 0.25em;color: #696969;}#sk-container-id-3 label.sk-toggleable__label-arrow:hover:before {color: black;}#sk-container-id-3 div.sk-estimator:hover label.sk-toggleable__label-arrow:before {color: black;}#sk-container-id-3 div.sk-toggleable__content {max-height: 0;max-width: 0;overflow: hidden;text-align: left;background-color: #f0f8ff;}#sk-container-id-3 div.sk-toggleable__content pre {margin: 0.2em;color: black;border-radius: 0.25em;background-color: #f0f8ff;}#sk-container-id-3 input.sk-toggleable__control:checked~div.sk-toggleable__content {max-height: 200px;max-width: 100%;overflow: auto;}#sk-container-id-3 input.sk-toggleable__control:checked~label.sk-toggleable__label-arrow:before {content: \"▾\";}#sk-container-id-3 div.sk-estimator input.sk-toggleable__control:checked~label.sk-toggleable__label {background-color: #d4ebff;}#sk-container-id-3 div.sk-label input.sk-toggleable__control:checked~label.sk-toggleable__label {background-color: #d4ebff;}#sk-container-id-3 input.sk-hidden--visually {border: 0;clip: rect(1px 1px 1px 1px);clip: rect(1px, 1px, 1px, 1px);height: 1px;margin: -1px;overflow: hidden;padding: 0;position: absolute;width: 1px;}#sk-container-id-3 div.sk-estimator {font-family: monospace;background-color: #f0f8ff;border: 1px dotted black;border-radius: 0.25em;box-sizing: border-box;margin-bottom: 0.5em;}#sk-container-id-3 div.sk-estimator:hover {background-color: #d4ebff;}#sk-container-id-3 div.sk-parallel-item::after {content: \"\";width: 100%;border-bottom: 1px solid gray;flex-grow: 1;}#sk-container-id-3 div.sk-label:hover label.sk-toggleable__label {background-color: #d4ebff;}#sk-container-id-3 div.sk-serial::before {content: \"\";position: absolute;border-left: 1px solid gray;box-sizing: border-box;top: 0;bottom: 0;left: 50%;z-index: 0;}#sk-container-id-3 div.sk-serial {display: flex;flex-direction: column;align-items: center;background-color: white;padding-right: 0.2em;padding-left: 0.2em;position: relative;}#sk-container-id-3 div.sk-item {position: relative;z-index: 1;}#sk-container-id-3 div.sk-parallel {display: flex;align-items: stretch;justify-content: center;background-color: white;position: relative;}#sk-container-id-3 div.sk-item::before, #sk-container-id-3 div.sk-parallel-item::before {content: \"\";position: absolute;border-left: 1px solid gray;box-sizing: border-box;top: 0;bottom: 0;left: 50%;z-index: -1;}#sk-container-id-3 div.sk-parallel-item {display: flex;flex-direction: column;z-index: 1;position: relative;background-color: white;}#sk-container-id-3 div.sk-parallel-item:first-child::after {align-self: flex-end;width: 50%;}#sk-container-id-3 div.sk-parallel-item:last-child::after {align-self: flex-start;width: 50%;}#sk-container-id-3 div.sk-parallel-item:only-child::after {width: 0;}#sk-container-id-3 div.sk-dashed-wrapped {border: 1px dashed gray;margin: 0 0.4em 0.5em 0.4em;box-sizing: border-box;padding-bottom: 0.4em;background-color: white;}#sk-container-id-3 div.sk-label label {font-family: monospace;font-weight: bold;display: inline-block;line-height: 1.2em;}#sk-container-id-3 div.sk-label-container {text-align: center;}#sk-container-id-3 div.sk-container {/* jupyter's `normalize.less` sets `[hidden] { display: none; }` but bootstrap.min.css set `[hidden] { display: none !important; }` so we also need the `!important` here to be able to override the default hidden behavior on the sphinx rendered scikit-learn.org. See: https://github.com/scikit-learn/scikit-learn/issues/21755 */display: inline-block !important;position: relative;}#sk-container-id-3 div.sk-text-repr-fallback {display: none;}</style><div id=\"sk-container-id-3\" class=\"sk-top-container\"><div class=\"sk-text-repr-fallback\"><pre>GridSearchCV(cv=5,\n",
              "             estimator=Pipeline(steps=[(&#x27;preprocessor&#x27;,\n",
              "                                        ColumnTransformer(transformers=[(&#x27;quanti&#x27;,\n",
              "                                                                         Pipeline(steps=[(&#x27;imputation&#x27;,\n",
              "                                                                                          SimpleImputer(strategy=&#x27;median&#x27;)),\n",
              "                                                                                         (&#x27;standard&#x27;,\n",
              "                                                                                          StandardScaler())]),\n",
              "                                                                         [&#x27;src_bytes&#x27;,\n",
              "                                                                          &#x27;dst_bytes&#x27;,\n",
              "                                                                          &#x27;land&#x27;,\n",
              "                                                                          &#x27;wrong_fragment&#x27;,\n",
              "                                                                          &#x27;urgent&#x27;,\n",
              "                                                                          &#x27;hot&#x27;,\n",
              "                                                                          &#x27;num_failed_logins&#x27;,\n",
              "                                                                          &#x27;logged_in&#x27;,\n",
              "                                                                          &#x27;num_compromised&#x27;,\n",
              "                                                                          &#x27;root_shell&#x27;,\n",
              "                                                                          &#x27;su_attempted&#x27;,\n",
              "                                                                          &#x27;num_root&#x27;...\n",
              "                                                                                                        strategy=&#x27;constant&#x27;)),\n",
              "                                                                                         (&#x27;onehot&#x27;,\n",
              "                                                                                          OneHotEncoder(handle_unknown=&#x27;ignore&#x27;))]),\n",
              "                                                                         [&#x27;protocol_type&#x27;,\n",
              "                                                                          &#x27;service&#x27;,\n",
              "                                                                          &#x27;flag&#x27;,\n",
              "                                                                          &#x27;level&#x27;])])),\n",
              "                                       (&#x27;feature_selection&#x27;,\n",
              "                                        SelectKBest(score_func=&lt;function mutual_info_classif at 0x7f899792a940&gt;)),\n",
              "                                       (&#x27;knn&#x27;, KNeighborsClassifier())]),\n",
              "             param_grid={&#x27;feature_selection__k&#x27;: [30], &#x27;knn__n_neighbors&#x27;: [3],\n",
              "                         &#x27;knn__weights&#x27;: [&#x27;distance&#x27;]},\n",
              "             scoring=&#x27;accuracy&#x27;)</pre><b>In a Jupyter environment, please rerun this cell to show the HTML representation or trust the notebook. <br />On GitHub, the HTML representation is unable to render, please try loading this page with nbviewer.org.</b></div><div class=\"sk-container\" hidden><div class=\"sk-item sk-dashed-wrapped\"><div class=\"sk-label-container\"><div class=\"sk-label sk-toggleable\"><input class=\"sk-toggleable__control sk-hidden--visually\" id=\"sk-estimator-id-22\" type=\"checkbox\" ><label for=\"sk-estimator-id-22\" class=\"sk-toggleable__label sk-toggleable__label-arrow\">GridSearchCV</label><div class=\"sk-toggleable__content\"><pre>GridSearchCV(cv=5,\n",
              "             estimator=Pipeline(steps=[(&#x27;preprocessor&#x27;,\n",
              "                                        ColumnTransformer(transformers=[(&#x27;quanti&#x27;,\n",
              "                                                                         Pipeline(steps=[(&#x27;imputation&#x27;,\n",
              "                                                                                          SimpleImputer(strategy=&#x27;median&#x27;)),\n",
              "                                                                                         (&#x27;standard&#x27;,\n",
              "                                                                                          StandardScaler())]),\n",
              "                                                                         [&#x27;src_bytes&#x27;,\n",
              "                                                                          &#x27;dst_bytes&#x27;,\n",
              "                                                                          &#x27;land&#x27;,\n",
              "                                                                          &#x27;wrong_fragment&#x27;,\n",
              "                                                                          &#x27;urgent&#x27;,\n",
              "                                                                          &#x27;hot&#x27;,\n",
              "                                                                          &#x27;num_failed_logins&#x27;,\n",
              "                                                                          &#x27;logged_in&#x27;,\n",
              "                                                                          &#x27;num_compromised&#x27;,\n",
              "                                                                          &#x27;root_shell&#x27;,\n",
              "                                                                          &#x27;su_attempted&#x27;,\n",
              "                                                                          &#x27;num_root&#x27;...\n",
              "                                                                                                        strategy=&#x27;constant&#x27;)),\n",
              "                                                                                         (&#x27;onehot&#x27;,\n",
              "                                                                                          OneHotEncoder(handle_unknown=&#x27;ignore&#x27;))]),\n",
              "                                                                         [&#x27;protocol_type&#x27;,\n",
              "                                                                          &#x27;service&#x27;,\n",
              "                                                                          &#x27;flag&#x27;,\n",
              "                                                                          &#x27;level&#x27;])])),\n",
              "                                       (&#x27;feature_selection&#x27;,\n",
              "                                        SelectKBest(score_func=&lt;function mutual_info_classif at 0x7f899792a940&gt;)),\n",
              "                                       (&#x27;knn&#x27;, KNeighborsClassifier())]),\n",
              "             param_grid={&#x27;feature_selection__k&#x27;: [30], &#x27;knn__n_neighbors&#x27;: [3],\n",
              "                         &#x27;knn__weights&#x27;: [&#x27;distance&#x27;]},\n",
              "             scoring=&#x27;accuracy&#x27;)</pre></div></div></div><div class=\"sk-parallel\"><div class=\"sk-parallel-item\"><div class=\"sk-item\"><div class=\"sk-label-container\"><div class=\"sk-label sk-toggleable\"><input class=\"sk-toggleable__control sk-hidden--visually\" id=\"sk-estimator-id-23\" type=\"checkbox\" ><label for=\"sk-estimator-id-23\" class=\"sk-toggleable__label sk-toggleable__label-arrow\">estimator: Pipeline</label><div class=\"sk-toggleable__content\"><pre>Pipeline(steps=[(&#x27;preprocessor&#x27;,\n",
              "                 ColumnTransformer(transformers=[(&#x27;quanti&#x27;,\n",
              "                                                  Pipeline(steps=[(&#x27;imputation&#x27;,\n",
              "                                                                   SimpleImputer(strategy=&#x27;median&#x27;)),\n",
              "                                                                  (&#x27;standard&#x27;,\n",
              "                                                                   StandardScaler())]),\n",
              "                                                  [&#x27;src_bytes&#x27;, &#x27;dst_bytes&#x27;,\n",
              "                                                   &#x27;land&#x27;, &#x27;wrong_fragment&#x27;,\n",
              "                                                   &#x27;urgent&#x27;, &#x27;hot&#x27;,\n",
              "                                                   &#x27;num_failed_logins&#x27;,\n",
              "                                                   &#x27;logged_in&#x27;,\n",
              "                                                   &#x27;num_compromised&#x27;,\n",
              "                                                   &#x27;root_shell&#x27;, &#x27;su_attempted&#x27;,\n",
              "                                                   &#x27;num_root&#x27;,\n",
              "                                                   &#x27;num_file_creations&#x27;,\n",
              "                                                   &#x27;num_s...\n",
              "                                                   &#x27;dst_host_diff_srv_rate&#x27;, ...]),\n",
              "                                                 (&#x27;quali&#x27;,\n",
              "                                                  Pipeline(steps=[(&#x27;imputation&#x27;,\n",
              "                                                                   SimpleImputer(fill_value=&#x27;manquant&#x27;,\n",
              "                                                                                 strategy=&#x27;constant&#x27;)),\n",
              "                                                                  (&#x27;onehot&#x27;,\n",
              "                                                                   OneHotEncoder(handle_unknown=&#x27;ignore&#x27;))]),\n",
              "                                                  [&#x27;protocol_type&#x27;, &#x27;service&#x27;,\n",
              "                                                   &#x27;flag&#x27;, &#x27;level&#x27;])])),\n",
              "                (&#x27;feature_selection&#x27;,\n",
              "                 SelectKBest(score_func=&lt;function mutual_info_classif at 0x7f899792a940&gt;)),\n",
              "                (&#x27;knn&#x27;, KNeighborsClassifier())])</pre></div></div></div><div class=\"sk-serial\"><div class=\"sk-item\"><div class=\"sk-serial\"><div class=\"sk-item sk-dashed-wrapped\"><div class=\"sk-label-container\"><div class=\"sk-label sk-toggleable\"><input class=\"sk-toggleable__control sk-hidden--visually\" id=\"sk-estimator-id-24\" type=\"checkbox\" ><label for=\"sk-estimator-id-24\" class=\"sk-toggleable__label sk-toggleable__label-arrow\">preprocessor: ColumnTransformer</label><div class=\"sk-toggleable__content\"><pre>ColumnTransformer(transformers=[(&#x27;quanti&#x27;,\n",
              "                                 Pipeline(steps=[(&#x27;imputation&#x27;,\n",
              "                                                  SimpleImputer(strategy=&#x27;median&#x27;)),\n",
              "                                                 (&#x27;standard&#x27;,\n",
              "                                                  StandardScaler())]),\n",
              "                                 [&#x27;src_bytes&#x27;, &#x27;dst_bytes&#x27;, &#x27;land&#x27;,\n",
              "                                  &#x27;wrong_fragment&#x27;, &#x27;urgent&#x27;, &#x27;hot&#x27;,\n",
              "                                  &#x27;num_failed_logins&#x27;, &#x27;logged_in&#x27;,\n",
              "                                  &#x27;num_compromised&#x27;, &#x27;root_shell&#x27;,\n",
              "                                  &#x27;su_attempted&#x27;, &#x27;num_root&#x27;,\n",
              "                                  &#x27;num_file_creations&#x27;, &#x27;num_shells&#x27;,\n",
              "                                  &#x27;num_access_files&#x27;, &#x27;is_ho...\n",
              "                                  &#x27;rerror_rate&#x27;, &#x27;srv_rerror_rate&#x27;,\n",
              "                                  &#x27;same_srv_rate&#x27;, &#x27;diff_srv_rate&#x27;,\n",
              "                                  &#x27;srv_diff_host_rate&#x27;, &#x27;dst_host_count&#x27;,\n",
              "                                  &#x27;dst_host_srv_count&#x27;,\n",
              "                                  &#x27;dst_host_same_srv_rate&#x27;,\n",
              "                                  &#x27;dst_host_diff_srv_rate&#x27;, ...]),\n",
              "                                (&#x27;quali&#x27;,\n",
              "                                 Pipeline(steps=[(&#x27;imputation&#x27;,\n",
              "                                                  SimpleImputer(fill_value=&#x27;manquant&#x27;,\n",
              "                                                                strategy=&#x27;constant&#x27;)),\n",
              "                                                 (&#x27;onehot&#x27;,\n",
              "                                                  OneHotEncoder(handle_unknown=&#x27;ignore&#x27;))]),\n",
              "                                 [&#x27;protocol_type&#x27;, &#x27;service&#x27;, &#x27;flag&#x27;,\n",
              "                                  &#x27;level&#x27;])])</pre></div></div></div><div class=\"sk-parallel\"><div class=\"sk-parallel-item\"><div class=\"sk-item\"><div class=\"sk-label-container\"><div class=\"sk-label sk-toggleable\"><input class=\"sk-toggleable__control sk-hidden--visually\" id=\"sk-estimator-id-25\" type=\"checkbox\" ><label for=\"sk-estimator-id-25\" class=\"sk-toggleable__label sk-toggleable__label-arrow\">quanti</label><div class=\"sk-toggleable__content\"><pre>[&#x27;src_bytes&#x27;, &#x27;dst_bytes&#x27;, &#x27;land&#x27;, &#x27;wrong_fragment&#x27;, &#x27;urgent&#x27;, &#x27;hot&#x27;, &#x27;num_failed_logins&#x27;, &#x27;logged_in&#x27;, &#x27;num_compromised&#x27;, &#x27;root_shell&#x27;, &#x27;su_attempted&#x27;, &#x27;num_root&#x27;, &#x27;num_file_creations&#x27;, &#x27;num_shells&#x27;, &#x27;num_access_files&#x27;, &#x27;is_host_login&#x27;, &#x27;is_guest_login&#x27;, &#x27;count&#x27;, &#x27;srv_count&#x27;, &#x27;serror_rate&#x27;, &#x27;srv_serror_rate&#x27;, &#x27;rerror_rate&#x27;, &#x27;srv_rerror_rate&#x27;, &#x27;same_srv_rate&#x27;, &#x27;diff_srv_rate&#x27;, &#x27;srv_diff_host_rate&#x27;, &#x27;dst_host_count&#x27;, &#x27;dst_host_srv_count&#x27;, &#x27;dst_host_same_srv_rate&#x27;, &#x27;dst_host_diff_srv_rate&#x27;, &#x27;dst_host_same_src_port_rate&#x27;, &#x27;dst_host_srv_diff_host_rate&#x27;, &#x27;dst_host_serror_rate&#x27;, &#x27;dst_host_srv_serror_rate&#x27;, &#x27;dst_host_rerror_rate&#x27;, &#x27;dst_host_srv_rerror_rate&#x27;]</pre></div></div></div><div class=\"sk-serial\"><div class=\"sk-item\"><div class=\"sk-serial\"><div class=\"sk-item\"><div class=\"sk-estimator sk-toggleable\"><input class=\"sk-toggleable__control sk-hidden--visually\" id=\"sk-estimator-id-26\" type=\"checkbox\" ><label for=\"sk-estimator-id-26\" class=\"sk-toggleable__label sk-toggleable__label-arrow\">SimpleImputer</label><div class=\"sk-toggleable__content\"><pre>SimpleImputer(strategy=&#x27;median&#x27;)</pre></div></div></div><div class=\"sk-item\"><div class=\"sk-estimator sk-toggleable\"><input class=\"sk-toggleable__control sk-hidden--visually\" id=\"sk-estimator-id-27\" type=\"checkbox\" ><label for=\"sk-estimator-id-27\" class=\"sk-toggleable__label sk-toggleable__label-arrow\">StandardScaler</label><div class=\"sk-toggleable__content\"><pre>StandardScaler()</pre></div></div></div></div></div></div></div></div><div class=\"sk-parallel-item\"><div class=\"sk-item\"><div class=\"sk-label-container\"><div class=\"sk-label sk-toggleable\"><input class=\"sk-toggleable__control sk-hidden--visually\" id=\"sk-estimator-id-28\" type=\"checkbox\" ><label for=\"sk-estimator-id-28\" class=\"sk-toggleable__label sk-toggleable__label-arrow\">quali</label><div class=\"sk-toggleable__content\"><pre>[&#x27;protocol_type&#x27;, &#x27;service&#x27;, &#x27;flag&#x27;, &#x27;level&#x27;]</pre></div></div></div><div class=\"sk-serial\"><div class=\"sk-item\"><div class=\"sk-serial\"><div class=\"sk-item\"><div class=\"sk-estimator sk-toggleable\"><input class=\"sk-toggleable__control sk-hidden--visually\" id=\"sk-estimator-id-29\" type=\"checkbox\" ><label for=\"sk-estimator-id-29\" class=\"sk-toggleable__label sk-toggleable__label-arrow\">SimpleImputer</label><div class=\"sk-toggleable__content\"><pre>SimpleImputer(fill_value=&#x27;manquant&#x27;, strategy=&#x27;constant&#x27;)</pre></div></div></div><div class=\"sk-item\"><div class=\"sk-estimator sk-toggleable\"><input class=\"sk-toggleable__control sk-hidden--visually\" id=\"sk-estimator-id-30\" type=\"checkbox\" ><label for=\"sk-estimator-id-30\" class=\"sk-toggleable__label sk-toggleable__label-arrow\">OneHotEncoder</label><div class=\"sk-toggleable__content\"><pre>OneHotEncoder(handle_unknown=&#x27;ignore&#x27;)</pre></div></div></div></div></div></div></div></div></div></div><div class=\"sk-item\"><div class=\"sk-estimator sk-toggleable\"><input class=\"sk-toggleable__control sk-hidden--visually\" id=\"sk-estimator-id-31\" type=\"checkbox\" ><label for=\"sk-estimator-id-31\" class=\"sk-toggleable__label sk-toggleable__label-arrow\">SelectKBest</label><div class=\"sk-toggleable__content\"><pre>SelectKBest(score_func=&lt;function mutual_info_classif at 0x7f899792a940&gt;)</pre></div></div></div><div class=\"sk-item\"><div class=\"sk-estimator sk-toggleable\"><input class=\"sk-toggleable__control sk-hidden--visually\" id=\"sk-estimator-id-32\" type=\"checkbox\" ><label for=\"sk-estimator-id-32\" class=\"sk-toggleable__label sk-toggleable__label-arrow\">KNeighborsClassifier</label><div class=\"sk-toggleable__content\"><pre>KNeighborsClassifier()</pre></div></div></div></div></div></div></div></div></div></div></div></div>"
            ]
          },
          "metadata": {},
          "execution_count": 53
        }
      ],
      "source": [
        "gsc.fit(X_train, y_train)"
      ]
    },
    {
      "cell_type": "code",
      "execution_count": 54,
      "id": "9c87a73c",
      "metadata": {
        "id": "9c87a73c"
      },
      "outputs": [],
      "source": [
        "knn_pred = gsc.predict(X_test)"
      ]
    },
    {
      "cell_type": "code",
      "execution_count": 55,
      "id": "06db684f",
      "metadata": {
        "id": "06db684f",
        "outputId": "b4268596-90ea-4667-c803-ab21dfbde220",
        "colab": {
          "base_uri": "https://localhost:8080/"
        }
      },
      "outputs": [
        {
          "output_type": "execute_result",
          "data": {
            "text/plain": [
              "array([0, 0, 0, ..., 0, 0, 0])"
            ]
          },
          "metadata": {},
          "execution_count": 55
        }
      ],
      "source": [
        "knn_pred"
      ]
    },
    {
      "cell_type": "markdown",
      "id": "cb0d71b1",
      "metadata": {
        "id": "cb0d71b1"
      },
      "source": [
        "## 6 Résultat du model"
      ]
    },
    {
      "cell_type": "code",
      "execution_count": 56,
      "id": "863f082a",
      "metadata": {
        "id": "863f082a"
      },
      "outputs": [],
      "source": [
        "accuracy = accuracy_score(y_test, knn_pred)"
      ]
    },
    {
      "cell_type": "code",
      "execution_count": 57,
      "id": "4c2b8b7c",
      "metadata": {
        "id": "4c2b8b7c",
        "outputId": "54ed5638-4b62-4acb-f139-338c457065f0",
        "colab": {
          "base_uri": "https://localhost:8080/"
        }
      },
      "outputs": [
        {
          "output_type": "stream",
          "name": "stdout",
          "text": [
            "L'accuracy est de: 99.79898309093059\n"
          ]
        }
      ],
      "source": [
        "print(\"L'accuracy est de:\",accuracy*100)"
      ]
    },
    {
      "cell_type": "markdown",
      "id": "6523a9e2",
      "metadata": {
        "id": "6523a9e2"
      },
      "source": [
        "## 7 Confusion de matrice et un rapport de classification"
      ]
    },
    {
      "cell_type": "code",
      "execution_count": 62,
      "id": "7a435a66",
      "metadata": {
        "id": "7a435a66",
        "outputId": "4a7ff751-40df-4c40-beaf-68ae33aeaa55",
        "colab": {
          "base_uri": "https://localhost:8080/",
          "height": 458
        }
      },
      "outputs": [
        {
          "output_type": "display_data",
          "data": {
            "text/plain": [
              "<Figure size 640x480 with 2 Axes>"
            ],
            "image/png": "[encoded data removed]"
          },
          "metadata": {}
        }
      ],
      "source": [
        "# générer la confusion de matrice\n",
        "cm = confusion_matrix(y_test, knn_pred)\n",
        "\n",
        "# TRacer la matrice de confusion sous forme\n",
        "plt.imshow(cm, interpolation='nearest', cmap=plt.cm.Blues)\n",
        "plt.colorbar()\n",
        "\n",
        "# Ajouter des étiquettes au tracé\n",
        "tick_marks = np.arange(len(np.unique(y)))\n",
        "plt.xticks(tick_marks, np.unique(y))\n",
        "plt.yticks(tick_marks, np.unique(y))\n",
        "plt.xlabel('Predicted label')\n",
        "plt.ylabel('True label')\n",
        "\n",
        "# Ajouter des valeurs dans le graphique\n",
        "thresh = cm.max() / 2\n",
        "for i, j in itertools.product(range(cm.shape[0]), range(cm.shape[1])):\n",
        "    plt.text(j, i, cm[i, j],\n",
        "             horizontalalignment=\"center\",\n",
        "             color=\"white\" if cm[i, j] > thresh else \"black\")\n",
        "\n",
        "plt.show()"
      ]
    },
    {
      "cell_type": "code",
      "source": [
        "print(classification_report(y_test, knn_pred))"
      ],
      "metadata": {
        "id": "yZSVQx7QykIv",
        "outputId": "f1427569-56b4-4710-8f74-4565cfdc3c73",
        "colab": {
          "base_uri": "https://localhost:8080/"
        }
      },
      "id": "yZSVQx7QykIv",
      "execution_count": 63,
      "outputs": [
        {
          "output_type": "stream",
          "name": "stdout",
          "text": [
            "              precision    recall  f1-score   support\n",
            "\n",
            "           0       1.00      1.00      1.00     15401\n",
            "           1       0.99      0.99      0.99      1513\n",
            "\n",
            "    accuracy                           1.00     16914\n",
            "   macro avg       0.99      0.99      0.99     16914\n",
            "weighted avg       1.00      1.00      1.00     16914\n",
            "\n"
          ]
        }
      ]
    }
  ],
  "metadata": {
    "kernelspec": {
      "display_name": "Python 3 (ipykernel)",
      "language": "python",
      "name": "python3"
    },
    "language_info": {
      "codemirror_mode": {
        "name": "ipython",
        "version": 3
      },
      "file_extension": ".py",
      "mimetype": "text/x-python",
      "name": "python",
      "nbconvert_exporter": "python",
      "pygments_lexer": "ipython3",
      "version": "3.9.13"
    },
    "colab": {
      "provenance": [],
      "toc_visible": true
    }
  },
  "nbformat": 4,
  "nbformat_minor": 5
}